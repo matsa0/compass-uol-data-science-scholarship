{
 "cells": [
  {
   "cell_type": "code",
   "execution_count": 6,
   "id": "f960895f-374a-4683-be6b-42923c465997",
   "metadata": {},
   "outputs": [],
   "source": [
    "import numpy as np\n",
    "import cv2\n",
    "import matplotlib.pyplot as plt\n",
    "import os"
   ]
  },
  {
   "cell_type": "code",
   "execution_count": 7,
   "id": "72873301-54b7-4763-841b-4dd69343215b",
   "metadata": {},
   "outputs": [],
   "source": [
    "img = cv2.imread('../data/flying_bird.jpg')"
   ]
  },
  {
   "cell_type": "code",
   "execution_count": null,
   "id": "da203dd8-f237-48cf-9b2f-b16aabc126a4",
   "metadata": {},
   "outputs": [],
   "source": [
    "cv2.imshow('original',img)\n",
    "cv2.waitKey(0)  # Pequeno delay\n",
    "cv2.destroyAllWindows()"
   ]
  },
  {
   "cell_type": "code",
   "execution_count": null,
   "id": "fac4fea1-43e1-45fd-b3ae-3ad305f8df72",
   "metadata": {},
   "outputs": [],
   "source": [
    "print(img.shape)"
   ]
  },
  {
   "cell_type": "markdown",
   "id": "dfbcee11-a563-4bab-95fd-a98efcba07e6",
   "metadata": {},
   "source": [
    "# Shrinking Image"
   ]
  },
  {
   "cell_type": "code",
   "execution_count": null,
   "id": "6299dd69-cdcb-4cce-8b31-154109c4598e",
   "metadata": {},
   "outputs": [],
   "source": [
    "# width = columns , height = rows\n",
    "# reduzindo para 320 colunas e 240 linhas\n",
    "img_shrink = cv2.resize(img,dsize=(320,240),interpolation=cv2.INTER_AREA)"
   ]
  },
  {
   "cell_type": "code",
   "execution_count": null,
   "id": "654fe5fd-e4d5-4009-acb2-252de996dca1",
   "metadata": {},
   "outputs": [],
   "source": [
    "# cv2.INTER_CUBIC, cv2.INTER_LINEAR\n",
    "img_zoom = cv2.resize(img,dsize=(1280,960),interpolation=cv2.INTER_CUBIC)"
   ]
  },
  {
   "cell_type": "code",
   "execution_count": null,
   "id": "c7e429d2-da17-4c42-9d96-8cb3492fb8a8",
   "metadata": {},
   "outputs": [],
   "source": [
    "img_shrink.shape, img_zoom.shape"
   ]
  },
  {
   "cell_type": "code",
   "execution_count": null,
   "id": "136ccc71-2f98-4bc9-86b6-6d9577e41a11",
   "metadata": {},
   "outputs": [],
   "source": [
    "plt.imshow(img_shrink)\n",
    "plt.axis('off')\n",
    "plt.show()"
   ]
  },
  {
   "cell_type": "code",
   "execution_count": null,
   "id": "1d8a7e54-59cb-4eb8-b4c7-01ad0e01efa9",
   "metadata": {},
   "outputs": [],
   "source": [
    "plt.imshow(img_zoom)\n",
    "plt.axis('off')\n",
    "plt.show()"
   ]
  },
  {
   "cell_type": "code",
   "execution_count": null,
   "id": "cd253fdb-5c08-4a34-a06a-70fb5557b434",
   "metadata": {},
   "outputs": [],
   "source": [
    "cv2.imshow(img_shrink)"
   ]
  },
  {
   "cell_type": "code",
   "execution_count": 2,
   "id": "6edaee77-07c3-469b-9954-9a76fcc140a6",
   "metadata": {},
   "outputs": [],
   "source": [
    "# Não consegui resolver o problema da função imshow do cv2 não funcionar no meu sistema"
   ]
  },
  {
   "cell_type": "code",
   "execution_count": null,
   "id": "452426d9-9876-422e-a867-600398eafd22",
   "metadata": {},
   "outputs": [],
   "source": []
  }
 ],
 "metadata": {
  "kernelspec": {
   "display_name": "Python 3 (ipykernel)",
   "language": "python",
   "name": "python3"
  },
  "language_info": {
   "codemirror_mode": {
    "name": "ipython",
    "version": 3
   },
   "file_extension": ".py",
   "mimetype": "text/x-python",
   "name": "python",
   "nbconvert_exporter": "python",
   "pygments_lexer": "ipython3",
   "version": "3.11.11"
  }
 },
 "nbformat": 4,
 "nbformat_minor": 5
}
