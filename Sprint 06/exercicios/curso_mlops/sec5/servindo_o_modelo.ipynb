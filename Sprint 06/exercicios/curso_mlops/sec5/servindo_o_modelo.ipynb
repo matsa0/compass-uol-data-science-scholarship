{
 "cells": [
  {
   "cell_type": "code",
   "execution_count": 20,
   "id": "d4425367-fec0-499d-8caf-24b6daa8e5c1",
   "metadata": {},
   "outputs": [],
   "source": [
    "import requests\n",
    "import pandas as pd\n",
    "import json"
   ]
  },
  {
   "cell_type": "code",
   "execution_count": 21,
   "id": "7094fe89-0e85-4e4d-9e8d-7f539e25d77b",
   "metadata": {},
   "outputs": [],
   "source": [
    "credit = pd.read_csv(\"../Credit.csv\")"
   ]
  },
  {
   "cell_type": "code",
   "execution_count": 22,
   "id": "a59fc861-3d07-4ea3-bcd8-5a87e5d7c85a",
   "metadata": {},
   "outputs": [],
   "source": [
    "for col in credit.columns:\n",
    "    if credit[col].dtype == 'object':\n",
    "        credit[col] = credit[col].astype('category').cat.codes"
   ]
  },
  {
   "cell_type": "code",
   "execution_count": 25,
   "id": "99930e7c-a9f5-4d63-8282-e380326b275b",
   "metadata": {},
   "outputs": [],
   "source": [
    "data = json.dumps({\"dataframe_split\": credit.iloc[:10,:20].to_dict(orient='split')})"
   ]
  },
  {
   "cell_type": "code",
   "execution_count": 26,
   "id": "c1184128-a5c3-4b72-b296-0a9e078a7e51",
   "metadata": {},
   "outputs": [
    {
     "data": {
      "text/plain": [
       "'{\"dataframe_split\": {\"index\": [0, 1, 2, 3, 4, 5, 6, 7, 8, 9], \"columns\": [\"checking_status\", \"duration\", \"credit_history\", \"purpose\", \"credit_amount\", \"savings_status\", \"employment\", \"installment_commitment\", \"personal_status\", \"other_parties\", \"residence_since\", \"property_magnitude\", \"age\", \"other_payment_plans\", \"housing\", \"existing_credits\", \"job\", \"num_dependents\", \"own_telephone\", \"foreign_worker\"], \"data\": [[2, 6, 1, 7, 1169, 0, 3, 4, 3, 2, 4, 2, 67, 1, 1, 2, 3, 1, 1, 1], [1, 48, 3, 7, 5951, 3, 0, 2, 0, 2, 2, 2, 22, 1, 1, 1, 3, 1, 0, 1], [0, 12, 1, 4, 2096, 3, 1, 2, 3, 2, 3, 2, 49, 1, 1, 1, 2, 2, 0, 1], [2, 42, 3, 5, 7882, 3, 1, 2, 3, 1, 4, 0, 45, 1, 0, 1, 3, 2, 0, 1], [2, 24, 2, 1, 4870, 3, 0, 3, 3, 2, 4, 1, 53, 1, 0, 2, 3, 2, 0, 1], [0, 36, 3, 4, 9055, 0, 0, 2, 3, 2, 4, 1, 35, 1, 0, 1, 2, 2, 1, 1], [0, 24, 3, 5, 2835, 2, 3, 3, 3, 2, 4, 0, 53, 1, 1, 1, 3, 1, 0, 1], [1, 36, 3, 2, 6948, 3, 0, 2, 3, 2, 2, 3, 35, 1, 2, 1, 0, 1, 1, 1], [0, 12, 3, 7, 3059, 4, 1, 2, 1, 2, 4, 2, 61, 1, 1, 1, 2, 1, 0, 1], [1, 30, 1, 1, 5234, 3, 4, 4, 2, 2, 2, 3, 28, 1, 1, 2, 0, 1, 0, 1]]}}'"
      ]
     },
     "execution_count": 26,
     "metadata": {},
     "output_type": "execute_result"
    }
   ],
   "source": [
    "data"
   ]
  },
  {
   "cell_type": "code",
   "execution_count": 27,
   "id": "be8c84fb-2af6-4237-bb13-e7a283b72b65",
   "metadata": {},
   "outputs": [],
   "source": [
    "prevs = requests.post(url='http://127.0.0.1:2345/invocations', \n",
    "                      headers={'Content-Type': 'application/json'},\n",
    "                      data=data)"
   ]
  },
  {
   "cell_type": "code",
   "execution_count": 28,
   "id": "3cee8cc2-0ebf-479f-bde0-dd564d187514",
   "metadata": {},
   "outputs": [
    {
     "data": {
      "text/plain": [
       "<Response [200]>"
      ]
     },
     "execution_count": 28,
     "metadata": {},
     "output_type": "execute_result"
    }
   ],
   "source": [
    "prevs"
   ]
  },
  {
   "cell_type": "code",
   "execution_count": 29,
   "id": "03caba21-7e60-493f-9363-428c57b8eed7",
   "metadata": {},
   "outputs": [
    {
     "data": {
      "text/plain": [
       "'{\"predictions\": [1, 0, 1, 0, 0, 1, 1, 1, 1, 0]}'"
      ]
     },
     "execution_count": 29,
     "metadata": {},
     "output_type": "execute_result"
    }
   ],
   "source": [
    "prevs.text"
   ]
  },
  {
   "cell_type": "code",
   "execution_count": null,
   "id": "4052c96f-8985-49c0-8b3f-7c6c772e5913",
   "metadata": {},
   "outputs": [],
   "source": []
  }
 ],
 "metadata": {
  "kernelspec": {
   "display_name": "Python 3 (ipykernel)",
   "language": "python",
   "name": "python3"
  },
  "language_info": {
   "codemirror_mode": {
    "name": "ipython",
    "version": 3
   },
   "file_extension": ".py",
   "mimetype": "text/x-python",
   "name": "python",
   "nbconvert_exporter": "python",
   "pygments_lexer": "ipython3",
   "version": "3.11.11"
  }
 },
 "nbformat": 4,
 "nbformat_minor": 5
}
