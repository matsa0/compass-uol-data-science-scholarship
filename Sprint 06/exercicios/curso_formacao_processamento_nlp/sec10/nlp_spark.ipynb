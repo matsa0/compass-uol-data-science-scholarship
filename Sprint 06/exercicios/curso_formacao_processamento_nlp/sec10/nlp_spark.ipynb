{
 "cells": [
  {
   "cell_type": "markdown",
   "metadata": {
    "application/vnd.databricks.v1+cell": {
     "cellMetadata": {},
     "inputWidgets": {},
     "nuid": "6d92002b-e3f7-4e07-a92a-429723f28751",
     "showTitle": false,
     "tableResultSettingsMap": {},
     "title": ""
    }
   },
   "source": [
    "NLP com SPARK"
   ]
  },
  {
   "cell_type": "code",
   "execution_count": 0,
   "metadata": {
    "application/vnd.databricks.v1+cell": {
     "cellMetadata": {
      "byteLimit": 2048000,
      "rowLimit": 10000
     },
     "inputWidgets": {},
     "nuid": "eaa372ed-c021-46f9-8b2a-805501310985",
     "showTitle": false,
     "tableResultSettingsMap": {},
     "title": ""
    }
   },
   "outputs": [],
   "source": [
    "from pyspark.sql import SparkSession\n",
    "from pyspark.ml.classification import RandomForestClassifier\n",
    "from pyspark.ml.feature import Tokenizer, StringIndexer, Word2Vec\n",
    "spark = SparkSession.builder.appName(\"nlp\").getOrCreate()"
   ]
  },
  {
   "cell_type": "code",
   "execution_count": 0,
   "metadata": {
    "application/vnd.databricks.v1+cell": {
     "cellMetadata": {
      "byteLimit": 2048000,
      "rowLimit": 10000
     },
     "inputWidgets": {},
     "nuid": "ae89352c-d1a7-46db-8d50-d48b22bf9b5d",
     "showTitle": false,
     "tableResultSettingsMap": {},
     "title": ""
    }
   },
   "outputs": [],
   "source": [
    "#transformando a tabela spam em dataframe\n",
    "spam = spark.sql(\"select * from spam\")"
   ]
  },
  {
   "cell_type": "code",
   "execution_count": 0,
   "metadata": {
    "application/vnd.databricks.v1+cell": {
     "cellMetadata": {
      "byteLimit": 2048000,
      "rowLimit": 10000
     },
     "inputWidgets": {},
     "nuid": "bc62b427-117c-43ff-a8c7-bb0ab2e5ca2e",
     "showTitle": false,
     "tableResultSettingsMap": {},
     "title": ""
    }
   },
   "outputs": [
    {
     "output_type": "stream",
     "name": "stdout",
     "output_type": "stream",
     "text": [
      "+--------+--------------------+\n|Category|             Message|\n+--------+--------------------+\n|     ham|Go until jurong p...|\n|     ham|Ok lar... Joking ...|\n|    spam|Free entry in 2 a...|\n|     ham|U dun say so earl...|\n|     ham|Nah I don't think...|\n+--------+--------------------+\nonly showing top 5 rows\n\n"
     ]
    }
   ],
   "source": [
    "spam.show(5)"
   ]
  },
  {
   "cell_type": "markdown",
   "metadata": {
    "application/vnd.databricks.v1+cell": {
     "cellMetadata": {},
     "inputWidgets": {},
     "nuid": "dc3bab0c-cf19-4c97-9211-9a9dfaa8bcce",
     "showTitle": false,
     "tableResultSettingsMap": {},
     "title": ""
    }
   },
   "source": [
    "Transformação da variável Category"
   ]
  },
  {
   "cell_type": "code",
   "execution_count": 0,
   "metadata": {
    "application/vnd.databricks.v1+cell": {
     "cellMetadata": {
      "byteLimit": 2048000,
      "rowLimit": 10000
     },
     "inputWidgets": {},
     "nuid": "12931008-64c6-4b08-8fcd-a3ff4024f023",
     "showTitle": false,
     "tableResultSettingsMap": {},
     "title": ""
    }
   },
   "outputs": [],
   "source": [
    "stringmodel = StringIndexer(inputCol=\"Category\", outputCol=\"CategoryIndex\")\n",
    "new_spam = stringmodel.fit(spam).transform(spam)"
   ]
  },
  {
   "cell_type": "code",
   "execution_count": 0,
   "metadata": {
    "application/vnd.databricks.v1+cell": {
     "cellMetadata": {
      "byteLimit": 2048000,
      "rowLimit": 10000
     },
     "inputWidgets": {},
     "nuid": "342e7d01-6b7b-4f6f-a625-5554260af41d",
     "showTitle": false,
     "tableResultSettingsMap": {},
     "title": ""
    }
   },
   "outputs": [
    {
     "output_type": "stream",
     "name": "stdout",
     "output_type": "stream",
     "text": [
      "+--------+--------------------+-------------+\n|Category|             Message|CategoryIndex|\n+--------+--------------------+-------------+\n|     ham|Go until jurong p...|          0.0|\n|     ham|Ok lar... Joking ...|          0.0|\n|    spam|Free entry in 2 a...|          1.0|\n|     ham|U dun say so earl...|          0.0|\n|     ham|Nah I don't think...|          0.0|\n+--------+--------------------+-------------+\nonly showing top 5 rows\n\n"
     ]
    }
   ],
   "source": [
    "new_spam.show(5)"
   ]
  },
  {
   "cell_type": "markdown",
   "metadata": {
    "application/vnd.databricks.v1+cell": {
     "cellMetadata": {},
     "inputWidgets": {},
     "nuid": "a684c2e2-5179-43d0-8de3-a36b168ed7da",
     "showTitle": false,
     "tableResultSettingsMap": {},
     "title": ""
    }
   },
   "source": [
    "Transformando a variável Mesasge para Tokens"
   ]
  },
  {
   "cell_type": "code",
   "execution_count": 0,
   "metadata": {
    "application/vnd.databricks.v1+cell": {
     "cellMetadata": {
      "byteLimit": 2048000,
      "rowLimit": 10000
     },
     "inputWidgets": {},
     "nuid": "0aa13e3e-4e22-468b-851b-25be2045b2fc",
     "showTitle": false,
     "tableResultSettingsMap": {},
     "title": ""
    }
   },
   "outputs": [],
   "source": [
    "tokens = Tokenizer(inputCol=\"Message\", outputCol=\"MessageToken\")\n",
    "new_spam = tokens.transform(new_spam)"
   ]
  },
  {
   "cell_type": "code",
   "execution_count": 0,
   "metadata": {
    "application/vnd.databricks.v1+cell": {
     "cellMetadata": {
      "byteLimit": 2048000,
      "rowLimit": 10000
     },
     "inputWidgets": {},
     "nuid": "d56b8aa7-3606-49b6-86ae-da9887882b9e",
     "showTitle": false,
     "tableResultSettingsMap": {},
     "title": ""
    }
   },
   "outputs": [
    {
     "output_type": "stream",
     "name": "stdout",
     "output_type": "stream",
     "text": [
      "+--------+--------------------+-------------+--------------------+\n|Category|             Message|CategoryIndex|        MessageToken|\n+--------+--------------------+-------------+--------------------+\n|     ham|Go until jurong p...|          0.0|[go, until, juron...|\n|     ham|Ok lar... Joking ...|          0.0|[ok, lar..., joki...|\n|    spam|Free entry in 2 a...|          1.0|[free, entry, in,...|\n|     ham|U dun say so earl...|          0.0|[u, dun, say, so,...|\n|     ham|Nah I don't think...|          0.0|[nah, i, don't, t...|\n+--------+--------------------+-------------+--------------------+\nonly showing top 5 rows\n\n"
     ]
    }
   ],
   "source": [
    "new_spam.show(5)"
   ]
  },
  {
   "cell_type": "code",
   "execution_count": 0,
   "metadata": {
    "application/vnd.databricks.v1+cell": {
     "cellMetadata": {
      "byteLimit": 2048000,
      "rowLimit": 10000
     },
     "inputWidgets": {},
     "nuid": "7f12671d-2b40-49f2-bc1f-1fee178282fd",
     "showTitle": false,
     "tableResultSettingsMap": {},
     "title": ""
    }
   },
   "outputs": [
    {
     "output_type": "stream",
     "name": "stdout",
     "output_type": "stream",
     "text": [
      "+--------------------+\n|        MessageToken|\n+--------------------+\n|[go, until, juron...|\n|[ok, lar..., joki...|\n|[free, entry, in,...|\n|[u, dun, say, so,...|\n|[nah, i, don't, t...|\n|[freemsg, hey, th...|\n|[even, my, brothe...|\n|[as, per, your, r...|\n|[winner!!, as, a,...|\n|[had, your, mobil...|\n|[i'm, gonna, be, ...|\n|[six, chances, to...|\n|[urgent!, you, ha...|\n|[i've, been, sear...|\n|[i, have, a, date...|\n|[xxxmobilemoviecl...|\n|[oh, k...i'm, wat...|\n|[eh, u, remember,...|\n|[fine, if, thats...|\n|[england, v, mace...|\n+--------------------+\nonly showing top 20 rows\n\n"
     ]
    }
   ],
   "source": [
    "new_spam.select(\"MessageToken\").show()"
   ]
  },
  {
   "cell_type": "markdown",
   "metadata": {
    "application/vnd.databricks.v1+cell": {
     "cellMetadata": {},
     "inputWidgets": {},
     "nuid": "97e195bb-11df-47d4-a834-40f3fa34fa08",
     "showTitle": false,
     "tableResultSettingsMap": {},
     "title": ""
    }
   },
   "source": [
    "Utilizando Word2vec para representação vetorial (embedding)"
   ]
  },
  {
   "cell_type": "code",
   "execution_count": 0,
   "metadata": {
    "application/vnd.databricks.v1+cell": {
     "cellMetadata": {
      "byteLimit": 2048000,
      "rowLimit": 10000
     },
     "inputWidgets": {},
     "nuid": "7c20d84e-c2a2-44b1-ac1d-6752d1d59b8f",
     "showTitle": false,
     "tableResultSettingsMap": {},
     "title": ""
    }
   },
   "outputs": [],
   "source": [
    "word2vec = Word2Vec(inputCol=\"MessageToken\", outputCol=\"MessageW2V\")\n",
    "new_spam = word2vec.fit(new_spam).transform(new_spam)"
   ]
  },
  {
   "cell_type": "code",
   "execution_count": 0,
   "metadata": {
    "application/vnd.databricks.v1+cell": {
     "cellMetadata": {
      "byteLimit": 2048000,
      "rowLimit": 10000
     },
     "inputWidgets": {},
     "nuid": "8612302c-3672-4eed-88a8-9b381c45e903",
     "showTitle": false,
     "tableResultSettingsMap": {},
     "title": ""
    }
   },
   "outputs": [
    {
     "output_type": "stream",
     "name": "stdout",
     "output_type": "stream",
     "text": [
      "+--------+--------------------+-------------+--------------------+--------------------+\n|Category|             Message|CategoryIndex|        MessageToken|          MessageW2V|\n+--------+--------------------+-------------+--------------------+--------------------+\n|     ham|Go until jurong p...|          0.0|[go, until, juron...|[8.77219164976850...|\n|     ham|Ok lar... Joking ...|          0.0|[ok, lar..., joki...|[0.03173802127518...|\n|    spam|Free entry in 2 a...|          1.0|[free, entry, in,...|[-0.0297332426167...|\n|     ham|U dun say so earl...|          0.0|[u, dun, say, so,...|[0.04455585625361...|\n|     ham|Nah I don't think...|          0.0|[nah, i, don't, t...|[0.05426038640479...|\n+--------+--------------------+-------------+--------------------+--------------------+\nonly showing top 5 rows\n\n"
     ]
    }
   ],
   "source": [
    "new_spam.show(5)"
   ]
  },
  {
   "cell_type": "markdown",
   "metadata": {
    "application/vnd.databricks.v1+cell": {
     "cellMetadata": {},
     "inputWidgets": {},
     "nuid": "e228926f-3516-4af3-8291-07ee95aa4cf0",
     "showTitle": false,
     "tableResultSettingsMap": {},
     "title": ""
    }
   },
   "source": [
    "Treino e Teste"
   ]
  },
  {
   "cell_type": "code",
   "execution_count": 0,
   "metadata": {
    "application/vnd.databricks.v1+cell": {
     "cellMetadata": {
      "byteLimit": 2048000,
      "rowLimit": 10000
     },
     "inputWidgets": {},
     "nuid": "f98616b2-9543-46d4-9aaa-175edea71176",
     "showTitle": false,
     "tableResultSettingsMap": {},
     "title": ""
    }
   },
   "outputs": [],
   "source": [
    "train, test = new_spam.randomSplit([0.7, 0.3]) #70% treino, 30% teste"
   ]
  },
  {
   "cell_type": "code",
   "execution_count": 0,
   "metadata": {
    "application/vnd.databricks.v1+cell": {
     "cellMetadata": {
      "byteLimit": 2048000,
      "rowLimit": 10000
     },
     "inputWidgets": {},
     "nuid": "0e429fea-44dd-4971-81fc-128eaae5d848",
     "showTitle": false,
     "tableResultSettingsMap": {},
     "title": ""
    }
   },
   "outputs": [],
   "source": [
    "#labelCol -> variável dependente\n",
    "rf = RandomForestClassifier(labelCol=\"CategoryIndex\", featuresCol=\"MessageW2V\", numTrees=500)\n",
    "model = rf.fit(train)"
   ]
  },
  {
   "cell_type": "code",
   "execution_count": 0,
   "metadata": {
    "application/vnd.databricks.v1+cell": {
     "cellMetadata": {
      "byteLimit": 2048000,
      "rowLimit": 10000
     },
     "inputWidgets": {},
     "nuid": "69b7c7fc-4a35-4802-b610-d5792c11f6a8",
     "showTitle": false,
     "tableResultSettingsMap": {},
     "title": ""
    }
   },
   "outputs": [
    {
     "output_type": "stream",
     "name": "stdout",
     "output_type": "stream",
     "text": [
      "+--------+--------------------+-------------+--------------------+--------------------+--------------------+--------------------+----------+\n|Category|             Message|CategoryIndex|        MessageToken|          MessageW2V|       rawPrediction|         probability|prediction|\n+--------+--------------------+-------------+--------------------+--------------------+--------------------+--------------------+----------+\n|     ham|&lt;#&gt;  great ...|          0.0|[&lt;#&gt;, , gre...|[0.02178995571531...|[487.692479229877...|[0.97538495845975...|       0.0|\n|     ham|&lt;#&gt;  w jett...|          0.0|[&lt;#&gt;, , w, ...|[0.03599234431749...|[486.208464589757...|[0.97241692917951...|       0.0|\n|     ham|&lt;#&gt; %of ppl...|          0.0|[&lt;#&gt;, %of, ...|[0.01662711555730...|[487.296911138636...|[0.97459382227727...|       0.0|\n|     ham|(No promises on w...|          0.0|[(no, promises, o...|[-0.0022781230974...|[485.337161199508...|[0.97067432239901...|       0.0|\n|     ham|* Am on a train b...|          0.0|[*, am, on, a, tr...|[-0.0125791219761...|[441.815712112074...|[0.88363142422414...|       0.0|\n|     ham|* Thought I didn'...|          0.0|[*, thought, i, d...|[0.05162344339381...|[493.192990970704...|[0.98638598194140...|       0.0|\n|     ham|* Was thinking ab...|          0.0|[*, was, thinking...|[-0.0072672118225...|[460.094298542840...|[0.92018859708568...|       0.0|\n|     ham|*deep sigh* ... I...|          0.0|[*deep, sigh*, .....|[0.05976428479309...|[493.243520859384...|[0.98648704171876...|       0.0|\n|     ham|, how's things? J...|          0.0|[,, how's, things...|[-0.0033765122560...|[412.568243432192...|[0.82513648686438...|       0.0|\n|     ham|, im .. On the sn...|          0.0|[,, im, .., on, t...|[0.00635894743027...|[489.432810316299...|[0.97886562063259...|       0.0|\n+--------+--------------------+-------------+--------------------+--------------------+--------------------+--------------------+----------+\nonly showing top 10 rows\n\n"
     ]
    }
   ],
   "source": [
    "prev = model.transform(test)\n",
    "prev.show(10)"
   ]
  },
  {
   "cell_type": "markdown",
   "metadata": {
    "application/vnd.databricks.v1+cell": {
     "cellMetadata": {},
     "inputWidgets": {},
     "nuid": "26dc4773-f301-4a70-8e63-9f5c9f3de88a",
     "showTitle": false,
     "tableResultSettingsMap": {},
     "title": ""
    }
   },
   "source": [
    "Avaliando o modelo"
   ]
  },
  {
   "cell_type": "code",
   "execution_count": 0,
   "metadata": {
    "application/vnd.databricks.v1+cell": {
     "cellMetadata": {
      "byteLimit": 2048000,
      "rowLimit": 10000
     },
     "inputWidgets": {},
     "nuid": "9c35a04e-fda3-4cbd-bb10-4028a0ff3d6c",
     "showTitle": false,
     "tableResultSettingsMap": {},
     "title": ""
    }
   },
   "outputs": [],
   "source": [
    "from pyspark.ml.evaluation import BinaryClassificationEvaluator"
   ]
  },
  {
   "cell_type": "code",
   "execution_count": 0,
   "metadata": {
    "application/vnd.databricks.v1+cell": {
     "cellMetadata": {
      "byteLimit": 2048000,
      "rowLimit": 10000
     },
     "inputWidgets": {},
     "nuid": "6604eefc-a1fd-4df5-afd9-1a1b91de41c8",
     "showTitle": false,
     "tableResultSettingsMap": {},
     "title": ""
    }
   },
   "outputs": [],
   "source": [
    "evaluator = BinaryClassificationEvaluator(rawPredictionCol=\"prediction\", labelCol=\"CategoryIndex\", metricName=\"areaUnderROC\")"
   ]
  },
  {
   "cell_type": "code",
   "execution_count": 0,
   "metadata": {
    "application/vnd.databricks.v1+cell": {
     "cellMetadata": {
      "byteLimit": 2048000,
      "rowLimit": 10000
     },
     "inputWidgets": {},
     "nuid": "72069268-e06f-4189-9422-f8d923241841",
     "showTitle": false,
     "tableResultSettingsMap": {},
     "title": ""
    }
   },
   "outputs": [
    {
     "output_type": "stream",
     "name": "stdout",
     "output_type": "stream",
     "text": [
      "Out[21]: 0.8604629043474464"
     ]
    }
   ],
   "source": [
    "areaUnderRoc = evaluator.evaluate(prev)\n",
    "areaUnderRoc"
   ]
  },
  {
   "cell_type": "code",
   "execution_count": 0,
   "metadata": {
    "application/vnd.databricks.v1+cell": {
     "cellMetadata": {},
     "inputWidgets": {},
     "nuid": "7fb33a15-fe51-4893-9c92-4b6f72074b70",
     "showTitle": false,
     "tableResultSettingsMap": {},
     "title": ""
    }
   },
   "outputs": [],
   "source": []
  }
 ],
 "metadata": {
  "application/vnd.databricks.v1+notebook": {
   "computePreferences": null,
   "dashboards": [],
   "environmentMetadata": {
    "base_environment": "",
    "client": "1"
   },
   "language": "python",
   "notebookMetadata": {
    "pythonIndentUnit": 4
   },
   "notebookName": "nlp_spark",
   "widgets": {}
  }
 },
 "nbformat": 4,
 "nbformat_minor": 0
}
