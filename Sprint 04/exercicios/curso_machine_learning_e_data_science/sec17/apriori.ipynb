{
 "cells": [
  {
   "cell_type": "code",
   "execution_count": 13,
   "id": "e680b9db-02fc-4a4f-baf1-0442e2de23c9",
   "metadata": {},
   "outputs": [],
   "source": [
    "import pandas as pd \n",
    "from apyori import apriori"
   ]
  },
  {
   "cell_type": "code",
   "execution_count": 14,
   "id": "fa6d0391-f534-47d3-92b4-b5b122fa55ef",
   "metadata": {},
   "outputs": [
    {
     "data": {
      "text/html": [
       "<div>\n",
       "<style scoped>\n",
       "    .dataframe tbody tr th:only-of-type {\n",
       "        vertical-align: middle;\n",
       "    }\n",
       "\n",
       "    .dataframe tbody tr th {\n",
       "        vertical-align: top;\n",
       "    }\n",
       "\n",
       "    .dataframe thead th {\n",
       "        text-align: right;\n",
       "    }\n",
       "</style>\n",
       "<table border=\"1\" class=\"dataframe\">\n",
       "  <thead>\n",
       "    <tr style=\"text-align: right;\">\n",
       "      <th></th>\n",
       "      <th>0</th>\n",
       "      <th>1</th>\n",
       "      <th>2</th>\n",
       "      <th>3</th>\n",
       "    </tr>\n",
       "  </thead>\n",
       "  <tbody>\n",
       "    <tr>\n",
       "      <th>0</th>\n",
       "      <td>leite</td>\n",
       "      <td>cerveja</td>\n",
       "      <td>pao</td>\n",
       "      <td>manteiga</td>\n",
       "    </tr>\n",
       "    <tr>\n",
       "      <th>1</th>\n",
       "      <td>cafe</td>\n",
       "      <td>pao</td>\n",
       "      <td>manteiga</td>\n",
       "      <td>NaN</td>\n",
       "    </tr>\n",
       "    <tr>\n",
       "      <th>2</th>\n",
       "      <td>cafe</td>\n",
       "      <td>pao</td>\n",
       "      <td>manteiga</td>\n",
       "      <td>NaN</td>\n",
       "    </tr>\n",
       "    <tr>\n",
       "      <th>3</th>\n",
       "      <td>leite</td>\n",
       "      <td>cafe</td>\n",
       "      <td>pao</td>\n",
       "      <td>manteiga</td>\n",
       "    </tr>\n",
       "    <tr>\n",
       "      <th>4</th>\n",
       "      <td>cerveja</td>\n",
       "      <td>NaN</td>\n",
       "      <td>NaN</td>\n",
       "      <td>NaN</td>\n",
       "    </tr>\n",
       "    <tr>\n",
       "      <th>5</th>\n",
       "      <td>manteiga</td>\n",
       "      <td>NaN</td>\n",
       "      <td>NaN</td>\n",
       "      <td>NaN</td>\n",
       "    </tr>\n",
       "    <tr>\n",
       "      <th>6</th>\n",
       "      <td>pao</td>\n",
       "      <td>NaN</td>\n",
       "      <td>NaN</td>\n",
       "      <td>NaN</td>\n",
       "    </tr>\n",
       "    <tr>\n",
       "      <th>7</th>\n",
       "      <td>feijao</td>\n",
       "      <td>NaN</td>\n",
       "      <td>NaN</td>\n",
       "      <td>NaN</td>\n",
       "    </tr>\n",
       "    <tr>\n",
       "      <th>8</th>\n",
       "      <td>arroz</td>\n",
       "      <td>feijao</td>\n",
       "      <td>NaN</td>\n",
       "      <td>NaN</td>\n",
       "    </tr>\n",
       "    <tr>\n",
       "      <th>9</th>\n",
       "      <td>arroz</td>\n",
       "      <td>NaN</td>\n",
       "      <td>NaN</td>\n",
       "      <td>NaN</td>\n",
       "    </tr>\n",
       "  </tbody>\n",
       "</table>\n",
       "</div>"
      ],
      "text/plain": [
       "          0        1         2         3\n",
       "0     leite  cerveja       pao  manteiga\n",
       "1      cafe      pao  manteiga       NaN\n",
       "2      cafe      pao  manteiga       NaN\n",
       "3     leite     cafe       pao  manteiga\n",
       "4   cerveja      NaN       NaN       NaN\n",
       "5  manteiga      NaN       NaN       NaN\n",
       "6       pao      NaN       NaN       NaN\n",
       "7    feijao      NaN       NaN       NaN\n",
       "8     arroz   feijao       NaN       NaN\n",
       "9     arroz      NaN       NaN       NaN"
      ]
     },
     "execution_count": 14,
     "metadata": {},
     "output_type": "execute_result"
    }
   ],
   "source": [
    "df_market = pd.read_csv('./data/mercado.csv', header=None)\n",
    "df_market"
   ]
  },
  {
   "cell_type": "code",
   "execution_count": 24,
   "id": "220e4cc5-2f92-40e0-b449-a952acec1627",
   "metadata": {},
   "outputs": [
    {
     "data": {
      "text/plain": [
       "0    object\n",
       "1    object\n",
       "2    object\n",
       "3    object\n",
       "dtype: object"
      ]
     },
     "execution_count": 24,
     "metadata": {},
     "output_type": "execute_result"
    }
   ],
   "source": [
    "df_market.dtypes"
   ]
  },
  {
   "cell_type": "markdown",
   "id": "f7cb6af8-b086-4aa6-b63c-2b50be270fd1",
   "metadata": {},
   "source": [
    "### Transformando DF para list \n",
    "para usar a lib Apriori"
   ]
  },
  {
   "cell_type": "code",
   "execution_count": 25,
   "id": "36711e78-d37d-4b7a-96e5-3f14b3a4fce9",
   "metadata": {},
   "outputs": [],
   "source": [
    "transactions = []\n",
    "for i in range(len(df_market)):\n",
    "    transactions.append([str(df_market.values[i, j]) for j in range(df_market.shape[1])])\n",
    "#transformando em str para evitar problemas com NaN(que são considerados floats)"
   ]
  },
  {
   "cell_type": "code",
   "execution_count": 26,
   "id": "f6453525-fda5-4036-a27b-348bc252dbd8",
   "metadata": {},
   "outputs": [
    {
     "data": {
      "text/plain": [
       "[['leite', 'cerveja', 'pao', 'manteiga'],\n",
       " ['cafe', 'pao', 'manteiga', 'nan'],\n",
       " ['cafe', 'pao', 'manteiga', 'nan'],\n",
       " ['leite', 'cafe', 'pao', 'manteiga'],\n",
       " ['cerveja', 'nan', 'nan', 'nan'],\n",
       " ['manteiga', 'nan', 'nan', 'nan'],\n",
       " ['pao', 'nan', 'nan', 'nan'],\n",
       " ['feijao', 'nan', 'nan', 'nan'],\n",
       " ['arroz', 'feijao', 'nan', 'nan'],\n",
       " ['arroz', 'nan', 'nan', 'nan']]"
      ]
     },
     "execution_count": 26,
     "metadata": {},
     "output_type": "execute_result"
    }
   ],
   "source": [
    "transactions"
   ]
  },
  {
   "cell_type": "code",
   "execution_count": 32,
   "id": "75232e34-229d-4385-9c58-d83377d94f38",
   "metadata": {},
   "outputs": [],
   "source": [
    "rules = apriori(transactions, min_support=0.3, min_confidence=0.8, min_lift=2) #suporte, confiança, lift\n",
    "results = list(rules)"
   ]
  },
  {
   "cell_type": "code",
   "execution_count": 33,
   "id": "394b83b1-4ccd-4ed3-bad7-7571b8884512",
   "metadata": {},
   "outputs": [
    {
     "data": {
      "text/plain": [
       "[RelationRecord(items=frozenset({'cafe', 'manteiga'}), support=0.3, ordered_statistics=[OrderedStatistic(items_base=frozenset({'cafe'}), items_add=frozenset({'manteiga'}), confidence=1.0, lift=2.0)]),\n",
       " RelationRecord(items=frozenset({'cafe', 'pao'}), support=0.3, ordered_statistics=[OrderedStatistic(items_base=frozenset({'cafe'}), items_add=frozenset({'pao'}), confidence=1.0, lift=2.0)]),\n",
       " RelationRecord(items=frozenset({'cafe', 'manteiga', 'pao'}), support=0.3, ordered_statistics=[OrderedStatistic(items_base=frozenset({'cafe'}), items_add=frozenset({'manteiga', 'pao'}), confidence=1.0, lift=2.5), OrderedStatistic(items_base=frozenset({'cafe', 'manteiga'}), items_add=frozenset({'pao'}), confidence=1.0, lift=2.0), OrderedStatistic(items_base=frozenset({'cafe', 'pao'}), items_add=frozenset({'manteiga'}), confidence=1.0, lift=2.0)])]"
      ]
     },
     "execution_count": 33,
     "metadata": {},
     "output_type": "execute_result"
    }
   ],
   "source": [
    "results"
   ]
  },
  {
   "cell_type": "code",
   "execution_count": 34,
   "id": "e1d20dbc-4dd3-443c-a935-dc31809a7192",
   "metadata": {},
   "outputs": [
    {
     "data": {
      "text/plain": [
       "3"
      ]
     },
     "execution_count": 34,
     "metadata": {},
     "output_type": "execute_result"
    }
   ],
   "source": [
    "len(results)"
   ]
  },
  {
   "cell_type": "code",
   "execution_count": 35,
   "id": "c87b822a-5675-41e6-ab5f-36316c38f6b3",
   "metadata": {},
   "outputs": [
    {
     "data": {
      "text/plain": [
       "RelationRecord(items=frozenset({'cafe', 'manteiga', 'pao'}), support=0.3, ordered_statistics=[OrderedStatistic(items_base=frozenset({'cafe'}), items_add=frozenset({'manteiga', 'pao'}), confidence=1.0, lift=2.5), OrderedStatistic(items_base=frozenset({'cafe', 'manteiga'}), items_add=frozenset({'pao'}), confidence=1.0, lift=2.0), OrderedStatistic(items_base=frozenset({'cafe', 'pao'}), items_add=frozenset({'manteiga'}), confidence=1.0, lift=2.0)])"
      ]
     },
     "execution_count": 35,
     "metadata": {},
     "output_type": "execute_result"
    }
   ],
   "source": [
    "results[2]"
   ]
  },
  {
   "cell_type": "markdown",
   "id": "1c419488-a1dd-4243-809f-5b6e230a7c26",
   "metadata": {},
   "source": [
    "RelationRecord(items=frozenset({'cafe', 'manteiga', 'pao'}), support=0.3, ordered_statistics=[OrderedStatistic(items_base=frozenset({'cafe'}), items_add=frozenset({'manteiga', 'pao'}), confidence=1.0, lift=2.5), OrderedStatistic(items_base=frozenset({'cafe', 'manteiga'}), items_add=frozenset({'pao'}), confidence=1.0, lift=2.0), OrderedStatistic(items_base=frozenset({'cafe', 'pao'}), items_add=frozenset({'manteiga'}), confidence=1.0, lift=2.0)])"
   ]
  },
  {
   "cell_type": "markdown",
   "id": "94361a8a-5177-4c77-abb1-75df6cccba20",
   "metadata": {},
   "source": [
    "### Acessando as regras"
   ]
  },
  {
   "cell_type": "code",
   "execution_count": 39,
   "id": "241e0b15-f4bf-4755-9dbe-b9d50fdeeaf8",
   "metadata": {},
   "outputs": [
    {
     "data": {
      "text/plain": [
       "[OrderedStatistic(items_base=frozenset({'cafe'}), items_add=frozenset({'manteiga', 'pao'}), confidence=1.0, lift=2.5),\n",
       " OrderedStatistic(items_base=frozenset({'cafe', 'manteiga'}), items_add=frozenset({'pao'}), confidence=1.0, lift=2.0),\n",
       " OrderedStatistic(items_base=frozenset({'cafe', 'pao'}), items_add=frozenset({'manteiga'}), confidence=1.0, lift=2.0)]"
      ]
     },
     "execution_count": 39,
     "metadata": {},
     "output_type": "execute_result"
    }
   ],
   "source": [
    "r = results[2][2]\n",
    "r\n",
    "#se compra café, então compra manteiga e pãoab\n",
    "#...."
   ]
  },
  {
   "cell_type": "code",
   "execution_count": 40,
   "id": "4db9c4b0-1441-47a7-9e73-744911b55bb2",
   "metadata": {},
   "outputs": [],
   "source": [
    "A = []\n",
    "B = []\n",
    "support = []\n",
    "confidence = []\n",
    "lift = []"
   ]
  },
  {
   "cell_type": "code",
   "execution_count": 47,
   "id": "9c0dd851-c02f-47d3-883d-1edba22ae77f",
   "metadata": {},
   "outputs": [
    {
     "name": "stdout",
     "output_type": "stream",
     "text": [
      "OrderedStatistic(items_base=frozenset({'cafe'}), items_add=frozenset({'manteiga'}), confidence=1.0, lift=2.0)\n",
      "['cafe']  -  ['manteiga']  -  1.0  -  2.0\n",
      "OrderedStatistic(items_base=frozenset({'cafe'}), items_add=frozenset({'pao'}), confidence=1.0, lift=2.0)\n",
      "['cafe']  -  ['pao']  -  1.0  -  2.0\n",
      "OrderedStatistic(items_base=frozenset({'cafe'}), items_add=frozenset({'manteiga', 'pao'}), confidence=1.0, lift=2.5)\n",
      "['cafe']  -  ['manteiga', 'pao']  -  1.0  -  2.5\n",
      "OrderedStatistic(items_base=frozenset({'cafe', 'manteiga'}), items_add=frozenset({'pao'}), confidence=1.0, lift=2.0)\n",
      "['cafe', 'manteiga']  -  ['pao']  -  1.0  -  2.0\n",
      "OrderedStatistic(items_base=frozenset({'cafe', 'pao'}), items_add=frozenset({'manteiga'}), confidence=1.0, lift=2.0)\n",
      "['cafe', 'pao']  -  ['manteiga']  -  1.0  -  2.0\n"
     ]
    }
   ],
   "source": [
    "for result in results:\n",
    "    s = result[1]\n",
    "\n",
    "    result_rules = result[2]\n",
    "    for result_rule in result_rules:\n",
    "        print(result_rule)\n",
    "        a = list(result_rule[0])\n",
    "        b = list(result_rule[1])\n",
    "        s = result_rule[2]\n",
    "        l = result_rule[3]\n",
    "        print(a, ' - ', b, ' - ', s, ' - ', l)\n",
    "\n",
    "        A.append(a)\n",
    "        B.append(b)\n",
    "        support.append(s)\n",
    "        lift.append(l)"
   ]
  },
  {
   "cell_type": "code",
   "execution_count": 48,
   "id": "49991085-2315-4318-9cb7-18b449534c23",
   "metadata": {},
   "outputs": [
    {
     "data": {
      "text/plain": [
       "[['cafe'], ['cafe'], ['cafe'], ['cafe', 'manteiga'], ['cafe', 'pao']]"
      ]
     },
     "execution_count": 48,
     "metadata": {},
     "output_type": "execute_result"
    }
   ],
   "source": [
    "A"
   ]
  },
  {
   "cell_type": "code",
   "execution_count": 49,
   "id": "f1c223f7-7ea9-4a24-8509-1c2c9997d415",
   "metadata": {},
   "outputs": [
    {
     "data": {
      "text/plain": [
       "[['manteiga'], ['pao'], ['manteiga', 'pao'], ['pao'], ['manteiga']]"
      ]
     },
     "execution_count": 49,
     "metadata": {},
     "output_type": "execute_result"
    }
   ],
   "source": [
    "B"
   ]
  },
  {
   "cell_type": "code",
   "execution_count": 50,
   "id": "2af8cf36-c8da-42d8-9928-5ae92faded4f",
   "metadata": {},
   "outputs": [
    {
     "data": {
      "text/plain": [
       "[1.0, 1.0, 1.0, 1.0, 1.0]"
      ]
     },
     "execution_count": 50,
     "metadata": {},
     "output_type": "execute_result"
    }
   ],
   "source": [
    "support"
   ]
  },
  {
   "cell_type": "code",
   "execution_count": 51,
   "id": "16cea1eb-3dc1-488a-8200-b2c64f8c209c",
   "metadata": {},
   "outputs": [
    {
     "data": {
      "text/plain": [
       "[2.0, 2.0, 2.5, 2.0, 2.0]"
      ]
     },
     "execution_count": 51,
     "metadata": {},
     "output_type": "execute_result"
    }
   ],
   "source": [
    "lift"
   ]
  },
  {
   "cell_type": "markdown",
   "id": "c2160c64-5df9-4ed9-b807-078310d7ca8e",
   "metadata": {},
   "source": [
    "### Transformando em um df"
   ]
  },
  {
   "cell_type": "code",
   "execution_count": 52,
   "id": "f57ae620-b5c9-49b2-8298-59053cbb5dfb",
   "metadata": {},
   "outputs": [],
   "source": [
    "rules_df = pd.DataFrame({'A': A, 'B': B, 'Support': support, 'Lift': lift})"
   ]
  },
  {
   "cell_type": "code",
   "execution_count": 56,
   "id": "e0730f5a-86a4-4b04-8022-a55621abb755",
   "metadata": {},
   "outputs": [
    {
     "data": {
      "text/html": [
       "<div>\n",
       "<style scoped>\n",
       "    .dataframe tbody tr th:only-of-type {\n",
       "        vertical-align: middle;\n",
       "    }\n",
       "\n",
       "    .dataframe tbody tr th {\n",
       "        vertical-align: top;\n",
       "    }\n",
       "\n",
       "    .dataframe thead th {\n",
       "        text-align: right;\n",
       "    }\n",
       "</style>\n",
       "<table border=\"1\" class=\"dataframe\">\n",
       "  <thead>\n",
       "    <tr style=\"text-align: right;\">\n",
       "      <th></th>\n",
       "      <th>A</th>\n",
       "      <th>B</th>\n",
       "      <th>Support</th>\n",
       "      <th>Lift</th>\n",
       "    </tr>\n",
       "  </thead>\n",
       "  <tbody>\n",
       "    <tr>\n",
       "      <th>2</th>\n",
       "      <td>[cafe]</td>\n",
       "      <td>[manteiga, pao]</td>\n",
       "      <td>1.0</td>\n",
       "      <td>2.5</td>\n",
       "    </tr>\n",
       "    <tr>\n",
       "      <th>0</th>\n",
       "      <td>[cafe]</td>\n",
       "      <td>[manteiga]</td>\n",
       "      <td>1.0</td>\n",
       "      <td>2.0</td>\n",
       "    </tr>\n",
       "    <tr>\n",
       "      <th>1</th>\n",
       "      <td>[cafe]</td>\n",
       "      <td>[pao]</td>\n",
       "      <td>1.0</td>\n",
       "      <td>2.0</td>\n",
       "    </tr>\n",
       "    <tr>\n",
       "      <th>3</th>\n",
       "      <td>[cafe, manteiga]</td>\n",
       "      <td>[pao]</td>\n",
       "      <td>1.0</td>\n",
       "      <td>2.0</td>\n",
       "    </tr>\n",
       "    <tr>\n",
       "      <th>4</th>\n",
       "      <td>[cafe, pao]</td>\n",
       "      <td>[manteiga]</td>\n",
       "      <td>1.0</td>\n",
       "      <td>2.0</td>\n",
       "    </tr>\n",
       "  </tbody>\n",
       "</table>\n",
       "</div>"
      ],
      "text/plain": [
       "                  A                B  Support  Lift\n",
       "2            [cafe]  [manteiga, pao]      1.0   2.5\n",
       "0            [cafe]       [manteiga]      1.0   2.0\n",
       "1            [cafe]            [pao]      1.0   2.0\n",
       "3  [cafe, manteiga]            [pao]      1.0   2.0\n",
       "4       [cafe, pao]       [manteiga]      1.0   2.0"
      ]
     },
     "execution_count": 56,
     "metadata": {},
     "output_type": "execute_result"
    }
   ],
   "source": [
    "rules_df.sort_values(by='Lift', ascending=False)"
   ]
  },
  {
   "cell_type": "code",
   "execution_count": null,
   "id": "3b63460c-74eb-4775-b968-341331ecc78d",
   "metadata": {},
   "outputs": [],
   "source": []
  }
 ],
 "metadata": {
  "kernelspec": {
   "display_name": "Python 3 (ipykernel)",
   "language": "python",
   "name": "python3"
  },
  "language_info": {
   "codemirror_mode": {
    "name": "ipython",
    "version": 3
   },
   "file_extension": ".py",
   "mimetype": "text/x-python",
   "name": "python",
   "nbconvert_exporter": "python",
   "pygments_lexer": "ipython3",
   "version": "3.11.11"
  }
 },
 "nbformat": 4,
 "nbformat_minor": 5
}
