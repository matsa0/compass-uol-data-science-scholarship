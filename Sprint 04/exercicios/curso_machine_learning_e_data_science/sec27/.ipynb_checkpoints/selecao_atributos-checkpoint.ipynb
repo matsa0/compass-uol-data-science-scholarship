{
 "cells": [
  {
   "cell_type": "code",
   "execution_count": 1,
   "id": "a8c01672-1b67-49a3-a12e-ff4376c9a90c",
   "metadata": {},
   "outputs": [],
   "source": [
    "import pandas as pd"
   ]
  },
  {
   "cell_type": "code",
   "execution_count": null,
   "id": "a4ffaff8-450c-4a81-853f-a96baca43c5e",
   "metadata": {},
   "outputs": [],
   "source": []
  },
  {
   "cell_type": "code",
   "execution_count": null,
   "id": "09b02e06-27e4-4b48-ac4c-51872e471c6c",
   "metadata": {},
   "outputs": [],
   "source": []
  }
 ],
 "metadata": {
  "kernelspec": {
   "display_name": "Python 3 (ipykernel)",
   "language": "python",
   "name": "python3"
  },
  "language_info": {
   "codemirror_mode": {
    "name": "ipython",
    "version": 3
   },
   "file_extension": ".py",
   "mimetype": "text/x-python",
   "name": "python",
   "nbconvert_exporter": "python",
   "pygments_lexer": "ipython3",
   "version": "3.11.11"
  }
 },
 "nbformat": 4,
 "nbformat_minor": 5
}
