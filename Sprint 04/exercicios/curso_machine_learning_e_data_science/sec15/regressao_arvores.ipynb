{
 "cells": [
  {
   "cell_type": "code",
   "execution_count": 18,
   "id": "abda8f1f-3f12-438c-aa68-1fa2de9efb9a",
   "metadata": {},
   "outputs": [],
   "source": [
    "import plotly.express as px\n",
    "import plotly.graph_objects as go\n",
    "import seaborn as sns\n",
    "import matplotlib.pyplot as plt\n",
    "import pandas as pd\n",
    "import numpy as np"
   ]
  },
  {
   "cell_type": "code",
   "execution_count": 19,
   "id": "120fcef1-9754-4b7c-bac0-bcb2d8a011fb",
   "metadata": {},
   "outputs": [
    {
     "data": {
      "text/html": [
       "<div>\n",
       "<style scoped>\n",
       "    .dataframe tbody tr th:only-of-type {\n",
       "        vertical-align: middle;\n",
       "    }\n",
       "\n",
       "    .dataframe tbody tr th {\n",
       "        vertical-align: top;\n",
       "    }\n",
       "\n",
       "    .dataframe thead th {\n",
       "        text-align: right;\n",
       "    }\n",
       "</style>\n",
       "<table border=\"1\" class=\"dataframe\">\n",
       "  <thead>\n",
       "    <tr style=\"text-align: right;\">\n",
       "      <th></th>\n",
       "      <th>idade</th>\n",
       "      <th>custo</th>\n",
       "    </tr>\n",
       "  </thead>\n",
       "  <tbody>\n",
       "    <tr>\n",
       "      <th>0</th>\n",
       "      <td>18</td>\n",
       "      <td>470</td>\n",
       "    </tr>\n",
       "    <tr>\n",
       "      <th>1</th>\n",
       "      <td>23</td>\n",
       "      <td>520</td>\n",
       "    </tr>\n",
       "    <tr>\n",
       "      <th>2</th>\n",
       "      <td>28</td>\n",
       "      <td>630</td>\n",
       "    </tr>\n",
       "    <tr>\n",
       "      <th>3</th>\n",
       "      <td>33</td>\n",
       "      <td>830</td>\n",
       "    </tr>\n",
       "    <tr>\n",
       "      <th>4</th>\n",
       "      <td>38</td>\n",
       "      <td>1150</td>\n",
       "    </tr>\n",
       "    <tr>\n",
       "      <th>5</th>\n",
       "      <td>43</td>\n",
       "      <td>1530</td>\n",
       "    </tr>\n",
       "    <tr>\n",
       "      <th>6</th>\n",
       "      <td>48</td>\n",
       "      <td>2040</td>\n",
       "    </tr>\n",
       "    <tr>\n",
       "      <th>7</th>\n",
       "      <td>53</td>\n",
       "      <td>3080</td>\n",
       "    </tr>\n",
       "    <tr>\n",
       "      <th>8</th>\n",
       "      <td>58</td>\n",
       "      <td>5100</td>\n",
       "    </tr>\n",
       "    <tr>\n",
       "      <th>9</th>\n",
       "      <td>63</td>\n",
       "      <td>10100</td>\n",
       "    </tr>\n",
       "  </tbody>\n",
       "</table>\n",
       "</div>"
      ],
      "text/plain": [
       "   idade  custo\n",
       "0     18    470\n",
       "1     23    520\n",
       "2     28    630\n",
       "3     33    830\n",
       "4     38   1150\n",
       "5     43   1530\n",
       "6     48   2040\n",
       "7     53   3080\n",
       "8     58   5100\n",
       "9     63  10100"
      ]
     },
     "execution_count": 19,
     "metadata": {},
     "output_type": "execute_result"
    }
   ],
   "source": [
    "df_plano_saude = pd.read_csv('../data/plano_saude2.csv')\n",
    "df_plano_saude"
   ]
  },
  {
   "cell_type": "code",
   "execution_count": 20,
   "id": "33462738-7737-4193-a730-aa43699e1b24",
   "metadata": {},
   "outputs": [],
   "source": [
    "X = df_plano_saude.iloc[:, 0:1].values\n",
    "y = df_plano_saude.iloc[:, 1].values"
   ]
  },
  {
   "cell_type": "code",
   "execution_count": 21,
   "id": "90ad11ec-ea25-4b05-8f7e-65f93fff9309",
   "metadata": {},
   "outputs": [
    {
     "data": {
      "text/plain": [
       "array([[18],\n",
       "       [23],\n",
       "       [28],\n",
       "       [33],\n",
       "       [38],\n",
       "       [43],\n",
       "       [48],\n",
       "       [53],\n",
       "       [58],\n",
       "       [63]])"
      ]
     },
     "execution_count": 21,
     "metadata": {},
     "output_type": "execute_result"
    }
   ],
   "source": [
    "X"
   ]
  },
  {
   "cell_type": "code",
   "execution_count": 22,
   "id": "e3c40ebd-24e0-4dc9-bfdd-a7691e534608",
   "metadata": {},
   "outputs": [
    {
     "data": {
      "text/plain": [
       "array([  470,   520,   630,   830,  1150,  1530,  2040,  3080,  5100,\n",
       "       10100])"
      ]
     },
     "execution_count": 22,
     "metadata": {},
     "output_type": "execute_result"
    }
   ],
   "source": [
    "y"
   ]
  },
  {
   "cell_type": "code",
   "execution_count": 23,
   "id": "49f65f29-34b3-46b8-825e-ca96b59bf91a",
   "metadata": {},
   "outputs": [
    {
     "data": {
      "text/html": [
       "<style>#sk-container-id-2 {\n",
       "  /* Definition of color scheme common for light and dark mode */\n",
       "  --sklearn-color-text: #000;\n",
       "  --sklearn-color-text-muted: #666;\n",
       "  --sklearn-color-line: gray;\n",
       "  /* Definition of color scheme for unfitted estimators */\n",
       "  --sklearn-color-unfitted-level-0: #fff5e6;\n",
       "  --sklearn-color-unfitted-level-1: #f6e4d2;\n",
       "  --sklearn-color-unfitted-level-2: #ffe0b3;\n",
       "  --sklearn-color-unfitted-level-3: chocolate;\n",
       "  /* Definition of color scheme for fitted estimators */\n",
       "  --sklearn-color-fitted-level-0: #f0f8ff;\n",
       "  --sklearn-color-fitted-level-1: #d4ebff;\n",
       "  --sklearn-color-fitted-level-2: #b3dbfd;\n",
       "  --sklearn-color-fitted-level-3: cornflowerblue;\n",
       "\n",
       "  /* Specific color for light theme */\n",
       "  --sklearn-color-text-on-default-background: var(--sg-text-color, var(--theme-code-foreground, var(--jp-content-font-color1, black)));\n",
       "  --sklearn-color-background: var(--sg-background-color, var(--theme-background, var(--jp-layout-color0, white)));\n",
       "  --sklearn-color-border-box: var(--sg-text-color, var(--theme-code-foreground, var(--jp-content-font-color1, black)));\n",
       "  --sklearn-color-icon: #696969;\n",
       "\n",
       "  @media (prefers-color-scheme: dark) {\n",
       "    /* Redefinition of color scheme for dark theme */\n",
       "    --sklearn-color-text-on-default-background: var(--sg-text-color, var(--theme-code-foreground, var(--jp-content-font-color1, white)));\n",
       "    --sklearn-color-background: var(--sg-background-color, var(--theme-background, var(--jp-layout-color0, #111)));\n",
       "    --sklearn-color-border-box: var(--sg-text-color, var(--theme-code-foreground, var(--jp-content-font-color1, white)));\n",
       "    --sklearn-color-icon: #878787;\n",
       "  }\n",
       "}\n",
       "\n",
       "#sk-container-id-2 {\n",
       "  color: var(--sklearn-color-text);\n",
       "}\n",
       "\n",
       "#sk-container-id-2 pre {\n",
       "  padding: 0;\n",
       "}\n",
       "\n",
       "#sk-container-id-2 input.sk-hidden--visually {\n",
       "  border: 0;\n",
       "  clip: rect(1px 1px 1px 1px);\n",
       "  clip: rect(1px, 1px, 1px, 1px);\n",
       "  height: 1px;\n",
       "  margin: -1px;\n",
       "  overflow: hidden;\n",
       "  padding: 0;\n",
       "  position: absolute;\n",
       "  width: 1px;\n",
       "}\n",
       "\n",
       "#sk-container-id-2 div.sk-dashed-wrapped {\n",
       "  border: 1px dashed var(--sklearn-color-line);\n",
       "  margin: 0 0.4em 0.5em 0.4em;\n",
       "  box-sizing: border-box;\n",
       "  padding-bottom: 0.4em;\n",
       "  background-color: var(--sklearn-color-background);\n",
       "}\n",
       "\n",
       "#sk-container-id-2 div.sk-container {\n",
       "  /* jupyter's `normalize.less` sets `[hidden] { display: none; }`\n",
       "     but bootstrap.min.css set `[hidden] { display: none !important; }`\n",
       "     so we also need the `!important` here to be able to override the\n",
       "     default hidden behavior on the sphinx rendered scikit-learn.org.\n",
       "     See: https://github.com/scikit-learn/scikit-learn/issues/21755 */\n",
       "  display: inline-block !important;\n",
       "  position: relative;\n",
       "}\n",
       "\n",
       "#sk-container-id-2 div.sk-text-repr-fallback {\n",
       "  display: none;\n",
       "}\n",
       "\n",
       "div.sk-parallel-item,\n",
       "div.sk-serial,\n",
       "div.sk-item {\n",
       "  /* draw centered vertical line to link estimators */\n",
       "  background-image: linear-gradient(var(--sklearn-color-text-on-default-background), var(--sklearn-color-text-on-default-background));\n",
       "  background-size: 2px 100%;\n",
       "  background-repeat: no-repeat;\n",
       "  background-position: center center;\n",
       "}\n",
       "\n",
       "/* Parallel-specific style estimator block */\n",
       "\n",
       "#sk-container-id-2 div.sk-parallel-item::after {\n",
       "  content: \"\";\n",
       "  width: 100%;\n",
       "  border-bottom: 2px solid var(--sklearn-color-text-on-default-background);\n",
       "  flex-grow: 1;\n",
       "}\n",
       "\n",
       "#sk-container-id-2 div.sk-parallel {\n",
       "  display: flex;\n",
       "  align-items: stretch;\n",
       "  justify-content: center;\n",
       "  background-color: var(--sklearn-color-background);\n",
       "  position: relative;\n",
       "}\n",
       "\n",
       "#sk-container-id-2 div.sk-parallel-item {\n",
       "  display: flex;\n",
       "  flex-direction: column;\n",
       "}\n",
       "\n",
       "#sk-container-id-2 div.sk-parallel-item:first-child::after {\n",
       "  align-self: flex-end;\n",
       "  width: 50%;\n",
       "}\n",
       "\n",
       "#sk-container-id-2 div.sk-parallel-item:last-child::after {\n",
       "  align-self: flex-start;\n",
       "  width: 50%;\n",
       "}\n",
       "\n",
       "#sk-container-id-2 div.sk-parallel-item:only-child::after {\n",
       "  width: 0;\n",
       "}\n",
       "\n",
       "/* Serial-specific style estimator block */\n",
       "\n",
       "#sk-container-id-2 div.sk-serial {\n",
       "  display: flex;\n",
       "  flex-direction: column;\n",
       "  align-items: center;\n",
       "  background-color: var(--sklearn-color-background);\n",
       "  padding-right: 1em;\n",
       "  padding-left: 1em;\n",
       "}\n",
       "\n",
       "\n",
       "/* Toggleable style: style used for estimator/Pipeline/ColumnTransformer box that is\n",
       "clickable and can be expanded/collapsed.\n",
       "- Pipeline and ColumnTransformer use this feature and define the default style\n",
       "- Estimators will overwrite some part of the style using the `sk-estimator` class\n",
       "*/\n",
       "\n",
       "/* Pipeline and ColumnTransformer style (default) */\n",
       "\n",
       "#sk-container-id-2 div.sk-toggleable {\n",
       "  /* Default theme specific background. It is overwritten whether we have a\n",
       "  specific estimator or a Pipeline/ColumnTransformer */\n",
       "  background-color: var(--sklearn-color-background);\n",
       "}\n",
       "\n",
       "/* Toggleable label */\n",
       "#sk-container-id-2 label.sk-toggleable__label {\n",
       "  cursor: pointer;\n",
       "  display: flex;\n",
       "  width: 100%;\n",
       "  margin-bottom: 0;\n",
       "  padding: 0.5em;\n",
       "  box-sizing: border-box;\n",
       "  text-align: center;\n",
       "  align-items: start;\n",
       "  justify-content: space-between;\n",
       "  gap: 0.5em;\n",
       "}\n",
       "\n",
       "#sk-container-id-2 label.sk-toggleable__label .caption {\n",
       "  font-size: 0.6rem;\n",
       "  font-weight: lighter;\n",
       "  color: var(--sklearn-color-text-muted);\n",
       "}\n",
       "\n",
       "#sk-container-id-2 label.sk-toggleable__label-arrow:before {\n",
       "  /* Arrow on the left of the label */\n",
       "  content: \"▸\";\n",
       "  float: left;\n",
       "  margin-right: 0.25em;\n",
       "  color: var(--sklearn-color-icon);\n",
       "}\n",
       "\n",
       "#sk-container-id-2 label.sk-toggleable__label-arrow:hover:before {\n",
       "  color: var(--sklearn-color-text);\n",
       "}\n",
       "\n",
       "/* Toggleable content - dropdown */\n",
       "\n",
       "#sk-container-id-2 div.sk-toggleable__content {\n",
       "  max-height: 0;\n",
       "  max-width: 0;\n",
       "  overflow: hidden;\n",
       "  text-align: left;\n",
       "  /* unfitted */\n",
       "  background-color: var(--sklearn-color-unfitted-level-0);\n",
       "}\n",
       "\n",
       "#sk-container-id-2 div.sk-toggleable__content.fitted {\n",
       "  /* fitted */\n",
       "  background-color: var(--sklearn-color-fitted-level-0);\n",
       "}\n",
       "\n",
       "#sk-container-id-2 div.sk-toggleable__content pre {\n",
       "  margin: 0.2em;\n",
       "  border-radius: 0.25em;\n",
       "  color: var(--sklearn-color-text);\n",
       "  /* unfitted */\n",
       "  background-color: var(--sklearn-color-unfitted-level-0);\n",
       "}\n",
       "\n",
       "#sk-container-id-2 div.sk-toggleable__content.fitted pre {\n",
       "  /* unfitted */\n",
       "  background-color: var(--sklearn-color-fitted-level-0);\n",
       "}\n",
       "\n",
       "#sk-container-id-2 input.sk-toggleable__control:checked~div.sk-toggleable__content {\n",
       "  /* Expand drop-down */\n",
       "  max-height: 200px;\n",
       "  max-width: 100%;\n",
       "  overflow: auto;\n",
       "}\n",
       "\n",
       "#sk-container-id-2 input.sk-toggleable__control:checked~label.sk-toggleable__label-arrow:before {\n",
       "  content: \"▾\";\n",
       "}\n",
       "\n",
       "/* Pipeline/ColumnTransformer-specific style */\n",
       "\n",
       "#sk-container-id-2 div.sk-label input.sk-toggleable__control:checked~label.sk-toggleable__label {\n",
       "  color: var(--sklearn-color-text);\n",
       "  background-color: var(--sklearn-color-unfitted-level-2);\n",
       "}\n",
       "\n",
       "#sk-container-id-2 div.sk-label.fitted input.sk-toggleable__control:checked~label.sk-toggleable__label {\n",
       "  background-color: var(--sklearn-color-fitted-level-2);\n",
       "}\n",
       "\n",
       "/* Estimator-specific style */\n",
       "\n",
       "/* Colorize estimator box */\n",
       "#sk-container-id-2 div.sk-estimator input.sk-toggleable__control:checked~label.sk-toggleable__label {\n",
       "  /* unfitted */\n",
       "  background-color: var(--sklearn-color-unfitted-level-2);\n",
       "}\n",
       "\n",
       "#sk-container-id-2 div.sk-estimator.fitted input.sk-toggleable__control:checked~label.sk-toggleable__label {\n",
       "  /* fitted */\n",
       "  background-color: var(--sklearn-color-fitted-level-2);\n",
       "}\n",
       "\n",
       "#sk-container-id-2 div.sk-label label.sk-toggleable__label,\n",
       "#sk-container-id-2 div.sk-label label {\n",
       "  /* The background is the default theme color */\n",
       "  color: var(--sklearn-color-text-on-default-background);\n",
       "}\n",
       "\n",
       "/* On hover, darken the color of the background */\n",
       "#sk-container-id-2 div.sk-label:hover label.sk-toggleable__label {\n",
       "  color: var(--sklearn-color-text);\n",
       "  background-color: var(--sklearn-color-unfitted-level-2);\n",
       "}\n",
       "\n",
       "/* Label box, darken color on hover, fitted */\n",
       "#sk-container-id-2 div.sk-label.fitted:hover label.sk-toggleable__label.fitted {\n",
       "  color: var(--sklearn-color-text);\n",
       "  background-color: var(--sklearn-color-fitted-level-2);\n",
       "}\n",
       "\n",
       "/* Estimator label */\n",
       "\n",
       "#sk-container-id-2 div.sk-label label {\n",
       "  font-family: monospace;\n",
       "  font-weight: bold;\n",
       "  display: inline-block;\n",
       "  line-height: 1.2em;\n",
       "}\n",
       "\n",
       "#sk-container-id-2 div.sk-label-container {\n",
       "  text-align: center;\n",
       "}\n",
       "\n",
       "/* Estimator-specific */\n",
       "#sk-container-id-2 div.sk-estimator {\n",
       "  font-family: monospace;\n",
       "  border: 1px dotted var(--sklearn-color-border-box);\n",
       "  border-radius: 0.25em;\n",
       "  box-sizing: border-box;\n",
       "  margin-bottom: 0.5em;\n",
       "  /* unfitted */\n",
       "  background-color: var(--sklearn-color-unfitted-level-0);\n",
       "}\n",
       "\n",
       "#sk-container-id-2 div.sk-estimator.fitted {\n",
       "  /* fitted */\n",
       "  background-color: var(--sklearn-color-fitted-level-0);\n",
       "}\n",
       "\n",
       "/* on hover */\n",
       "#sk-container-id-2 div.sk-estimator:hover {\n",
       "  /* unfitted */\n",
       "  background-color: var(--sklearn-color-unfitted-level-2);\n",
       "}\n",
       "\n",
       "#sk-container-id-2 div.sk-estimator.fitted:hover {\n",
       "  /* fitted */\n",
       "  background-color: var(--sklearn-color-fitted-level-2);\n",
       "}\n",
       "\n",
       "/* Specification for estimator info (e.g. \"i\" and \"?\") */\n",
       "\n",
       "/* Common style for \"i\" and \"?\" */\n",
       "\n",
       ".sk-estimator-doc-link,\n",
       "a:link.sk-estimator-doc-link,\n",
       "a:visited.sk-estimator-doc-link {\n",
       "  float: right;\n",
       "  font-size: smaller;\n",
       "  line-height: 1em;\n",
       "  font-family: monospace;\n",
       "  background-color: var(--sklearn-color-background);\n",
       "  border-radius: 1em;\n",
       "  height: 1em;\n",
       "  width: 1em;\n",
       "  text-decoration: none !important;\n",
       "  margin-left: 0.5em;\n",
       "  text-align: center;\n",
       "  /* unfitted */\n",
       "  border: var(--sklearn-color-unfitted-level-1) 1pt solid;\n",
       "  color: var(--sklearn-color-unfitted-level-1);\n",
       "}\n",
       "\n",
       ".sk-estimator-doc-link.fitted,\n",
       "a:link.sk-estimator-doc-link.fitted,\n",
       "a:visited.sk-estimator-doc-link.fitted {\n",
       "  /* fitted */\n",
       "  border: var(--sklearn-color-fitted-level-1) 1pt solid;\n",
       "  color: var(--sklearn-color-fitted-level-1);\n",
       "}\n",
       "\n",
       "/* On hover */\n",
       "div.sk-estimator:hover .sk-estimator-doc-link:hover,\n",
       ".sk-estimator-doc-link:hover,\n",
       "div.sk-label-container:hover .sk-estimator-doc-link:hover,\n",
       ".sk-estimator-doc-link:hover {\n",
       "  /* unfitted */\n",
       "  background-color: var(--sklearn-color-unfitted-level-3);\n",
       "  color: var(--sklearn-color-background);\n",
       "  text-decoration: none;\n",
       "}\n",
       "\n",
       "div.sk-estimator.fitted:hover .sk-estimator-doc-link.fitted:hover,\n",
       ".sk-estimator-doc-link.fitted:hover,\n",
       "div.sk-label-container:hover .sk-estimator-doc-link.fitted:hover,\n",
       ".sk-estimator-doc-link.fitted:hover {\n",
       "  /* fitted */\n",
       "  background-color: var(--sklearn-color-fitted-level-3);\n",
       "  color: var(--sklearn-color-background);\n",
       "  text-decoration: none;\n",
       "}\n",
       "\n",
       "/* Span, style for the box shown on hovering the info icon */\n",
       ".sk-estimator-doc-link span {\n",
       "  display: none;\n",
       "  z-index: 9999;\n",
       "  position: relative;\n",
       "  font-weight: normal;\n",
       "  right: .2ex;\n",
       "  padding: .5ex;\n",
       "  margin: .5ex;\n",
       "  width: min-content;\n",
       "  min-width: 20ex;\n",
       "  max-width: 50ex;\n",
       "  color: var(--sklearn-color-text);\n",
       "  box-shadow: 2pt 2pt 4pt #999;\n",
       "  /* unfitted */\n",
       "  background: var(--sklearn-color-unfitted-level-0);\n",
       "  border: .5pt solid var(--sklearn-color-unfitted-level-3);\n",
       "}\n",
       "\n",
       ".sk-estimator-doc-link.fitted span {\n",
       "  /* fitted */\n",
       "  background: var(--sklearn-color-fitted-level-0);\n",
       "  border: var(--sklearn-color-fitted-level-3);\n",
       "}\n",
       "\n",
       ".sk-estimator-doc-link:hover span {\n",
       "  display: block;\n",
       "}\n",
       "\n",
       "/* \"?\"-specific style due to the `<a>` HTML tag */\n",
       "\n",
       "#sk-container-id-2 a.estimator_doc_link {\n",
       "  float: right;\n",
       "  font-size: 1rem;\n",
       "  line-height: 1em;\n",
       "  font-family: monospace;\n",
       "  background-color: var(--sklearn-color-background);\n",
       "  border-radius: 1rem;\n",
       "  height: 1rem;\n",
       "  width: 1rem;\n",
       "  text-decoration: none;\n",
       "  /* unfitted */\n",
       "  color: var(--sklearn-color-unfitted-level-1);\n",
       "  border: var(--sklearn-color-unfitted-level-1) 1pt solid;\n",
       "}\n",
       "\n",
       "#sk-container-id-2 a.estimator_doc_link.fitted {\n",
       "  /* fitted */\n",
       "  border: var(--sklearn-color-fitted-level-1) 1pt solid;\n",
       "  color: var(--sklearn-color-fitted-level-1);\n",
       "}\n",
       "\n",
       "/* On hover */\n",
       "#sk-container-id-2 a.estimator_doc_link:hover {\n",
       "  /* unfitted */\n",
       "  background-color: var(--sklearn-color-unfitted-level-3);\n",
       "  color: var(--sklearn-color-background);\n",
       "  text-decoration: none;\n",
       "}\n",
       "\n",
       "#sk-container-id-2 a.estimator_doc_link.fitted:hover {\n",
       "  /* fitted */\n",
       "  background-color: var(--sklearn-color-fitted-level-3);\n",
       "}\n",
       "</style><div id=\"sk-container-id-2\" class=\"sk-top-container\"><div class=\"sk-text-repr-fallback\"><pre>DecisionTreeRegressor()</pre><b>In a Jupyter environment, please rerun this cell to show the HTML representation or trust the notebook. <br />On GitHub, the HTML representation is unable to render, please try loading this page with nbviewer.org.</b></div><div class=\"sk-container\" hidden><div class=\"sk-item\"><div class=\"sk-estimator fitted sk-toggleable\"><input class=\"sk-toggleable__control sk-hidden--visually\" id=\"sk-estimator-id-2\" type=\"checkbox\" checked><label for=\"sk-estimator-id-2\" class=\"sk-toggleable__label fitted sk-toggleable__label-arrow\"><div><div>DecisionTreeRegressor</div></div><div><a class=\"sk-estimator-doc-link fitted\" rel=\"noreferrer\" target=\"_blank\" href=\"https://scikit-learn.org/1.6/modules/generated/sklearn.tree.DecisionTreeRegressor.html\">?<span>Documentation for DecisionTreeRegressor</span></a><span class=\"sk-estimator-doc-link fitted\">i<span>Fitted</span></span></div></label><div class=\"sk-toggleable__content fitted\"><pre>DecisionTreeRegressor()</pre></div> </div></div></div></div>"
      ],
      "text/plain": [
       "DecisionTreeRegressor()"
      ]
     },
     "execution_count": 23,
     "metadata": {},
     "output_type": "execute_result"
    }
   ],
   "source": [
    "from sklearn.tree import DecisionTreeRegressor\n",
    "regression_tree = DecisionTreeRegressor()\n",
    "regression_tree.fit(X, y)"
   ]
  },
  {
   "cell_type": "code",
   "execution_count": 24,
   "id": "0ca7e8d8-8716-49c9-864d-37e2b39eb1b6",
   "metadata": {},
   "outputs": [
    {
     "data": {
      "text/plain": [
       "array([  470.,   520.,   630.,   830.,  1150.,  1530.,  2040.,  3080.,\n",
       "        5100., 10100.])"
      ]
     },
     "execution_count": 24,
     "metadata": {},
     "output_type": "execute_result"
    }
   ],
   "source": [
    "previsions = regression_tree.predict(X)\n",
    "previsions"
   ]
  },
  {
   "cell_type": "code",
   "execution_count": 25,
   "id": "264041cb-2343-4e19-878f-9918e82ac195",
   "metadata": {},
   "outputs": [
    {
     "data": {
      "text/plain": [
       "1.0"
      ]
     },
     "execution_count": 25,
     "metadata": {},
     "output_type": "execute_result"
    }
   ],
   "source": [
    "regression_tree.score(X, y)"
   ]
  },
  {
   "cell_type": "code",
   "execution_count": 26,
   "id": "0e9a3be2-2d7f-447f-a6aa-4366bf6feb19",
   "metadata": {},
   "outputs": [
    {
     "data": {
      "application/vnd.plotly.v1+json": {
       "config": {
        "plotlyServerURL": "https://plot.ly"
       },
       "data": [
        {
         "hovertemplate": "x=%{x}<br>y=%{y}<extra></extra>",
         "legendgroup": "",
         "marker": {
          "color": "#636efa",
          "symbol": "circle"
         },
         "mode": "markers",
         "name": "",
         "orientation": "v",
         "showlegend": false,
         "type": "scatter",
         "x": [
          18,
          23,
          28,
          33,
          38,
          43,
          48,
          53,
          58,
          63
         ],
         "xaxis": "x",
         "y": [
          470,
          520,
          630,
          830,
          1150,
          1530,
          2040,
          3080,
          5100,
          10100
         ],
         "yaxis": "y"
        },
        {
         "name": "Regressão",
         "type": "scatter",
         "x": [
          18,
          23,
          28,
          33,
          38,
          43,
          48,
          53,
          58,
          63
         ],
         "y": [
          470,
          520,
          630,
          830,
          1150,
          1530,
          2040,
          3080,
          5100,
          10100
         ]
        }
       ],
       "layout": {
        "height": 500,
        "legend": {
         "tracegroupgap": 0
        },
        "margin": {
         "t": 60
        },
        "template": {
         "data": {
          "bar": [
           {
            "error_x": {
             "color": "#2a3f5f"
            },
            "error_y": {
             "color": "#2a3f5f"
            },
            "marker": {
             "line": {
              "color": "#E5ECF6",
              "width": 0.5
             },
             "pattern": {
              "fillmode": "overlay",
              "size": 10,
              "solidity": 0.2
             }
            },
            "type": "bar"
           }
          ],
          "barpolar": [
           {
            "marker": {
             "line": {
              "color": "#E5ECF6",
              "width": 0.5
             },
             "pattern": {
              "fillmode": "overlay",
              "size": 10,
              "solidity": 0.2
             }
            },
            "type": "barpolar"
           }
          ],
          "carpet": [
           {
            "aaxis": {
             "endlinecolor": "#2a3f5f",
             "gridcolor": "white",
             "linecolor": "white",
             "minorgridcolor": "white",
             "startlinecolor": "#2a3f5f"
            },
            "baxis": {
             "endlinecolor": "#2a3f5f",
             "gridcolor": "white",
             "linecolor": "white",
             "minorgridcolor": "white",
             "startlinecolor": "#2a3f5f"
            },
            "type": "carpet"
           }
          ],
          "choropleth": [
           {
            "colorbar": {
             "outlinewidth": 0,
             "ticks": ""
            },
            "type": "choropleth"
           }
          ],
          "contour": [
           {
            "colorbar": {
             "outlinewidth": 0,
             "ticks": ""
            },
            "colorscale": [
             [
              0,
              "#0d0887"
             ],
             [
              0.1111111111111111,
              "#46039f"
             ],
             [
              0.2222222222222222,
              "#7201a8"
             ],
             [
              0.3333333333333333,
              "#9c179e"
             ],
             [
              0.4444444444444444,
              "#bd3786"
             ],
             [
              0.5555555555555556,
              "#d8576b"
             ],
             [
              0.6666666666666666,
              "#ed7953"
             ],
             [
              0.7777777777777778,
              "#fb9f3a"
             ],
             [
              0.8888888888888888,
              "#fdca26"
             ],
             [
              1,
              "#f0f921"
             ]
            ],
            "type": "contour"
           }
          ],
          "contourcarpet": [
           {
            "colorbar": {
             "outlinewidth": 0,
             "ticks": ""
            },
            "type": "contourcarpet"
           }
          ],
          "heatmap": [
           {
            "colorbar": {
             "outlinewidth": 0,
             "ticks": ""
            },
            "colorscale": [
             [
              0,
              "#0d0887"
             ],
             [
              0.1111111111111111,
              "#46039f"
             ],
             [
              0.2222222222222222,
              "#7201a8"
             ],
             [
              0.3333333333333333,
              "#9c179e"
             ],
             [
              0.4444444444444444,
              "#bd3786"
             ],
             [
              0.5555555555555556,
              "#d8576b"
             ],
             [
              0.6666666666666666,
              "#ed7953"
             ],
             [
              0.7777777777777778,
              "#fb9f3a"
             ],
             [
              0.8888888888888888,
              "#fdca26"
             ],
             [
              1,
              "#f0f921"
             ]
            ],
            "type": "heatmap"
           }
          ],
          "heatmapgl": [
           {
            "colorbar": {
             "outlinewidth": 0,
             "ticks": ""
            },
            "colorscale": [
             [
              0,
              "#0d0887"
             ],
             [
              0.1111111111111111,
              "#46039f"
             ],
             [
              0.2222222222222222,
              "#7201a8"
             ],
             [
              0.3333333333333333,
              "#9c179e"
             ],
             [
              0.4444444444444444,
              "#bd3786"
             ],
             [
              0.5555555555555556,
              "#d8576b"
             ],
             [
              0.6666666666666666,
              "#ed7953"
             ],
             [
              0.7777777777777778,
              "#fb9f3a"
             ],
             [
              0.8888888888888888,
              "#fdca26"
             ],
             [
              1,
              "#f0f921"
             ]
            ],
            "type": "heatmapgl"
           }
          ],
          "histogram": [
           {
            "marker": {
             "pattern": {
              "fillmode": "overlay",
              "size": 10,
              "solidity": 0.2
             }
            },
            "type": "histogram"
           }
          ],
          "histogram2d": [
           {
            "colorbar": {
             "outlinewidth": 0,
             "ticks": ""
            },
            "colorscale": [
             [
              0,
              "#0d0887"
             ],
             [
              0.1111111111111111,
              "#46039f"
             ],
             [
              0.2222222222222222,
              "#7201a8"
             ],
             [
              0.3333333333333333,
              "#9c179e"
             ],
             [
              0.4444444444444444,
              "#bd3786"
             ],
             [
              0.5555555555555556,
              "#d8576b"
             ],
             [
              0.6666666666666666,
              "#ed7953"
             ],
             [
              0.7777777777777778,
              "#fb9f3a"
             ],
             [
              0.8888888888888888,
              "#fdca26"
             ],
             [
              1,
              "#f0f921"
             ]
            ],
            "type": "histogram2d"
           }
          ],
          "histogram2dcontour": [
           {
            "colorbar": {
             "outlinewidth": 0,
             "ticks": ""
            },
            "colorscale": [
             [
              0,
              "#0d0887"
             ],
             [
              0.1111111111111111,
              "#46039f"
             ],
             [
              0.2222222222222222,
              "#7201a8"
             ],
             [
              0.3333333333333333,
              "#9c179e"
             ],
             [
              0.4444444444444444,
              "#bd3786"
             ],
             [
              0.5555555555555556,
              "#d8576b"
             ],
             [
              0.6666666666666666,
              "#ed7953"
             ],
             [
              0.7777777777777778,
              "#fb9f3a"
             ],
             [
              0.8888888888888888,
              "#fdca26"
             ],
             [
              1,
              "#f0f921"
             ]
            ],
            "type": "histogram2dcontour"
           }
          ],
          "mesh3d": [
           {
            "colorbar": {
             "outlinewidth": 0,
             "ticks": ""
            },
            "type": "mesh3d"
           }
          ],
          "parcoords": [
           {
            "line": {
             "colorbar": {
              "outlinewidth": 0,
              "ticks": ""
             }
            },
            "type": "parcoords"
           }
          ],
          "pie": [
           {
            "automargin": true,
            "type": "pie"
           }
          ],
          "scatter": [
           {
            "fillpattern": {
             "fillmode": "overlay",
             "size": 10,
             "solidity": 0.2
            },
            "type": "scatter"
           }
          ],
          "scatter3d": [
           {
            "line": {
             "colorbar": {
              "outlinewidth": 0,
              "ticks": ""
             }
            },
            "marker": {
             "colorbar": {
              "outlinewidth": 0,
              "ticks": ""
             }
            },
            "type": "scatter3d"
           }
          ],
          "scattercarpet": [
           {
            "marker": {
             "colorbar": {
              "outlinewidth": 0,
              "ticks": ""
             }
            },
            "type": "scattercarpet"
           }
          ],
          "scattergeo": [
           {
            "marker": {
             "colorbar": {
              "outlinewidth": 0,
              "ticks": ""
             }
            },
            "type": "scattergeo"
           }
          ],
          "scattergl": [
           {
            "marker": {
             "colorbar": {
              "outlinewidth": 0,
              "ticks": ""
             }
            },
            "type": "scattergl"
           }
          ],
          "scattermapbox": [
           {
            "marker": {
             "colorbar": {
              "outlinewidth": 0,
              "ticks": ""
             }
            },
            "type": "scattermapbox"
           }
          ],
          "scatterpolar": [
           {
            "marker": {
             "colorbar": {
              "outlinewidth": 0,
              "ticks": ""
             }
            },
            "type": "scatterpolar"
           }
          ],
          "scatterpolargl": [
           {
            "marker": {
             "colorbar": {
              "outlinewidth": 0,
              "ticks": ""
             }
            },
            "type": "scatterpolargl"
           }
          ],
          "scatterternary": [
           {
            "marker": {
             "colorbar": {
              "outlinewidth": 0,
              "ticks": ""
             }
            },
            "type": "scatterternary"
           }
          ],
          "surface": [
           {
            "colorbar": {
             "outlinewidth": 0,
             "ticks": ""
            },
            "colorscale": [
             [
              0,
              "#0d0887"
             ],
             [
              0.1111111111111111,
              "#46039f"
             ],
             [
              0.2222222222222222,
              "#7201a8"
             ],
             [
              0.3333333333333333,
              "#9c179e"
             ],
             [
              0.4444444444444444,
              "#bd3786"
             ],
             [
              0.5555555555555556,
              "#d8576b"
             ],
             [
              0.6666666666666666,
              "#ed7953"
             ],
             [
              0.7777777777777778,
              "#fb9f3a"
             ],
             [
              0.8888888888888888,
              "#fdca26"
             ],
             [
              1,
              "#f0f921"
             ]
            ],
            "type": "surface"
           }
          ],
          "table": [
           {
            "cells": {
             "fill": {
              "color": "#EBF0F8"
             },
             "line": {
              "color": "white"
             }
            },
            "header": {
             "fill": {
              "color": "#C8D4E3"
             },
             "line": {
              "color": "white"
             }
            },
            "type": "table"
           }
          ]
         },
         "layout": {
          "annotationdefaults": {
           "arrowcolor": "#2a3f5f",
           "arrowhead": 0,
           "arrowwidth": 1
          },
          "autotypenumbers": "strict",
          "coloraxis": {
           "colorbar": {
            "outlinewidth": 0,
            "ticks": ""
           }
          },
          "colorscale": {
           "diverging": [
            [
             0,
             "#8e0152"
            ],
            [
             0.1,
             "#c51b7d"
            ],
            [
             0.2,
             "#de77ae"
            ],
            [
             0.3,
             "#f1b6da"
            ],
            [
             0.4,
             "#fde0ef"
            ],
            [
             0.5,
             "#f7f7f7"
            ],
            [
             0.6,
             "#e6f5d0"
            ],
            [
             0.7,
             "#b8e186"
            ],
            [
             0.8,
             "#7fbc41"
            ],
            [
             0.9,
             "#4d9221"
            ],
            [
             1,
             "#276419"
            ]
           ],
           "sequential": [
            [
             0,
             "#0d0887"
            ],
            [
             0.1111111111111111,
             "#46039f"
            ],
            [
             0.2222222222222222,
             "#7201a8"
            ],
            [
             0.3333333333333333,
             "#9c179e"
            ],
            [
             0.4444444444444444,
             "#bd3786"
            ],
            [
             0.5555555555555556,
             "#d8576b"
            ],
            [
             0.6666666666666666,
             "#ed7953"
            ],
            [
             0.7777777777777778,
             "#fb9f3a"
            ],
            [
             0.8888888888888888,
             "#fdca26"
            ],
            [
             1,
             "#f0f921"
            ]
           ],
           "sequentialminus": [
            [
             0,
             "#0d0887"
            ],
            [
             0.1111111111111111,
             "#46039f"
            ],
            [
             0.2222222222222222,
             "#7201a8"
            ],
            [
             0.3333333333333333,
             "#9c179e"
            ],
            [
             0.4444444444444444,
             "#bd3786"
            ],
            [
             0.5555555555555556,
             "#d8576b"
            ],
            [
             0.6666666666666666,
             "#ed7953"
            ],
            [
             0.7777777777777778,
             "#fb9f3a"
            ],
            [
             0.8888888888888888,
             "#fdca26"
            ],
            [
             1,
             "#f0f921"
            ]
           ]
          },
          "colorway": [
           "#636efa",
           "#EF553B",
           "#00cc96",
           "#ab63fa",
           "#FFA15A",
           "#19d3f3",
           "#FF6692",
           "#B6E880",
           "#FF97FF",
           "#FECB52"
          ],
          "font": {
           "color": "#2a3f5f"
          },
          "geo": {
           "bgcolor": "white",
           "lakecolor": "white",
           "landcolor": "#E5ECF6",
           "showlakes": true,
           "showland": true,
           "subunitcolor": "white"
          },
          "hoverlabel": {
           "align": "left"
          },
          "hovermode": "closest",
          "mapbox": {
           "style": "light"
          },
          "paper_bgcolor": "white",
          "plot_bgcolor": "#E5ECF6",
          "polar": {
           "angularaxis": {
            "gridcolor": "white",
            "linecolor": "white",
            "ticks": ""
           },
           "bgcolor": "#E5ECF6",
           "radialaxis": {
            "gridcolor": "white",
            "linecolor": "white",
            "ticks": ""
           }
          },
          "scene": {
           "xaxis": {
            "backgroundcolor": "#E5ECF6",
            "gridcolor": "white",
            "gridwidth": 2,
            "linecolor": "white",
            "showbackground": true,
            "ticks": "",
            "zerolinecolor": "white"
           },
           "yaxis": {
            "backgroundcolor": "#E5ECF6",
            "gridcolor": "white",
            "gridwidth": 2,
            "linecolor": "white",
            "showbackground": true,
            "ticks": "",
            "zerolinecolor": "white"
           },
           "zaxis": {
            "backgroundcolor": "#E5ECF6",
            "gridcolor": "white",
            "gridwidth": 2,
            "linecolor": "white",
            "showbackground": true,
            "ticks": "",
            "zerolinecolor": "white"
           }
          },
          "shapedefaults": {
           "line": {
            "color": "#2a3f5f"
           }
          },
          "ternary": {
           "aaxis": {
            "gridcolor": "white",
            "linecolor": "white",
            "ticks": ""
           },
           "baxis": {
            "gridcolor": "white",
            "linecolor": "white",
            "ticks": ""
           },
           "bgcolor": "#E5ECF6",
           "caxis": {
            "gridcolor": "white",
            "linecolor": "white",
            "ticks": ""
           }
          },
          "title": {
           "x": 0.05
          },
          "xaxis": {
           "automargin": true,
           "gridcolor": "white",
           "linecolor": "white",
           "ticks": "",
           "title": {
            "standoff": 15
           },
           "zerolinecolor": "white",
           "zerolinewidth": 2
          },
          "yaxis": {
           "automargin": true,
           "gridcolor": "white",
           "linecolor": "white",
           "ticks": "",
           "title": {
            "standoff": 15
           },
           "zerolinecolor": "white",
           "zerolinewidth": 2
          }
         }
        },
        "width": 800,
        "xaxis": {
         "anchor": "y",
         "domain": [
          0,
          1
         ],
         "title": {
          "text": "x"
         }
        },
        "yaxis": {
         "anchor": "x",
         "domain": [
          0,
          1
         ],
         "title": {
          "text": "y"
         }
        }
       }
      },
      "image/png": "[encoded data removed]",
      "text/html": [
       "<div>                            <div id=\"eded73a1-61cc-4eb6-88dc-dd1f857a625b\" class=\"plotly-graph-div\" style=\"height:500px; width:800px;\"></div>            <script type=\"text/javascript\">                require([\"plotly\"], function(Plotly) {                    window.PLOTLYENV=window.PLOTLYENV || {};                                    if (document.getElementById(\"eded73a1-61cc-4eb6-88dc-dd1f857a625b\")) {                    Plotly.newPlot(                        \"eded73a1-61cc-4eb6-88dc-dd1f857a625b\",                        [{\"hovertemplate\":\"x=%{x}\\u003cbr\\u003ey=%{y}\\u003cextra\\u003e\\u003c\\u002fextra\\u003e\",\"legendgroup\":\"\",\"marker\":{\"color\":\"#636efa\",\"symbol\":\"circle\"},\"mode\":\"markers\",\"name\":\"\",\"orientation\":\"v\",\"showlegend\":false,\"x\":[18,23,28,33,38,43,48,53,58,63],\"xaxis\":\"x\",\"y\":[470,520,630,830,1150,1530,2040,3080,5100,10100],\"yaxis\":\"y\",\"type\":\"scatter\"},{\"name\":\"Regress\\u00e3o\",\"x\":[18,23,28,33,38,43,48,53,58,63],\"y\":[470.0,520.0,630.0,830.0,1150.0,1530.0,2040.0,3080.0,5100.0,10100.0],\"type\":\"scatter\"}],                        {\"template\":{\"data\":{\"histogram2dcontour\":[{\"type\":\"histogram2dcontour\",\"colorbar\":{\"outlinewidth\":0,\"ticks\":\"\"},\"colorscale\":[[0.0,\"#0d0887\"],[0.1111111111111111,\"#46039f\"],[0.2222222222222222,\"#7201a8\"],[0.3333333333333333,\"#9c179e\"],[0.4444444444444444,\"#bd3786\"],[0.5555555555555556,\"#d8576b\"],[0.6666666666666666,\"#ed7953\"],[0.7777777777777778,\"#fb9f3a\"],[0.8888888888888888,\"#fdca26\"],[1.0,\"#f0f921\"]]}],\"choropleth\":[{\"type\":\"choropleth\",\"colorbar\":{\"outlinewidth\":0,\"ticks\":\"\"}}],\"histogram2d\":[{\"type\":\"histogram2d\",\"colorbar\":{\"outlinewidth\":0,\"ticks\":\"\"},\"colorscale\":[[0.0,\"#0d0887\"],[0.1111111111111111,\"#46039f\"],[0.2222222222222222,\"#7201a8\"],[0.3333333333333333,\"#9c179e\"],[0.4444444444444444,\"#bd3786\"],[0.5555555555555556,\"#d8576b\"],[0.6666666666666666,\"#ed7953\"],[0.7777777777777778,\"#fb9f3a\"],[0.8888888888888888,\"#fdca26\"],[1.0,\"#f0f921\"]]}],\"heatmap\":[{\"type\":\"heatmap\",\"colorbar\":{\"outlinewidth\":0,\"ticks\":\"\"},\"colorscale\":[[0.0,\"#0d0887\"],[0.1111111111111111,\"#46039f\"],[0.2222222222222222,\"#7201a8\"],[0.3333333333333333,\"#9c179e\"],[0.4444444444444444,\"#bd3786\"],[0.5555555555555556,\"#d8576b\"],[0.6666666666666666,\"#ed7953\"],[0.7777777777777778,\"#fb9f3a\"],[0.8888888888888888,\"#fdca26\"],[1.0,\"#f0f921\"]]}],\"heatmapgl\":[{\"type\":\"heatmapgl\",\"colorbar\":{\"outlinewidth\":0,\"ticks\":\"\"},\"colorscale\":[[0.0,\"#0d0887\"],[0.1111111111111111,\"#46039f\"],[0.2222222222222222,\"#7201a8\"],[0.3333333333333333,\"#9c179e\"],[0.4444444444444444,\"#bd3786\"],[0.5555555555555556,\"#d8576b\"],[0.6666666666666666,\"#ed7953\"],[0.7777777777777778,\"#fb9f3a\"],[0.8888888888888888,\"#fdca26\"],[1.0,\"#f0f921\"]]}],\"contourcarpet\":[{\"type\":\"contourcarpet\",\"colorbar\":{\"outlinewidth\":0,\"ticks\":\"\"}}],\"contour\":[{\"type\":\"contour\",\"colorbar\":{\"outlinewidth\":0,\"ticks\":\"\"},\"colorscale\":[[0.0,\"#0d0887\"],[0.1111111111111111,\"#46039f\"],[0.2222222222222222,\"#7201a8\"],[0.3333333333333333,\"#9c179e\"],[0.4444444444444444,\"#bd3786\"],[0.5555555555555556,\"#d8576b\"],[0.6666666666666666,\"#ed7953\"],[0.7777777777777778,\"#fb9f3a\"],[0.8888888888888888,\"#fdca26\"],[1.0,\"#f0f921\"]]}],\"surface\":[{\"type\":\"surface\",\"colorbar\":{\"outlinewidth\":0,\"ticks\":\"\"},\"colorscale\":[[0.0,\"#0d0887\"],[0.1111111111111111,\"#46039f\"],[0.2222222222222222,\"#7201a8\"],[0.3333333333333333,\"#9c179e\"],[0.4444444444444444,\"#bd3786\"],[0.5555555555555556,\"#d8576b\"],[0.6666666666666666,\"#ed7953\"],[0.7777777777777778,\"#fb9f3a\"],[0.8888888888888888,\"#fdca26\"],[1.0,\"#f0f921\"]]}],\"mesh3d\":[{\"type\":\"mesh3d\",\"colorbar\":{\"outlinewidth\":0,\"ticks\":\"\"}}],\"scatter\":[{\"fillpattern\":{\"fillmode\":\"overlay\",\"size\":10,\"solidity\":0.2},\"type\":\"scatter\"}],\"parcoords\":[{\"type\":\"parcoords\",\"line\":{\"colorbar\":{\"outlinewidth\":0,\"ticks\":\"\"}}}],\"scatterpolargl\":[{\"type\":\"scatterpolargl\",\"marker\":{\"colorbar\":{\"outlinewidth\":0,\"ticks\":\"\"}}}],\"bar\":[{\"error_x\":{\"color\":\"#2a3f5f\"},\"error_y\":{\"color\":\"#2a3f5f\"},\"marker\":{\"line\":{\"color\":\"#E5ECF6\",\"width\":0.5},\"pattern\":{\"fillmode\":\"overlay\",\"size\":10,\"solidity\":0.2}},\"type\":\"bar\"}],\"scattergeo\":[{\"type\":\"scattergeo\",\"marker\":{\"colorbar\":{\"outlinewidth\":0,\"ticks\":\"\"}}}],\"scatterpolar\":[{\"type\":\"scatterpolar\",\"marker\":{\"colorbar\":{\"outlinewidth\":0,\"ticks\":\"\"}}}],\"histogram\":[{\"marker\":{\"pattern\":{\"fillmode\":\"overlay\",\"size\":10,\"solidity\":0.2}},\"type\":\"histogram\"}],\"scattergl\":[{\"type\":\"scattergl\",\"marker\":{\"colorbar\":{\"outlinewidth\":0,\"ticks\":\"\"}}}],\"scatter3d\":[{\"type\":\"scatter3d\",\"line\":{\"colorbar\":{\"outlinewidth\":0,\"ticks\":\"\"}},\"marker\":{\"colorbar\":{\"outlinewidth\":0,\"ticks\":\"\"}}}],\"scattermapbox\":[{\"type\":\"scattermapbox\",\"marker\":{\"colorbar\":{\"outlinewidth\":0,\"ticks\":\"\"}}}],\"scatterternary\":[{\"type\":\"scatterternary\",\"marker\":{\"colorbar\":{\"outlinewidth\":0,\"ticks\":\"\"}}}],\"scattercarpet\":[{\"type\":\"scattercarpet\",\"marker\":{\"colorbar\":{\"outlinewidth\":0,\"ticks\":\"\"}}}],\"carpet\":[{\"aaxis\":{\"endlinecolor\":\"#2a3f5f\",\"gridcolor\":\"white\",\"linecolor\":\"white\",\"minorgridcolor\":\"white\",\"startlinecolor\":\"#2a3f5f\"},\"baxis\":{\"endlinecolor\":\"#2a3f5f\",\"gridcolor\":\"white\",\"linecolor\":\"white\",\"minorgridcolor\":\"white\",\"startlinecolor\":\"#2a3f5f\"},\"type\":\"carpet\"}],\"table\":[{\"cells\":{\"fill\":{\"color\":\"#EBF0F8\"},\"line\":{\"color\":\"white\"}},\"header\":{\"fill\":{\"color\":\"#C8D4E3\"},\"line\":{\"color\":\"white\"}},\"type\":\"table\"}],\"barpolar\":[{\"marker\":{\"line\":{\"color\":\"#E5ECF6\",\"width\":0.5},\"pattern\":{\"fillmode\":\"overlay\",\"size\":10,\"solidity\":0.2}},\"type\":\"barpolar\"}],\"pie\":[{\"automargin\":true,\"type\":\"pie\"}]},\"layout\":{\"autotypenumbers\":\"strict\",\"colorway\":[\"#636efa\",\"#EF553B\",\"#00cc96\",\"#ab63fa\",\"#FFA15A\",\"#19d3f3\",\"#FF6692\",\"#B6E880\",\"#FF97FF\",\"#FECB52\"],\"font\":{\"color\":\"#2a3f5f\"},\"hovermode\":\"closest\",\"hoverlabel\":{\"align\":\"left\"},\"paper_bgcolor\":\"white\",\"plot_bgcolor\":\"#E5ECF6\",\"polar\":{\"bgcolor\":\"#E5ECF6\",\"angularaxis\":{\"gridcolor\":\"white\",\"linecolor\":\"white\",\"ticks\":\"\"},\"radialaxis\":{\"gridcolor\":\"white\",\"linecolor\":\"white\",\"ticks\":\"\"}},\"ternary\":{\"bgcolor\":\"#E5ECF6\",\"aaxis\":{\"gridcolor\":\"white\",\"linecolor\":\"white\",\"ticks\":\"\"},\"baxis\":{\"gridcolor\":\"white\",\"linecolor\":\"white\",\"ticks\":\"\"},\"caxis\":{\"gridcolor\":\"white\",\"linecolor\":\"white\",\"ticks\":\"\"}},\"coloraxis\":{\"colorbar\":{\"outlinewidth\":0,\"ticks\":\"\"}},\"colorscale\":{\"sequential\":[[0.0,\"#0d0887\"],[0.1111111111111111,\"#46039f\"],[0.2222222222222222,\"#7201a8\"],[0.3333333333333333,\"#9c179e\"],[0.4444444444444444,\"#bd3786\"],[0.5555555555555556,\"#d8576b\"],[0.6666666666666666,\"#ed7953\"],[0.7777777777777778,\"#fb9f3a\"],[0.8888888888888888,\"#fdca26\"],[1.0,\"#f0f921\"]],\"sequentialminus\":[[0.0,\"#0d0887\"],[0.1111111111111111,\"#46039f\"],[0.2222222222222222,\"#7201a8\"],[0.3333333333333333,\"#9c179e\"],[0.4444444444444444,\"#bd3786\"],[0.5555555555555556,\"#d8576b\"],[0.6666666666666666,\"#ed7953\"],[0.7777777777777778,\"#fb9f3a\"],[0.8888888888888888,\"#fdca26\"],[1.0,\"#f0f921\"]],\"diverging\":[[0,\"#8e0152\"],[0.1,\"#c51b7d\"],[0.2,\"#de77ae\"],[0.3,\"#f1b6da\"],[0.4,\"#fde0ef\"],[0.5,\"#f7f7f7\"],[0.6,\"#e6f5d0\"],[0.7,\"#b8e186\"],[0.8,\"#7fbc41\"],[0.9,\"#4d9221\"],[1,\"#276419\"]]},\"xaxis\":{\"gridcolor\":\"white\",\"linecolor\":\"white\",\"ticks\":\"\",\"title\":{\"standoff\":15},\"zerolinecolor\":\"white\",\"automargin\":true,\"zerolinewidth\":2},\"yaxis\":{\"gridcolor\":\"white\",\"linecolor\":\"white\",\"ticks\":\"\",\"title\":{\"standoff\":15},\"zerolinecolor\":\"white\",\"automargin\":true,\"zerolinewidth\":2},\"scene\":{\"xaxis\":{\"backgroundcolor\":\"#E5ECF6\",\"gridcolor\":\"white\",\"linecolor\":\"white\",\"showbackground\":true,\"ticks\":\"\",\"zerolinecolor\":\"white\",\"gridwidth\":2},\"yaxis\":{\"backgroundcolor\":\"#E5ECF6\",\"gridcolor\":\"white\",\"linecolor\":\"white\",\"showbackground\":true,\"ticks\":\"\",\"zerolinecolor\":\"white\",\"gridwidth\":2},\"zaxis\":{\"backgroundcolor\":\"#E5ECF6\",\"gridcolor\":\"white\",\"linecolor\":\"white\",\"showbackground\":true,\"ticks\":\"\",\"zerolinecolor\":\"white\",\"gridwidth\":2}},\"shapedefaults\":{\"line\":{\"color\":\"#2a3f5f\"}},\"annotationdefaults\":{\"arrowcolor\":\"#2a3f5f\",\"arrowhead\":0,\"arrowwidth\":1},\"geo\":{\"bgcolor\":\"white\",\"landcolor\":\"#E5ECF6\",\"subunitcolor\":\"white\",\"showland\":true,\"showlakes\":true,\"lakecolor\":\"white\"},\"title\":{\"x\":0.05},\"mapbox\":{\"style\":\"light\"}}},\"xaxis\":{\"anchor\":\"y\",\"domain\":[0.0,1.0],\"title\":{\"text\":\"x\"}},\"yaxis\":{\"anchor\":\"x\",\"domain\":[0.0,1.0],\"title\":{\"text\":\"y\"}},\"legend\":{\"tracegroupgap\":0},\"margin\":{\"t\":60},\"height\":500,\"width\":800},                        {\"responsive\": true}                    ).then(function(){\n",
       "                            \n",
       "var gd = document.getElementById('eded73a1-61cc-4eb6-88dc-dd1f857a625b');\n",
       "var x = new MutationObserver(function (mutations, observer) {{\n",
       "        var display = window.getComputedStyle(gd).display;\n",
       "        if (!display || display === 'none') {{\n",
       "            console.log([gd, 'removed!']);\n",
       "            Plotly.purge(gd);\n",
       "            observer.disconnect();\n",
       "        }}\n",
       "}});\n",
       "\n",
       "// Listen for the removal of the full notebook cells\n",
       "var notebookContainer = gd.closest('#notebook-container');\n",
       "if (notebookContainer) {{\n",
       "    x.observe(notebookContainer, {childList: true});\n",
       "}}\n",
       "\n",
       "// Listen for the clearing of the current output cell\n",
       "var outputEl = gd.closest('.output');\n",
       "if (outputEl) {{\n",
       "    x.observe(outputEl, {childList: true});\n",
       "}}\n",
       "\n",
       "                        })                };                });            </script>        </div>"
      ]
     },
     "metadata": {},
     "output_type": "display_data"
    }
   ],
   "source": [
    "g = px.scatter(x = X[:,0], y = y, width=800, height=500)\n",
    "g.add_scatter(x = X[:,0], y = previsions, name = 'Regressão')\n",
    "g.show()"
   ]
  },
  {
   "cell_type": "code",
   "execution_count": 27,
   "id": "6cf4a6e4-4527-4bd6-bd69-85d289317a6e",
   "metadata": {},
   "outputs": [
    {
     "name": "stderr",
     "output_type": "stream",
     "text": [
      "/tmp/ipykernel_11000/3610082272.py:1: DeprecationWarning:\n",
      "\n",
      "Conversion of an array with ndim > 0 to a scalar is deprecated, and will error in future. Ensure you extract a single element from your array before performing this operation. (Deprecated NumPy 1.25.)\n",
      "\n"
     ]
    },
    {
     "data": {
      "text/plain": [
       "array([18. , 18.1, 18.2, 18.3, 18.4, 18.5, 18.6, 18.7, 18.8, 18.9, 19. ,\n",
       "       19.1, 19.2, 19.3, 19.4, 19.5, 19.6, 19.7, 19.8, 19.9, 20. , 20.1,\n",
       "       20.2, 20.3, 20.4, 20.5, 20.6, 20.7, 20.8, 20.9, 21. , 21.1, 21.2,\n",
       "       21.3, 21.4, 21.5, 21.6, 21.7, 21.8, 21.9, 22. , 22.1, 22.2, 22.3,\n",
       "       22.4, 22.5, 22.6, 22.7, 22.8, 22.9, 23. , 23.1, 23.2, 23.3, 23.4,\n",
       "       23.5, 23.6, 23.7, 23.8, 23.9, 24. , 24.1, 24.2, 24.3, 24.4, 24.5,\n",
       "       24.6, 24.7, 24.8, 24.9, 25. , 25.1, 25.2, 25.3, 25.4, 25.5, 25.6,\n",
       "       25.7, 25.8, 25.9, 26. , 26.1, 26.2, 26.3, 26.4, 26.5, 26.6, 26.7,\n",
       "       26.8, 26.9, 27. , 27.1, 27.2, 27.3, 27.4, 27.5, 27.6, 27.7, 27.8,\n",
       "       27.9, 28. , 28.1, 28.2, 28.3, 28.4, 28.5, 28.6, 28.7, 28.8, 28.9,\n",
       "       29. , 29.1, 29.2, 29.3, 29.4, 29.5, 29.6, 29.7, 29.8, 29.9, 30. ,\n",
       "       30.1, 30.2, 30.3, 30.4, 30.5, 30.6, 30.7, 30.8, 30.9, 31. , 31.1,\n",
       "       31.2, 31.3, 31.4, 31.5, 31.6, 31.7, 31.8, 31.9, 32. , 32.1, 32.2,\n",
       "       32.3, 32.4, 32.5, 32.6, 32.7, 32.8, 32.9, 33. , 33.1, 33.2, 33.3,\n",
       "       33.4, 33.5, 33.6, 33.7, 33.8, 33.9, 34. , 34.1, 34.2, 34.3, 34.4,\n",
       "       34.5, 34.6, 34.7, 34.8, 34.9, 35. , 35.1, 35.2, 35.3, 35.4, 35.5,\n",
       "       35.6, 35.7, 35.8, 35.9, 36. , 36.1, 36.2, 36.3, 36.4, 36.5, 36.6,\n",
       "       36.7, 36.8, 36.9, 37. , 37.1, 37.2, 37.3, 37.4, 37.5, 37.6, 37.7,\n",
       "       37.8, 37.9, 38. , 38.1, 38.2, 38.3, 38.4, 38.5, 38.6, 38.7, 38.8,\n",
       "       38.9, 39. , 39.1, 39.2, 39.3, 39.4, 39.5, 39.6, 39.7, 39.8, 39.9,\n",
       "       40. , 40.1, 40.2, 40.3, 40.4, 40.5, 40.6, 40.7, 40.8, 40.9, 41. ,\n",
       "       41.1, 41.2, 41.3, 41.4, 41.5, 41.6, 41.7, 41.8, 41.9, 42. , 42.1,\n",
       "       42.2, 42.3, 42.4, 42.5, 42.6, 42.7, 42.8, 42.9, 43. , 43.1, 43.2,\n",
       "       43.3, 43.4, 43.5, 43.6, 43.7, 43.8, 43.9, 44. , 44.1, 44.2, 44.3,\n",
       "       44.4, 44.5, 44.6, 44.7, 44.8, 44.9, 45. , 45.1, 45.2, 45.3, 45.4,\n",
       "       45.5, 45.6, 45.7, 45.8, 45.9, 46. , 46.1, 46.2, 46.3, 46.4, 46.5,\n",
       "       46.6, 46.7, 46.8, 46.9, 47. , 47.1, 47.2, 47.3, 47.4, 47.5, 47.6,\n",
       "       47.7, 47.8, 47.9, 48. , 48.1, 48.2, 48.3, 48.4, 48.5, 48.6, 48.7,\n",
       "       48.8, 48.9, 49. , 49.1, 49.2, 49.3, 49.4, 49.5, 49.6, 49.7, 49.8,\n",
       "       49.9, 50. , 50.1, 50.2, 50.3, 50.4, 50.5, 50.6, 50.7, 50.8, 50.9,\n",
       "       51. , 51.1, 51.2, 51.3, 51.4, 51.5, 51.6, 51.7, 51.8, 51.9, 52. ,\n",
       "       52.1, 52.2, 52.3, 52.4, 52.5, 52.6, 52.7, 52.8, 52.9, 53. , 53.1,\n",
       "       53.2, 53.3, 53.4, 53.5, 53.6, 53.7, 53.8, 53.9, 54. , 54.1, 54.2,\n",
       "       54.3, 54.4, 54.5, 54.6, 54.7, 54.8, 54.9, 55. , 55.1, 55.2, 55.3,\n",
       "       55.4, 55.5, 55.6, 55.7, 55.8, 55.9, 56. , 56.1, 56.2, 56.3, 56.4,\n",
       "       56.5, 56.6, 56.7, 56.8, 56.9, 57. , 57.1, 57.2, 57.3, 57.4, 57.5,\n",
       "       57.6, 57.7, 57.8, 57.9, 58. , 58.1, 58.2, 58.3, 58.4, 58.5, 58.6,\n",
       "       58.7, 58.8, 58.9, 59. , 59.1, 59.2, 59.3, 59.4, 59.5, 59.6, 59.7,\n",
       "       59.8, 59.9, 60. , 60.1, 60.2, 60.3, 60.4, 60.5, 60.6, 60.7, 60.8,\n",
       "       60.9, 61. , 61.1, 61.2, 61.3, 61.4, 61.5, 61.6, 61.7, 61.8, 61.9,\n",
       "       62. , 62.1, 62.2, 62.3, 62.4, 62.5, 62.6, 62.7, 62.8, 62.9])"
      ]
     },
     "execution_count": 27,
     "metadata": {},
     "output_type": "execute_result"
    }
   ],
   "source": [
    "X_test_tree = np.arange(min(X), max(X), 0.1)\n",
    "X_test_tree"
   ]
  },
  {
   "cell_type": "code",
   "execution_count": 28,
   "id": "4ae70dea-2579-488f-8cf9-4b4a49136b6a",
   "metadata": {},
   "outputs": [
    {
     "data": {
      "text/plain": [
       "(450,)"
      ]
     },
     "execution_count": 28,
     "metadata": {},
     "output_type": "execute_result"
    }
   ],
   "source": [
    "X_test_tree.shape"
   ]
  },
  {
   "cell_type": "code",
   "execution_count": 29,
   "id": "2a778181-f3d6-48cf-b49b-e6be6b323bb0",
   "metadata": {},
   "outputs": [
    {
     "data": {
      "text/plain": [
       "(450, 1)"
      ]
     },
     "execution_count": 29,
     "metadata": {},
     "output_type": "execute_result"
    }
   ],
   "source": [
    "X_test_tree = X_test_tree.reshape(-1,1)\n",
    "X_test_tree.shape"
   ]
  },
  {
   "cell_type": "code",
   "execution_count": 42,
   "id": "63d8276e-848f-47bb-9fe4-7b8033924d32",
   "metadata": {},
   "outputs": [
    {
     "data": {
      "application/vnd.plotly.v1+json": {
       "config": {
        "plotlyServerURL": "https://plot.ly"
       },
       "data": [
        {
         "hovertemplate": "x=%{x}<br>y=%{y}<extra></extra>",
         "legendgroup": "",
         "marker": {
          "color": "#636efa",
          "symbol": "circle"
         },
         "mode": "markers",
         "name": "",
         "orientation": "v",
         "showlegend": false,
         "type": "scatter",
         "x": [
          18,
          23,
          28,
          33,
          38,
          43,
          48,
          53,
          58,
          63
         ],
         "xaxis": "x",
         "y": [
          470,
          520,
          630,
          830,
          1150,
          1530,
          2040,
          3080,
          5100,
          10100
         ],
         "yaxis": "y"
        },
        {
         "name": "Regressão",
         "type": "scatter",
         "x": [
          18,
          18.1,
          18.200000000000003,
          18.300000000000004,
          18.400000000000006,
          18.500000000000007,
          18.60000000000001,
          18.70000000000001,
          18.80000000000001,
          18.900000000000013,
          19.000000000000014,
          19.100000000000016,
          19.200000000000017,
          19.30000000000002,
          19.40000000000002,
          19.50000000000002,
          19.600000000000023,
          19.700000000000024,
          19.800000000000026,
          19.900000000000027,
          20.00000000000003,
          20.10000000000003,
          20.20000000000003,
          20.300000000000033,
          20.400000000000034,
          20.500000000000036,
          20.600000000000037,
          20.70000000000004,
          20.80000000000004,
          20.90000000000004,
          21.000000000000043,
          21.100000000000044,
          21.200000000000045,
          21.300000000000047,
          21.40000000000005,
          21.50000000000005,
          21.60000000000005,
          21.700000000000053,
          21.800000000000054,
          21.900000000000055,
          22.000000000000057,
          22.10000000000006,
          22.20000000000006,
          22.30000000000006,
          22.400000000000063,
          22.500000000000064,
          22.600000000000065,
          22.700000000000067,
          22.800000000000068,
          22.90000000000007,
          23.00000000000007,
          23.100000000000072,
          23.200000000000074,
          23.300000000000075,
          23.400000000000077,
          23.500000000000078,
          23.60000000000008,
          23.70000000000008,
          23.800000000000082,
          23.900000000000084,
          24.000000000000085,
          24.100000000000087,
          24.200000000000088,
          24.30000000000009,
          24.40000000000009,
          24.500000000000092,
          24.600000000000094,
          24.700000000000095,
          24.800000000000097,
          24.900000000000098,
          25.0000000000001,
          25.1000000000001,
          25.200000000000102,
          25.300000000000104,
          25.400000000000105,
          25.500000000000107,
          25.600000000000108,
          25.70000000000011,
          25.80000000000011,
          25.900000000000112,
          26.000000000000114,
          26.100000000000115,
          26.200000000000117,
          26.300000000000118,
          26.40000000000012,
          26.50000000000012,
          26.600000000000122,
          26.700000000000124,
          26.800000000000125,
          26.900000000000126,
          27.000000000000128,
          27.10000000000013,
          27.20000000000013,
          27.300000000000132,
          27.400000000000134,
          27.500000000000135,
          27.600000000000136,
          27.700000000000138,
          27.80000000000014,
          27.90000000000014,
          28.000000000000142,
          28.100000000000144,
          28.200000000000145,
          28.300000000000146,
          28.400000000000148,
          28.50000000000015,
          28.60000000000015,
          28.700000000000152,
          28.800000000000153,
          28.900000000000155,
          29.000000000000156,
          29.100000000000158,
          29.20000000000016,
          29.30000000000016,
          29.400000000000162,
          29.500000000000163,
          29.600000000000165,
          29.700000000000166,
          29.800000000000168,
          29.90000000000017,
          30.00000000000017,
          30.100000000000172,
          30.200000000000173,
          30.300000000000175,
          30.400000000000176,
          30.500000000000178,
          30.60000000000018,
          30.70000000000018,
          30.800000000000182,
          30.900000000000183,
          31.000000000000185,
          31.100000000000186,
          31.200000000000188,
          31.30000000000019,
          31.40000000000019,
          31.500000000000192,
          31.600000000000193,
          31.700000000000195,
          31.800000000000196,
          31.900000000000198,
          32.0000000000002,
          32.1000000000002,
          32.2000000000002,
          32.3000000000002,
          32.400000000000205,
          32.500000000000206,
          32.60000000000021,
          32.70000000000021,
          32.80000000000021,
          32.90000000000021,
          33.00000000000021,
          33.100000000000215,
          33.200000000000216,
          33.30000000000022,
          33.40000000000022,
          33.50000000000022,
          33.60000000000022,
          33.70000000000022,
          33.800000000000225,
          33.900000000000226,
          34.00000000000023,
          34.10000000000023,
          34.20000000000023,
          34.30000000000023,
          34.40000000000023,
          34.500000000000234,
          34.600000000000236,
          34.70000000000024,
          34.80000000000024,
          34.90000000000024,
          35.00000000000024,
          35.10000000000024,
          35.200000000000244,
          35.300000000000246,
          35.40000000000025,
          35.50000000000025,
          35.60000000000025,
          35.70000000000025,
          35.80000000000025,
          35.900000000000254,
          36.000000000000256,
          36.10000000000026,
          36.20000000000026,
          36.30000000000026,
          36.40000000000026,
          36.50000000000026,
          36.600000000000264,
          36.700000000000266,
          36.80000000000027,
          36.90000000000027,
          37.00000000000027,
          37.10000000000027,
          37.20000000000027,
          37.300000000000274,
          37.400000000000276,
          37.50000000000028,
          37.60000000000028,
          37.70000000000028,
          37.80000000000028,
          37.90000000000028,
          38.000000000000284,
          38.100000000000286,
          38.20000000000029,
          38.30000000000029,
          38.40000000000029,
          38.50000000000029,
          38.60000000000029,
          38.700000000000294,
          38.800000000000296,
          38.9000000000003,
          39.0000000000003,
          39.1000000000003,
          39.2000000000003,
          39.3000000000003,
          39.400000000000304,
          39.500000000000306,
          39.60000000000031,
          39.70000000000031,
          39.80000000000031,
          39.90000000000031,
          40.00000000000031,
          40.100000000000314,
          40.200000000000315,
          40.30000000000032,
          40.40000000000032,
          40.50000000000032,
          40.60000000000032,
          40.70000000000032,
          40.800000000000324,
          40.900000000000325,
          41.00000000000033,
          41.10000000000033,
          41.20000000000033,
          41.30000000000033,
          41.40000000000033,
          41.500000000000334,
          41.600000000000335,
          41.70000000000034,
          41.80000000000034,
          41.90000000000034,
          42.00000000000034,
          42.10000000000034,
          42.200000000000344,
          42.300000000000345,
          42.40000000000035,
          42.50000000000035,
          42.60000000000035,
          42.70000000000035,
          42.80000000000035,
          42.900000000000354,
          43.000000000000355,
          43.10000000000036,
          43.20000000000036,
          43.30000000000036,
          43.40000000000036,
          43.50000000000036,
          43.600000000000364,
          43.700000000000365,
          43.80000000000037,
          43.90000000000037,
          44.00000000000037,
          44.10000000000037,
          44.20000000000037,
          44.300000000000374,
          44.400000000000375,
          44.50000000000038,
          44.60000000000038,
          44.70000000000038,
          44.80000000000038,
          44.90000000000038,
          45.000000000000384,
          45.100000000000385,
          45.20000000000039,
          45.30000000000039,
          45.40000000000039,
          45.50000000000039,
          45.60000000000039,
          45.700000000000394,
          45.800000000000395,
          45.9000000000004,
          46.0000000000004,
          46.1000000000004,
          46.2000000000004,
          46.3000000000004,
          46.400000000000404,
          46.500000000000405,
          46.600000000000406,
          46.70000000000041,
          46.80000000000041,
          46.90000000000041,
          47.00000000000041,
          47.10000000000041,
          47.200000000000415,
          47.300000000000416,
          47.40000000000042,
          47.50000000000042,
          47.60000000000042,
          47.70000000000042,
          47.80000000000042,
          47.900000000000425,
          48.000000000000426,
          48.10000000000043,
          48.20000000000043,
          48.30000000000043,
          48.40000000000043,
          48.50000000000043,
          48.600000000000435,
          48.700000000000436,
          48.80000000000044,
          48.90000000000044,
          49.00000000000044,
          49.10000000000044,
          49.20000000000044,
          49.300000000000445,
          49.400000000000446,
          49.50000000000045,
          49.60000000000045,
          49.70000000000045,
          49.80000000000045,
          49.90000000000045,
          50.000000000000455,
          50.100000000000456,
          50.20000000000046,
          50.30000000000046,
          50.40000000000046,
          50.50000000000046,
          50.60000000000046,
          50.700000000000465,
          50.800000000000466,
          50.90000000000047,
          51.00000000000047,
          51.10000000000047,
          51.20000000000047,
          51.30000000000047,
          51.400000000000475,
          51.500000000000476,
          51.60000000000048,
          51.70000000000048,
          51.80000000000048,
          51.90000000000048,
          52.00000000000048,
          52.100000000000485,
          52.200000000000486,
          52.30000000000049,
          52.40000000000049,
          52.50000000000049,
          52.60000000000049,
          52.70000000000049,
          52.800000000000495,
          52.900000000000496,
          53.0000000000005,
          53.1000000000005,
          53.2000000000005,
          53.3000000000005,
          53.4000000000005,
          53.500000000000504,
          53.600000000000506,
          53.70000000000051,
          53.80000000000051,
          53.90000000000051,
          54.00000000000051,
          54.10000000000051,
          54.200000000000514,
          54.300000000000516,
          54.40000000000052,
          54.50000000000052,
          54.60000000000052,
          54.70000000000052,
          54.80000000000052,
          54.900000000000524,
          55.000000000000526,
          55.10000000000053,
          55.20000000000053,
          55.30000000000053,
          55.40000000000053,
          55.50000000000053,
          55.600000000000534,
          55.700000000000536,
          55.80000000000054,
          55.90000000000054,
          56.00000000000054,
          56.10000000000054,
          56.20000000000054,
          56.300000000000544,
          56.400000000000546,
          56.50000000000055,
          56.60000000000055,
          56.70000000000055,
          56.80000000000055,
          56.90000000000055,
          57.000000000000554,
          57.100000000000556,
          57.20000000000056,
          57.30000000000056,
          57.40000000000056,
          57.50000000000056,
          57.60000000000056,
          57.700000000000564,
          57.800000000000566,
          57.90000000000057,
          58.00000000000057,
          58.10000000000057,
          58.20000000000057,
          58.30000000000057,
          58.400000000000574,
          58.500000000000576,
          58.60000000000058,
          58.70000000000058,
          58.80000000000058,
          58.90000000000058,
          59.00000000000058,
          59.100000000000584,
          59.200000000000585,
          59.30000000000059,
          59.40000000000059,
          59.50000000000059,
          59.60000000000059,
          59.70000000000059,
          59.800000000000594,
          59.900000000000595,
          60.0000000000006,
          60.1000000000006,
          60.2000000000006,
          60.3000000000006,
          60.4000000000006,
          60.500000000000604,
          60.600000000000605,
          60.70000000000061,
          60.80000000000061,
          60.90000000000061,
          61.00000000000061,
          61.10000000000061,
          61.200000000000614,
          61.300000000000615,
          61.40000000000062,
          61.50000000000062,
          61.60000000000062,
          61.70000000000062,
          61.80000000000062,
          61.900000000000624,
          62.000000000000625,
          62.10000000000063,
          62.20000000000063,
          62.30000000000063,
          62.40000000000063,
          62.50000000000063,
          62.600000000000634,
          62.700000000000635,
          62.80000000000064,
          62.90000000000064
         ],
         "y": [
          470,
          470,
          470,
          470,
          470,
          470,
          470,
          470,
          470,
          470,
          470,
          470,
          470,
          470,
          470,
          470,
          470,
          470,
          470,
          470,
          470,
          470,
          470,
          470,
          470,
          470,
          520,
          520,
          520,
          520,
          520,
          520,
          520,
          520,
          520,
          520,
          520,
          520,
          520,
          520,
          520,
          520,
          520,
          520,
          520,
          520,
          520,
          520,
          520,
          520,
          520,
          520,
          520,
          520,
          520,
          520,
          520,
          520,
          520,
          520,
          520,
          520,
          520,
          520,
          520,
          520,
          520,
          520,
          520,
          520,
          520,
          520,
          520,
          520,
          520,
          520,
          630,
          630,
          630,
          630,
          630,
          630,
          630,
          630,
          630,
          630,
          630,
          630,
          630,
          630,
          630,
          630,
          630,
          630,
          630,
          630,
          630,
          630,
          630,
          630,
          630,
          630,
          630,
          630,
          630,
          630,
          630,
          630,
          630,
          630,
          630,
          630,
          630,
          630,
          630,
          630,
          630,
          630,
          630,
          630,
          630,
          630,
          630,
          630,
          630,
          630,
          830,
          830,
          830,
          830,
          830,
          830,
          830,
          830,
          830,
          830,
          830,
          830,
          830,
          830,
          830,
          830,
          830,
          830,
          830,
          830,
          830,
          830,
          830,
          830,
          830,
          830,
          830,
          830,
          830,
          830,
          830,
          830,
          830,
          830,
          830,
          830,
          830,
          830,
          830,
          830,
          830,
          830,
          830,
          830,
          830,
          830,
          830,
          830,
          830,
          830,
          1150,
          1150,
          1150,
          1150,
          1150,
          1150,
          1150,
          1150,
          1150,
          1150,
          1150,
          1150,
          1150,
          1150,
          1150,
          1150,
          1150,
          1150,
          1150,
          1150,
          1150,
          1150,
          1150,
          1150,
          1150,
          1150,
          1150,
          1150,
          1150,
          1150,
          1150,
          1150,
          1150,
          1150,
          1150,
          1150,
          1150,
          1150,
          1150,
          1150,
          1150,
          1150,
          1150,
          1150,
          1150,
          1150,
          1150,
          1150,
          1150,
          1150,
          1530,
          1530,
          1530,
          1530,
          1530,
          1530,
          1530,
          1530,
          1530,
          1530,
          1530,
          1530,
          1530,
          1530,
          1530,
          1530,
          1530,
          1530,
          1530,
          1530,
          1530,
          1530,
          1530,
          1530,
          1530,
          1530,
          1530,
          1530,
          1530,
          1530,
          1530,
          1530,
          1530,
          1530,
          1530,
          1530,
          1530,
          1530,
          1530,
          1530,
          1530,
          1530,
          1530,
          1530,
          1530,
          1530,
          1530,
          1530,
          1530,
          1530,
          2040,
          2040,
          2040,
          2040,
          2040,
          2040,
          2040,
          2040,
          2040,
          2040,
          2040,
          2040,
          2040,
          2040,
          2040,
          2040,
          2040,
          2040,
          2040,
          2040,
          2040,
          2040,
          2040,
          2040,
          2040,
          2040,
          2040,
          2040,
          2040,
          2040,
          2040,
          2040,
          2040,
          2040,
          2040,
          2040,
          2040,
          2040,
          2040,
          2040,
          2040,
          2040,
          2040,
          2040,
          2040,
          2040,
          2040,
          2040,
          2040,
          2040,
          3080,
          3080,
          3080,
          3080,
          3080,
          3080,
          3080,
          3080,
          3080,
          3080,
          3080,
          3080,
          3080,
          3080,
          3080,
          3080,
          3080,
          3080,
          3080,
          3080,
          3080,
          3080,
          3080,
          3080,
          3080,
          3080,
          3080,
          3080,
          3080,
          3080,
          3080,
          3080,
          3080,
          3080,
          3080,
          3080,
          3080,
          3080,
          3080,
          3080,
          3080,
          3080,
          3080,
          3080,
          3080,
          3080,
          3080,
          3080,
          3080,
          3080,
          5100,
          5100,
          5100,
          5100,
          5100,
          5100,
          5100,
          5100,
          5100,
          5100,
          5100,
          5100,
          5100,
          5100,
          5100,
          5100,
          5100,
          5100,
          5100,
          5100,
          5100,
          5100,
          5100,
          5100,
          5100,
          5100,
          5100,
          5100,
          5100,
          5100,
          5100,
          5100,
          5100,
          5100,
          5100,
          5100,
          5100,
          5100,
          5100,
          5100,
          5100,
          5100,
          5100,
          5100,
          5100,
          5100,
          5100,
          5100,
          5100,
          5100,
          10100,
          10100,
          10100,
          10100,
          10100,
          10100,
          10100,
          10100,
          10100,
          10100,
          10100,
          10100,
          10100,
          10100,
          10100,
          10100,
          10100,
          10100,
          10100,
          10100,
          10100,
          10100,
          10100,
          10100
         ]
        }
       ],
       "layout": {
        "legend": {
         "tracegroupgap": 0
        },
        "margin": {
         "t": 60
        },
        "template": {
         "data": {
          "bar": [
           {
            "error_x": {
             "color": "#2a3f5f"
            },
            "error_y": {
             "color": "#2a3f5f"
            },
            "marker": {
             "line": {
              "color": "#E5ECF6",
              "width": 0.5
             },
             "pattern": {
              "fillmode": "overlay",
              "size": 10,
              "solidity": 0.2
             }
            },
            "type": "bar"
           }
          ],
          "barpolar": [
           {
            "marker": {
             "line": {
              "color": "#E5ECF6",
              "width": 0.5
             },
             "pattern": {
              "fillmode": "overlay",
              "size": 10,
              "solidity": 0.2
             }
            },
            "type": "barpolar"
           }
          ],
          "carpet": [
           {
            "aaxis": {
             "endlinecolor": "#2a3f5f",
             "gridcolor": "white",
             "linecolor": "white",
             "minorgridcolor": "white",
             "startlinecolor": "#2a3f5f"
            },
            "baxis": {
             "endlinecolor": "#2a3f5f",
             "gridcolor": "white",
             "linecolor": "white",
             "minorgridcolor": "white",
             "startlinecolor": "#2a3f5f"
            },
            "type": "carpet"
           }
          ],
          "choropleth": [
           {
            "colorbar": {
             "outlinewidth": 0,
             "ticks": ""
            },
            "type": "choropleth"
           }
          ],
          "contour": [
           {
            "colorbar": {
             "outlinewidth": 0,
             "ticks": ""
            },
            "colorscale": [
             [
              0,
              "#0d0887"
             ],
             [
              0.1111111111111111,
              "#46039f"
             ],
             [
              0.2222222222222222,
              "#7201a8"
             ],
             [
              0.3333333333333333,
              "#9c179e"
             ],
             [
              0.4444444444444444,
              "#bd3786"
             ],
             [
              0.5555555555555556,
              "#d8576b"
             ],
             [
              0.6666666666666666,
              "#ed7953"
             ],
             [
              0.7777777777777778,
              "#fb9f3a"
             ],
             [
              0.8888888888888888,
              "#fdca26"
             ],
             [
              1,
              "#f0f921"
             ]
            ],
            "type": "contour"
           }
          ],
          "contourcarpet": [
           {
            "colorbar": {
             "outlinewidth": 0,
             "ticks": ""
            },
            "type": "contourcarpet"
           }
          ],
          "heatmap": [
           {
            "colorbar": {
             "outlinewidth": 0,
             "ticks": ""
            },
            "colorscale": [
             [
              0,
              "#0d0887"
             ],
             [
              0.1111111111111111,
              "#46039f"
             ],
             [
              0.2222222222222222,
              "#7201a8"
             ],
             [
              0.3333333333333333,
              "#9c179e"
             ],
             [
              0.4444444444444444,
              "#bd3786"
             ],
             [
              0.5555555555555556,
              "#d8576b"
             ],
             [
              0.6666666666666666,
              "#ed7953"
             ],
             [
              0.7777777777777778,
              "#fb9f3a"
             ],
             [
              0.8888888888888888,
              "#fdca26"
             ],
             [
              1,
              "#f0f921"
             ]
            ],
            "type": "heatmap"
           }
          ],
          "heatmapgl": [
           {
            "colorbar": {
             "outlinewidth": 0,
             "ticks": ""
            },
            "colorscale": [
             [
              0,
              "#0d0887"
             ],
             [
              0.1111111111111111,
              "#46039f"
             ],
             [
              0.2222222222222222,
              "#7201a8"
             ],
             [
              0.3333333333333333,
              "#9c179e"
             ],
             [
              0.4444444444444444,
              "#bd3786"
             ],
             [
              0.5555555555555556,
              "#d8576b"
             ],
             [
              0.6666666666666666,
              "#ed7953"
             ],
             [
              0.7777777777777778,
              "#fb9f3a"
             ],
             [
              0.8888888888888888,
              "#fdca26"
             ],
             [
              1,
              "#f0f921"
             ]
            ],
            "type": "heatmapgl"
           }
          ],
          "histogram": [
           {
            "marker": {
             "pattern": {
              "fillmode": "overlay",
              "size": 10,
              "solidity": 0.2
             }
            },
            "type": "histogram"
           }
          ],
          "histogram2d": [
           {
            "colorbar": {
             "outlinewidth": 0,
             "ticks": ""
            },
            "colorscale": [
             [
              0,
              "#0d0887"
             ],
             [
              0.1111111111111111,
              "#46039f"
             ],
             [
              0.2222222222222222,
              "#7201a8"
             ],
             [
              0.3333333333333333,
              "#9c179e"
             ],
             [
              0.4444444444444444,
              "#bd3786"
             ],
             [
              0.5555555555555556,
              "#d8576b"
             ],
             [
              0.6666666666666666,
              "#ed7953"
             ],
             [
              0.7777777777777778,
              "#fb9f3a"
             ],
             [
              0.8888888888888888,
              "#fdca26"
             ],
             [
              1,
              "#f0f921"
             ]
            ],
            "type": "histogram2d"
           }
          ],
          "histogram2dcontour": [
           {
            "colorbar": {
             "outlinewidth": 0,
             "ticks": ""
            },
            "colorscale": [
             [
              0,
              "#0d0887"
             ],
             [
              0.1111111111111111,
              "#46039f"
             ],
             [
              0.2222222222222222,
              "#7201a8"
             ],
             [
              0.3333333333333333,
              "#9c179e"
             ],
             [
              0.4444444444444444,
              "#bd3786"
             ],
             [
              0.5555555555555556,
              "#d8576b"
             ],
             [
              0.6666666666666666,
              "#ed7953"
             ],
             [
              0.7777777777777778,
              "#fb9f3a"
             ],
             [
              0.8888888888888888,
              "#fdca26"
             ],
             [
              1,
              "#f0f921"
             ]
            ],
            "type": "histogram2dcontour"
           }
          ],
          "mesh3d": [
           {
            "colorbar": {
             "outlinewidth": 0,
             "ticks": ""
            },
            "type": "mesh3d"
           }
          ],
          "parcoords": [
           {
            "line": {
             "colorbar": {
              "outlinewidth": 0,
              "ticks": ""
             }
            },
            "type": "parcoords"
           }
          ],
          "pie": [
           {
            "automargin": true,
            "type": "pie"
           }
          ],
          "scatter": [
           {
            "fillpattern": {
             "fillmode": "overlay",
             "size": 10,
             "solidity": 0.2
            },
            "type": "scatter"
           }
          ],
          "scatter3d": [
           {
            "line": {
             "colorbar": {
              "outlinewidth": 0,
              "ticks": ""
             }
            },
            "marker": {
             "colorbar": {
              "outlinewidth": 0,
              "ticks": ""
             }
            },
            "type": "scatter3d"
           }
          ],
          "scattercarpet": [
           {
            "marker": {
             "colorbar": {
              "outlinewidth": 0,
              "ticks": ""
             }
            },
            "type": "scattercarpet"
           }
          ],
          "scattergeo": [
           {
            "marker": {
             "colorbar": {
              "outlinewidth": 0,
              "ticks": ""
             }
            },
            "type": "scattergeo"
           }
          ],
          "scattergl": [
           {
            "marker": {
             "colorbar": {
              "outlinewidth": 0,
              "ticks": ""
             }
            },
            "type": "scattergl"
           }
          ],
          "scattermapbox": [
           {
            "marker": {
             "colorbar": {
              "outlinewidth": 0,
              "ticks": ""
             }
            },
            "type": "scattermapbox"
           }
          ],
          "scatterpolar": [
           {
            "marker": {
             "colorbar": {
              "outlinewidth": 0,
              "ticks": ""
             }
            },
            "type": "scatterpolar"
           }
          ],
          "scatterpolargl": [
           {
            "marker": {
             "colorbar": {
              "outlinewidth": 0,
              "ticks": ""
             }
            },
            "type": "scatterpolargl"
           }
          ],
          "scatterternary": [
           {
            "marker": {
             "colorbar": {
              "outlinewidth": 0,
              "ticks": ""
             }
            },
            "type": "scatterternary"
           }
          ],
          "surface": [
           {
            "colorbar": {
             "outlinewidth": 0,
             "ticks": ""
            },
            "colorscale": [
             [
              0,
              "#0d0887"
             ],
             [
              0.1111111111111111,
              "#46039f"
             ],
             [
              0.2222222222222222,
              "#7201a8"
             ],
             [
              0.3333333333333333,
              "#9c179e"
             ],
             [
              0.4444444444444444,
              "#bd3786"
             ],
             [
              0.5555555555555556,
              "#d8576b"
             ],
             [
              0.6666666666666666,
              "#ed7953"
             ],
             [
              0.7777777777777778,
              "#fb9f3a"
             ],
             [
              0.8888888888888888,
              "#fdca26"
             ],
             [
              1,
              "#f0f921"
             ]
            ],
            "type": "surface"
           }
          ],
          "table": [
           {
            "cells": {
             "fill": {
              "color": "#EBF0F8"
             },
             "line": {
              "color": "white"
             }
            },
            "header": {
             "fill": {
              "color": "#C8D4E3"
             },
             "line": {
              "color": "white"
             }
            },
            "type": "table"
           }
          ]
         },
         "layout": {
          "annotationdefaults": {
           "arrowcolor": "#2a3f5f",
           "arrowhead": 0,
           "arrowwidth": 1
          },
          "autotypenumbers": "strict",
          "coloraxis": {
           "colorbar": {
            "outlinewidth": 0,
            "ticks": ""
           }
          },
          "colorscale": {
           "diverging": [
            [
             0,
             "#8e0152"
            ],
            [
             0.1,
             "#c51b7d"
            ],
            [
             0.2,
             "#de77ae"
            ],
            [
             0.3,
             "#f1b6da"
            ],
            [
             0.4,
             "#fde0ef"
            ],
            [
             0.5,
             "#f7f7f7"
            ],
            [
             0.6,
             "#e6f5d0"
            ],
            [
             0.7,
             "#b8e186"
            ],
            [
             0.8,
             "#7fbc41"
            ],
            [
             0.9,
             "#4d9221"
            ],
            [
             1,
             "#276419"
            ]
           ],
           "sequential": [
            [
             0,
             "#0d0887"
            ],
            [
             0.1111111111111111,
             "#46039f"
            ],
            [
             0.2222222222222222,
             "#7201a8"
            ],
            [
             0.3333333333333333,
             "#9c179e"
            ],
            [
             0.4444444444444444,
             "#bd3786"
            ],
            [
             0.5555555555555556,
             "#d8576b"
            ],
            [
             0.6666666666666666,
             "#ed7953"
            ],
            [
             0.7777777777777778,
             "#fb9f3a"
            ],
            [
             0.8888888888888888,
             "#fdca26"
            ],
            [
             1,
             "#f0f921"
            ]
           ],
           "sequentialminus": [
            [
             0,
             "#0d0887"
            ],
            [
             0.1111111111111111,
             "#46039f"
            ],
            [
             0.2222222222222222,
             "#7201a8"
            ],
            [
             0.3333333333333333,
             "#9c179e"
            ],
            [
             0.4444444444444444,
             "#bd3786"
            ],
            [
             0.5555555555555556,
             "#d8576b"
            ],
            [
             0.6666666666666666,
             "#ed7953"
            ],
            [
             0.7777777777777778,
             "#fb9f3a"
            ],
            [
             0.8888888888888888,
             "#fdca26"
            ],
            [
             1,
             "#f0f921"
            ]
           ]
          },
          "colorway": [
           "#636efa",
           "#EF553B",
           "#00cc96",
           "#ab63fa",
           "#FFA15A",
           "#19d3f3",
           "#FF6692",
           "#B6E880",
           "#FF97FF",
           "#FECB52"
          ],
          "font": {
           "color": "#2a3f5f"
          },
          "geo": {
           "bgcolor": "white",
           "lakecolor": "white",
           "landcolor": "#E5ECF6",
           "showlakes": true,
           "showland": true,
           "subunitcolor": "white"
          },
          "hoverlabel": {
           "align": "left"
          },
          "hovermode": "closest",
          "mapbox": {
           "style": "light"
          },
          "paper_bgcolor": "white",
          "plot_bgcolor": "#E5ECF6",
          "polar": {
           "angularaxis": {
            "gridcolor": "white",
            "linecolor": "white",
            "ticks": ""
           },
           "bgcolor": "#E5ECF6",
           "radialaxis": {
            "gridcolor": "white",
            "linecolor": "white",
            "ticks": ""
           }
          },
          "scene": {
           "xaxis": {
            "backgroundcolor": "#E5ECF6",
            "gridcolor": "white",
            "gridwidth": 2,
            "linecolor": "white",
            "showbackground": true,
            "ticks": "",
            "zerolinecolor": "white"
           },
           "yaxis": {
            "backgroundcolor": "#E5ECF6",
            "gridcolor": "white",
            "gridwidth": 2,
            "linecolor": "white",
            "showbackground": true,
            "ticks": "",
            "zerolinecolor": "white"
           },
           "zaxis": {
            "backgroundcolor": "#E5ECF6",
            "gridcolor": "white",
            "gridwidth": 2,
            "linecolor": "white",
            "showbackground": true,
            "ticks": "",
            "zerolinecolor": "white"
           }
          },
          "shapedefaults": {
           "line": {
            "color": "#2a3f5f"
           }
          },
          "ternary": {
           "aaxis": {
            "gridcolor": "white",
            "linecolor": "white",
            "ticks": ""
           },
           "baxis": {
            "gridcolor": "white",
            "linecolor": "white",
            "ticks": ""
           },
           "bgcolor": "#E5ECF6",
           "caxis": {
            "gridcolor": "white",
            "linecolor": "white",
            "ticks": ""
           }
          },
          "title": {
           "x": 0.05
          },
          "xaxis": {
           "automargin": true,
           "gridcolor": "white",
           "linecolor": "white",
           "ticks": "",
           "title": {
            "standoff": 15
           },
           "zerolinecolor": "white",
           "zerolinewidth": 2
          },
          "yaxis": {
           "automargin": true,
           "gridcolor": "white",
           "linecolor": "white",
           "ticks": "",
           "title": {
            "standoff": 15
           },
           "zerolinecolor": "white",
           "zerolinewidth": 2
          }
         }
        },
        "xaxis": {
         "anchor": "y",
         "domain": [
          0,
          1
         ],
         "title": {
          "text": "x"
         }
        },
        "yaxis": {
         "anchor": "x",
         "domain": [
          0,
          1
         ],
         "title": {
          "text": "y"
         }
        }
       }
      },
      "image/png": "[encoded data removed]",
      "text/html": [
       "<div>                            <div id=\"c6b408a4-cb42-4f23-bdbe-df4af7ed3c3b\" class=\"plotly-graph-div\" style=\"height:525px; width:100%;\"></div>            <script type=\"text/javascript\">                require([\"plotly\"], function(Plotly) {                    window.PLOTLYENV=window.PLOTLYENV || {};                                    if (document.getElementById(\"c6b408a4-cb42-4f23-bdbe-df4af7ed3c3b\")) {                    Plotly.newPlot(                        \"c6b408a4-cb42-4f23-bdbe-df4af7ed3c3b\",                        [{\"hovertemplate\":\"x=%{x}\\u003cbr\\u003ey=%{y}\\u003cextra\\u003e\\u003c\\u002fextra\\u003e\",\"legendgroup\":\"\",\"marker\":{\"color\":\"#636efa\",\"symbol\":\"circle\"},\"mode\":\"markers\",\"name\":\"\",\"orientation\":\"v\",\"showlegend\":false,\"x\":[18,23,28,33,38,43,48,53,58,63],\"xaxis\":\"x\",\"y\":[470,520,630,830,1150,1530,2040,3080,5100,10100],\"yaxis\":\"y\",\"type\":\"scatter\"},{\"name\":\"Regress\\u00e3o\",\"x\":[18.0,18.1,18.200000000000003,18.300000000000004,18.400000000000006,18.500000000000007,18.60000000000001,18.70000000000001,18.80000000000001,18.900000000000013,19.000000000000014,19.100000000000016,19.200000000000017,19.30000000000002,19.40000000000002,19.50000000000002,19.600000000000023,19.700000000000024,19.800000000000026,19.900000000000027,20.00000000000003,20.10000000000003,20.20000000000003,20.300000000000033,20.400000000000034,20.500000000000036,20.600000000000037,20.70000000000004,20.80000000000004,20.90000000000004,21.000000000000043,21.100000000000044,21.200000000000045,21.300000000000047,21.40000000000005,21.50000000000005,21.60000000000005,21.700000000000053,21.800000000000054,21.900000000000055,22.000000000000057,22.10000000000006,22.20000000000006,22.30000000000006,22.400000000000063,22.500000000000064,22.600000000000065,22.700000000000067,22.800000000000068,22.90000000000007,23.00000000000007,23.100000000000072,23.200000000000074,23.300000000000075,23.400000000000077,23.500000000000078,23.60000000000008,23.70000000000008,23.800000000000082,23.900000000000084,24.000000000000085,24.100000000000087,24.200000000000088,24.30000000000009,24.40000000000009,24.500000000000092,24.600000000000094,24.700000000000095,24.800000000000097,24.900000000000098,25.0000000000001,25.1000000000001,25.200000000000102,25.300000000000104,25.400000000000105,25.500000000000107,25.600000000000108,25.70000000000011,25.80000000000011,25.900000000000112,26.000000000000114,26.100000000000115,26.200000000000117,26.300000000000118,26.40000000000012,26.50000000000012,26.600000000000122,26.700000000000124,26.800000000000125,26.900000000000126,27.000000000000128,27.10000000000013,27.20000000000013,27.300000000000132,27.400000000000134,27.500000000000135,27.600000000000136,27.700000000000138,27.80000000000014,27.90000000000014,28.000000000000142,28.100000000000144,28.200000000000145,28.300000000000146,28.400000000000148,28.50000000000015,28.60000000000015,28.700000000000152,28.800000000000153,28.900000000000155,29.000000000000156,29.100000000000158,29.20000000000016,29.30000000000016,29.400000000000162,29.500000000000163,29.600000000000165,29.700000000000166,29.800000000000168,29.90000000000017,30.00000000000017,30.100000000000172,30.200000000000173,30.300000000000175,30.400000000000176,30.500000000000178,30.60000000000018,30.70000000000018,30.800000000000182,30.900000000000183,31.000000000000185,31.100000000000186,31.200000000000188,31.30000000000019,31.40000000000019,31.500000000000192,31.600000000000193,31.700000000000195,31.800000000000196,31.900000000000198,32.0000000000002,32.1000000000002,32.2000000000002,32.3000000000002,32.400000000000205,32.500000000000206,32.60000000000021,32.70000000000021,32.80000000000021,32.90000000000021,33.00000000000021,33.100000000000215,33.200000000000216,33.30000000000022,33.40000000000022,33.50000000000022,33.60000000000022,33.70000000000022,33.800000000000225,33.900000000000226,34.00000000000023,34.10000000000023,34.20000000000023,34.30000000000023,34.40000000000023,34.500000000000234,34.600000000000236,34.70000000000024,34.80000000000024,34.90000000000024,35.00000000000024,35.10000000000024,35.200000000000244,35.300000000000246,35.40000000000025,35.50000000000025,35.60000000000025,35.70000000000025,35.80000000000025,35.900000000000254,36.000000000000256,36.10000000000026,36.20000000000026,36.30000000000026,36.40000000000026,36.50000000000026,36.600000000000264,36.700000000000266,36.80000000000027,36.90000000000027,37.00000000000027,37.10000000000027,37.20000000000027,37.300000000000274,37.400000000000276,37.50000000000028,37.60000000000028,37.70000000000028,37.80000000000028,37.90000000000028,38.000000000000284,38.100000000000286,38.20000000000029,38.30000000000029,38.40000000000029,38.50000000000029,38.60000000000029,38.700000000000294,38.800000000000296,38.9000000000003,39.0000000000003,39.1000000000003,39.2000000000003,39.3000000000003,39.400000000000304,39.500000000000306,39.60000000000031,39.70000000000031,39.80000000000031,39.90000000000031,40.00000000000031,40.100000000000314,40.200000000000315,40.30000000000032,40.40000000000032,40.50000000000032,40.60000000000032,40.70000000000032,40.800000000000324,40.900000000000325,41.00000000000033,41.10000000000033,41.20000000000033,41.30000000000033,41.40000000000033,41.500000000000334,41.600000000000335,41.70000000000034,41.80000000000034,41.90000000000034,42.00000000000034,42.10000000000034,42.200000000000344,42.300000000000345,42.40000000000035,42.50000000000035,42.60000000000035,42.70000000000035,42.80000000000035,42.900000000000354,43.000000000000355,43.10000000000036,43.20000000000036,43.30000000000036,43.40000000000036,43.50000000000036,43.600000000000364,43.700000000000365,43.80000000000037,43.90000000000037,44.00000000000037,44.10000000000037,44.20000000000037,44.300000000000374,44.400000000000375,44.50000000000038,44.60000000000038,44.70000000000038,44.80000000000038,44.90000000000038,45.000000000000384,45.100000000000385,45.20000000000039,45.30000000000039,45.40000000000039,45.50000000000039,45.60000000000039,45.700000000000394,45.800000000000395,45.9000000000004,46.0000000000004,46.1000000000004,46.2000000000004,46.3000000000004,46.400000000000404,46.500000000000405,46.600000000000406,46.70000000000041,46.80000000000041,46.90000000000041,47.00000000000041,47.10000000000041,47.200000000000415,47.300000000000416,47.40000000000042,47.50000000000042,47.60000000000042,47.70000000000042,47.80000000000042,47.900000000000425,48.000000000000426,48.10000000000043,48.20000000000043,48.30000000000043,48.40000000000043,48.50000000000043,48.600000000000435,48.700000000000436,48.80000000000044,48.90000000000044,49.00000000000044,49.10000000000044,49.20000000000044,49.300000000000445,49.400000000000446,49.50000000000045,49.60000000000045,49.70000000000045,49.80000000000045,49.90000000000045,50.000000000000455,50.100000000000456,50.20000000000046,50.30000000000046,50.40000000000046,50.50000000000046,50.60000000000046,50.700000000000465,50.800000000000466,50.90000000000047,51.00000000000047,51.10000000000047,51.20000000000047,51.30000000000047,51.400000000000475,51.500000000000476,51.60000000000048,51.70000000000048,51.80000000000048,51.90000000000048,52.00000000000048,52.100000000000485,52.200000000000486,52.30000000000049,52.40000000000049,52.50000000000049,52.60000000000049,52.70000000000049,52.800000000000495,52.900000000000496,53.0000000000005,53.1000000000005,53.2000000000005,53.3000000000005,53.4000000000005,53.500000000000504,53.600000000000506,53.70000000000051,53.80000000000051,53.90000000000051,54.00000000000051,54.10000000000051,54.200000000000514,54.300000000000516,54.40000000000052,54.50000000000052,54.60000000000052,54.70000000000052,54.80000000000052,54.900000000000524,55.000000000000526,55.10000000000053,55.20000000000053,55.30000000000053,55.40000000000053,55.50000000000053,55.600000000000534,55.700000000000536,55.80000000000054,55.90000000000054,56.00000000000054,56.10000000000054,56.20000000000054,56.300000000000544,56.400000000000546,56.50000000000055,56.60000000000055,56.70000000000055,56.80000000000055,56.90000000000055,57.000000000000554,57.100000000000556,57.20000000000056,57.30000000000056,57.40000000000056,57.50000000000056,57.60000000000056,57.700000000000564,57.800000000000566,57.90000000000057,58.00000000000057,58.10000000000057,58.20000000000057,58.30000000000057,58.400000000000574,58.500000000000576,58.60000000000058,58.70000000000058,58.80000000000058,58.90000000000058,59.00000000000058,59.100000000000584,59.200000000000585,59.30000000000059,59.40000000000059,59.50000000000059,59.60000000000059,59.70000000000059,59.800000000000594,59.900000000000595,60.0000000000006,60.1000000000006,60.2000000000006,60.3000000000006,60.4000000000006,60.500000000000604,60.600000000000605,60.70000000000061,60.80000000000061,60.90000000000061,61.00000000000061,61.10000000000061,61.200000000000614,61.300000000000615,61.40000000000062,61.50000000000062,61.60000000000062,61.70000000000062,61.80000000000062,61.900000000000624,62.000000000000625,62.10000000000063,62.20000000000063,62.30000000000063,62.40000000000063,62.50000000000063,62.600000000000634,62.700000000000635,62.80000000000064,62.90000000000064],\"y\":[470.0,470.0,470.0,470.0,470.0,470.0,470.0,470.0,470.0,470.0,470.0,470.0,470.0,470.0,470.0,470.0,470.0,470.0,470.0,470.0,470.0,470.0,470.0,470.0,470.0,470.0,520.0,520.0,520.0,520.0,520.0,520.0,520.0,520.0,520.0,520.0,520.0,520.0,520.0,520.0,520.0,520.0,520.0,520.0,520.0,520.0,520.0,520.0,520.0,520.0,520.0,520.0,520.0,520.0,520.0,520.0,520.0,520.0,520.0,520.0,520.0,520.0,520.0,520.0,520.0,520.0,520.0,520.0,520.0,520.0,520.0,520.0,520.0,520.0,520.0,520.0,630.0,630.0,630.0,630.0,630.0,630.0,630.0,630.0,630.0,630.0,630.0,630.0,630.0,630.0,630.0,630.0,630.0,630.0,630.0,630.0,630.0,630.0,630.0,630.0,630.0,630.0,630.0,630.0,630.0,630.0,630.0,630.0,630.0,630.0,630.0,630.0,630.0,630.0,630.0,630.0,630.0,630.0,630.0,630.0,630.0,630.0,630.0,630.0,630.0,630.0,830.0,830.0,830.0,830.0,830.0,830.0,830.0,830.0,830.0,830.0,830.0,830.0,830.0,830.0,830.0,830.0,830.0,830.0,830.0,830.0,830.0,830.0,830.0,830.0,830.0,830.0,830.0,830.0,830.0,830.0,830.0,830.0,830.0,830.0,830.0,830.0,830.0,830.0,830.0,830.0,830.0,830.0,830.0,830.0,830.0,830.0,830.0,830.0,830.0,830.0,1150.0,1150.0,1150.0,1150.0,1150.0,1150.0,1150.0,1150.0,1150.0,1150.0,1150.0,1150.0,1150.0,1150.0,1150.0,1150.0,1150.0,1150.0,1150.0,1150.0,1150.0,1150.0,1150.0,1150.0,1150.0,1150.0,1150.0,1150.0,1150.0,1150.0,1150.0,1150.0,1150.0,1150.0,1150.0,1150.0,1150.0,1150.0,1150.0,1150.0,1150.0,1150.0,1150.0,1150.0,1150.0,1150.0,1150.0,1150.0,1150.0,1150.0,1530.0,1530.0,1530.0,1530.0,1530.0,1530.0,1530.0,1530.0,1530.0,1530.0,1530.0,1530.0,1530.0,1530.0,1530.0,1530.0,1530.0,1530.0,1530.0,1530.0,1530.0,1530.0,1530.0,1530.0,1530.0,1530.0,1530.0,1530.0,1530.0,1530.0,1530.0,1530.0,1530.0,1530.0,1530.0,1530.0,1530.0,1530.0,1530.0,1530.0,1530.0,1530.0,1530.0,1530.0,1530.0,1530.0,1530.0,1530.0,1530.0,1530.0,2040.0,2040.0,2040.0,2040.0,2040.0,2040.0,2040.0,2040.0,2040.0,2040.0,2040.0,2040.0,2040.0,2040.0,2040.0,2040.0,2040.0,2040.0,2040.0,2040.0,2040.0,2040.0,2040.0,2040.0,2040.0,2040.0,2040.0,2040.0,2040.0,2040.0,2040.0,2040.0,2040.0,2040.0,2040.0,2040.0,2040.0,2040.0,2040.0,2040.0,2040.0,2040.0,2040.0,2040.0,2040.0,2040.0,2040.0,2040.0,2040.0,2040.0,3080.0,3080.0,3080.0,3080.0,3080.0,3080.0,3080.0,3080.0,3080.0,3080.0,3080.0,3080.0,3080.0,3080.0,3080.0,3080.0,3080.0,3080.0,3080.0,3080.0,3080.0,3080.0,3080.0,3080.0,3080.0,3080.0,3080.0,3080.0,3080.0,3080.0,3080.0,3080.0,3080.0,3080.0,3080.0,3080.0,3080.0,3080.0,3080.0,3080.0,3080.0,3080.0,3080.0,3080.0,3080.0,3080.0,3080.0,3080.0,3080.0,3080.0,5100.0,5100.0,5100.0,5100.0,5100.0,5100.0,5100.0,5100.0,5100.0,5100.0,5100.0,5100.0,5100.0,5100.0,5100.0,5100.0,5100.0,5100.0,5100.0,5100.0,5100.0,5100.0,5100.0,5100.0,5100.0,5100.0,5100.0,5100.0,5100.0,5100.0,5100.0,5100.0,5100.0,5100.0,5100.0,5100.0,5100.0,5100.0,5100.0,5100.0,5100.0,5100.0,5100.0,5100.0,5100.0,5100.0,5100.0,5100.0,5100.0,5100.0,10100.0,10100.0,10100.0,10100.0,10100.0,10100.0,10100.0,10100.0,10100.0,10100.0,10100.0,10100.0,10100.0,10100.0,10100.0,10100.0,10100.0,10100.0,10100.0,10100.0,10100.0,10100.0,10100.0,10100.0],\"type\":\"scatter\"}],                        {\"template\":{\"data\":{\"histogram2dcontour\":[{\"type\":\"histogram2dcontour\",\"colorbar\":{\"outlinewidth\":0,\"ticks\":\"\"},\"colorscale\":[[0.0,\"#0d0887\"],[0.1111111111111111,\"#46039f\"],[0.2222222222222222,\"#7201a8\"],[0.3333333333333333,\"#9c179e\"],[0.4444444444444444,\"#bd3786\"],[0.5555555555555556,\"#d8576b\"],[0.6666666666666666,\"#ed7953\"],[0.7777777777777778,\"#fb9f3a\"],[0.8888888888888888,\"#fdca26\"],[1.0,\"#f0f921\"]]}],\"choropleth\":[{\"type\":\"choropleth\",\"colorbar\":{\"outlinewidth\":0,\"ticks\":\"\"}}],\"histogram2d\":[{\"type\":\"histogram2d\",\"colorbar\":{\"outlinewidth\":0,\"ticks\":\"\"},\"colorscale\":[[0.0,\"#0d0887\"],[0.1111111111111111,\"#46039f\"],[0.2222222222222222,\"#7201a8\"],[0.3333333333333333,\"#9c179e\"],[0.4444444444444444,\"#bd3786\"],[0.5555555555555556,\"#d8576b\"],[0.6666666666666666,\"#ed7953\"],[0.7777777777777778,\"#fb9f3a\"],[0.8888888888888888,\"#fdca26\"],[1.0,\"#f0f921\"]]}],\"heatmap\":[{\"type\":\"heatmap\",\"colorbar\":{\"outlinewidth\":0,\"ticks\":\"\"},\"colorscale\":[[0.0,\"#0d0887\"],[0.1111111111111111,\"#46039f\"],[0.2222222222222222,\"#7201a8\"],[0.3333333333333333,\"#9c179e\"],[0.4444444444444444,\"#bd3786\"],[0.5555555555555556,\"#d8576b\"],[0.6666666666666666,\"#ed7953\"],[0.7777777777777778,\"#fb9f3a\"],[0.8888888888888888,\"#fdca26\"],[1.0,\"#f0f921\"]]}],\"heatmapgl\":[{\"type\":\"heatmapgl\",\"colorbar\":{\"outlinewidth\":0,\"ticks\":\"\"},\"colorscale\":[[0.0,\"#0d0887\"],[0.1111111111111111,\"#46039f\"],[0.2222222222222222,\"#7201a8\"],[0.3333333333333333,\"#9c179e\"],[0.4444444444444444,\"#bd3786\"],[0.5555555555555556,\"#d8576b\"],[0.6666666666666666,\"#ed7953\"],[0.7777777777777778,\"#fb9f3a\"],[0.8888888888888888,\"#fdca26\"],[1.0,\"#f0f921\"]]}],\"contourcarpet\":[{\"type\":\"contourcarpet\",\"colorbar\":{\"outlinewidth\":0,\"ticks\":\"\"}}],\"contour\":[{\"type\":\"contour\",\"colorbar\":{\"outlinewidth\":0,\"ticks\":\"\"},\"colorscale\":[[0.0,\"#0d0887\"],[0.1111111111111111,\"#46039f\"],[0.2222222222222222,\"#7201a8\"],[0.3333333333333333,\"#9c179e\"],[0.4444444444444444,\"#bd3786\"],[0.5555555555555556,\"#d8576b\"],[0.6666666666666666,\"#ed7953\"],[0.7777777777777778,\"#fb9f3a\"],[0.8888888888888888,\"#fdca26\"],[1.0,\"#f0f921\"]]}],\"surface\":[{\"type\":\"surface\",\"colorbar\":{\"outlinewidth\":0,\"ticks\":\"\"},\"colorscale\":[[0.0,\"#0d0887\"],[0.1111111111111111,\"#46039f\"],[0.2222222222222222,\"#7201a8\"],[0.3333333333333333,\"#9c179e\"],[0.4444444444444444,\"#bd3786\"],[0.5555555555555556,\"#d8576b\"],[0.6666666666666666,\"#ed7953\"],[0.7777777777777778,\"#fb9f3a\"],[0.8888888888888888,\"#fdca26\"],[1.0,\"#f0f921\"]]}],\"mesh3d\":[{\"type\":\"mesh3d\",\"colorbar\":{\"outlinewidth\":0,\"ticks\":\"\"}}],\"scatter\":[{\"fillpattern\":{\"fillmode\":\"overlay\",\"size\":10,\"solidity\":0.2},\"type\":\"scatter\"}],\"parcoords\":[{\"type\":\"parcoords\",\"line\":{\"colorbar\":{\"outlinewidth\":0,\"ticks\":\"\"}}}],\"scatterpolargl\":[{\"type\":\"scatterpolargl\",\"marker\":{\"colorbar\":{\"outlinewidth\":0,\"ticks\":\"\"}}}],\"bar\":[{\"error_x\":{\"color\":\"#2a3f5f\"},\"error_y\":{\"color\":\"#2a3f5f\"},\"marker\":{\"line\":{\"color\":\"#E5ECF6\",\"width\":0.5},\"pattern\":{\"fillmode\":\"overlay\",\"size\":10,\"solidity\":0.2}},\"type\":\"bar\"}],\"scattergeo\":[{\"type\":\"scattergeo\",\"marker\":{\"colorbar\":{\"outlinewidth\":0,\"ticks\":\"\"}}}],\"scatterpolar\":[{\"type\":\"scatterpolar\",\"marker\":{\"colorbar\":{\"outlinewidth\":0,\"ticks\":\"\"}}}],\"histogram\":[{\"marker\":{\"pattern\":{\"fillmode\":\"overlay\",\"size\":10,\"solidity\":0.2}},\"type\":\"histogram\"}],\"scattergl\":[{\"type\":\"scattergl\",\"marker\":{\"colorbar\":{\"outlinewidth\":0,\"ticks\":\"\"}}}],\"scatter3d\":[{\"type\":\"scatter3d\",\"line\":{\"colorbar\":{\"outlinewidth\":0,\"ticks\":\"\"}},\"marker\":{\"colorbar\":{\"outlinewidth\":0,\"ticks\":\"\"}}}],\"scattermapbox\":[{\"type\":\"scattermapbox\",\"marker\":{\"colorbar\":{\"outlinewidth\":0,\"ticks\":\"\"}}}],\"scatterternary\":[{\"type\":\"scatterternary\",\"marker\":{\"colorbar\":{\"outlinewidth\":0,\"ticks\":\"\"}}}],\"scattercarpet\":[{\"type\":\"scattercarpet\",\"marker\":{\"colorbar\":{\"outlinewidth\":0,\"ticks\":\"\"}}}],\"carpet\":[{\"aaxis\":{\"endlinecolor\":\"#2a3f5f\",\"gridcolor\":\"white\",\"linecolor\":\"white\",\"minorgridcolor\":\"white\",\"startlinecolor\":\"#2a3f5f\"},\"baxis\":{\"endlinecolor\":\"#2a3f5f\",\"gridcolor\":\"white\",\"linecolor\":\"white\",\"minorgridcolor\":\"white\",\"startlinecolor\":\"#2a3f5f\"},\"type\":\"carpet\"}],\"table\":[{\"cells\":{\"fill\":{\"color\":\"#EBF0F8\"},\"line\":{\"color\":\"white\"}},\"header\":{\"fill\":{\"color\":\"#C8D4E3\"},\"line\":{\"color\":\"white\"}},\"type\":\"table\"}],\"barpolar\":[{\"marker\":{\"line\":{\"color\":\"#E5ECF6\",\"width\":0.5},\"pattern\":{\"fillmode\":\"overlay\",\"size\":10,\"solidity\":0.2}},\"type\":\"barpolar\"}],\"pie\":[{\"automargin\":true,\"type\":\"pie\"}]},\"layout\":{\"autotypenumbers\":\"strict\",\"colorway\":[\"#636efa\",\"#EF553B\",\"#00cc96\",\"#ab63fa\",\"#FFA15A\",\"#19d3f3\",\"#FF6692\",\"#B6E880\",\"#FF97FF\",\"#FECB52\"],\"font\":{\"color\":\"#2a3f5f\"},\"hovermode\":\"closest\",\"hoverlabel\":{\"align\":\"left\"},\"paper_bgcolor\":\"white\",\"plot_bgcolor\":\"#E5ECF6\",\"polar\":{\"bgcolor\":\"#E5ECF6\",\"angularaxis\":{\"gridcolor\":\"white\",\"linecolor\":\"white\",\"ticks\":\"\"},\"radialaxis\":{\"gridcolor\":\"white\",\"linecolor\":\"white\",\"ticks\":\"\"}},\"ternary\":{\"bgcolor\":\"#E5ECF6\",\"aaxis\":{\"gridcolor\":\"white\",\"linecolor\":\"white\",\"ticks\":\"\"},\"baxis\":{\"gridcolor\":\"white\",\"linecolor\":\"white\",\"ticks\":\"\"},\"caxis\":{\"gridcolor\":\"white\",\"linecolor\":\"white\",\"ticks\":\"\"}},\"coloraxis\":{\"colorbar\":{\"outlinewidth\":0,\"ticks\":\"\"}},\"colorscale\":{\"sequential\":[[0.0,\"#0d0887\"],[0.1111111111111111,\"#46039f\"],[0.2222222222222222,\"#7201a8\"],[0.3333333333333333,\"#9c179e\"],[0.4444444444444444,\"#bd3786\"],[0.5555555555555556,\"#d8576b\"],[0.6666666666666666,\"#ed7953\"],[0.7777777777777778,\"#fb9f3a\"],[0.8888888888888888,\"#fdca26\"],[1.0,\"#f0f921\"]],\"sequentialminus\":[[0.0,\"#0d0887\"],[0.1111111111111111,\"#46039f\"],[0.2222222222222222,\"#7201a8\"],[0.3333333333333333,\"#9c179e\"],[0.4444444444444444,\"#bd3786\"],[0.5555555555555556,\"#d8576b\"],[0.6666666666666666,\"#ed7953\"],[0.7777777777777778,\"#fb9f3a\"],[0.8888888888888888,\"#fdca26\"],[1.0,\"#f0f921\"]],\"diverging\":[[0,\"#8e0152\"],[0.1,\"#c51b7d\"],[0.2,\"#de77ae\"],[0.3,\"#f1b6da\"],[0.4,\"#fde0ef\"],[0.5,\"#f7f7f7\"],[0.6,\"#e6f5d0\"],[0.7,\"#b8e186\"],[0.8,\"#7fbc41\"],[0.9,\"#4d9221\"],[1,\"#276419\"]]},\"xaxis\":{\"gridcolor\":\"white\",\"linecolor\":\"white\",\"ticks\":\"\",\"title\":{\"standoff\":15},\"zerolinecolor\":\"white\",\"automargin\":true,\"zerolinewidth\":2},\"yaxis\":{\"gridcolor\":\"white\",\"linecolor\":\"white\",\"ticks\":\"\",\"title\":{\"standoff\":15},\"zerolinecolor\":\"white\",\"automargin\":true,\"zerolinewidth\":2},\"scene\":{\"xaxis\":{\"backgroundcolor\":\"#E5ECF6\",\"gridcolor\":\"white\",\"linecolor\":\"white\",\"showbackground\":true,\"ticks\":\"\",\"zerolinecolor\":\"white\",\"gridwidth\":2},\"yaxis\":{\"backgroundcolor\":\"#E5ECF6\",\"gridcolor\":\"white\",\"linecolor\":\"white\",\"showbackground\":true,\"ticks\":\"\",\"zerolinecolor\":\"white\",\"gridwidth\":2},\"zaxis\":{\"backgroundcolor\":\"#E5ECF6\",\"gridcolor\":\"white\",\"linecolor\":\"white\",\"showbackground\":true,\"ticks\":\"\",\"zerolinecolor\":\"white\",\"gridwidth\":2}},\"shapedefaults\":{\"line\":{\"color\":\"#2a3f5f\"}},\"annotationdefaults\":{\"arrowcolor\":\"#2a3f5f\",\"arrowhead\":0,\"arrowwidth\":1},\"geo\":{\"bgcolor\":\"white\",\"landcolor\":\"#E5ECF6\",\"subunitcolor\":\"white\",\"showland\":true,\"showlakes\":true,\"lakecolor\":\"white\"},\"title\":{\"x\":0.05},\"mapbox\":{\"style\":\"light\"}}},\"xaxis\":{\"anchor\":\"y\",\"domain\":[0.0,1.0],\"title\":{\"text\":\"x\"}},\"yaxis\":{\"anchor\":\"x\",\"domain\":[0.0,1.0],\"title\":{\"text\":\"y\"}},\"legend\":{\"tracegroupgap\":0},\"margin\":{\"t\":60}},                        {\"responsive\": true}                    ).then(function(){\n",
       "                            \n",
       "var gd = document.getElementById('c6b408a4-cb42-4f23-bdbe-df4af7ed3c3b');\n",
       "var x = new MutationObserver(function (mutations, observer) {{\n",
       "        var display = window.getComputedStyle(gd).display;\n",
       "        if (!display || display === 'none') {{\n",
       "            console.log([gd, 'removed!']);\n",
       "            Plotly.purge(gd);\n",
       "            observer.disconnect();\n",
       "        }}\n",
       "}});\n",
       "\n",
       "// Listen for the removal of the full notebook cells\n",
       "var notebookContainer = gd.closest('#notebook-container');\n",
       "if (notebookContainer) {{\n",
       "    x.observe(notebookContainer, {childList: true});\n",
       "}}\n",
       "\n",
       "// Listen for the clearing of the current output cell\n",
       "var outputEl = gd.closest('.output');\n",
       "if (outputEl) {{\n",
       "    x.observe(outputEl, {childList: true});\n",
       "}}\n",
       "\n",
       "                        })                };                });            </script>        </div>"
      ]
     },
     "metadata": {},
     "output_type": "display_data"
    }
   ],
   "source": [
    "g = px.scatter(x = X.ravel(), y = y)\n",
    "g.add_scatter(x =  X_test_tree.ravel(), y = regression_tree.predict(X_test_tree), name = 'Regressão')\n",
    "g.show()"
   ]
  },
  {
   "cell_type": "markdown",
   "id": "c1779d6f-c257-4329-9a60-6fc72cf006da",
   "metadata": {},
   "source": [
    "# Random Forest"
   ]
  },
  {
   "cell_type": "code",
   "execution_count": 32,
   "id": "dec8fc81-07ba-42bc-a696-2a8ca82e0662",
   "metadata": {},
   "outputs": [],
   "source": [
    "from sklearn.ensemble import RandomForestRegressor"
   ]
  },
  {
   "cell_type": "code",
   "execution_count": 33,
   "id": "16545330-62e3-4f03-a976-8f0c844d69da",
   "metadata": {},
   "outputs": [],
   "source": [
    "regressor_forest = RandomForestRegressor()"
   ]
  },
  {
   "cell_type": "code",
   "execution_count": 34,
   "id": "0cd602d1-f9bf-43ec-8f9e-66b2444a983b",
   "metadata": {},
   "outputs": [
    {
     "data": {
      "text/html": [
       "<style>#sk-container-id-3 {\n",
       "  /* Definition of color scheme common for light and dark mode */\n",
       "  --sklearn-color-text: #000;\n",
       "  --sklearn-color-text-muted: #666;\n",
       "  --sklearn-color-line: gray;\n",
       "  /* Definition of color scheme for unfitted estimators */\n",
       "  --sklearn-color-unfitted-level-0: #fff5e6;\n",
       "  --sklearn-color-unfitted-level-1: #f6e4d2;\n",
       "  --sklearn-color-unfitted-level-2: #ffe0b3;\n",
       "  --sklearn-color-unfitted-level-3: chocolate;\n",
       "  /* Definition of color scheme for fitted estimators */\n",
       "  --sklearn-color-fitted-level-0: #f0f8ff;\n",
       "  --sklearn-color-fitted-level-1: #d4ebff;\n",
       "  --sklearn-color-fitted-level-2: #b3dbfd;\n",
       "  --sklearn-color-fitted-level-3: cornflowerblue;\n",
       "\n",
       "  /* Specific color for light theme */\n",
       "  --sklearn-color-text-on-default-background: var(--sg-text-color, var(--theme-code-foreground, var(--jp-content-font-color1, black)));\n",
       "  --sklearn-color-background: var(--sg-background-color, var(--theme-background, var(--jp-layout-color0, white)));\n",
       "  --sklearn-color-border-box: var(--sg-text-color, var(--theme-code-foreground, var(--jp-content-font-color1, black)));\n",
       "  --sklearn-color-icon: #696969;\n",
       "\n",
       "  @media (prefers-color-scheme: dark) {\n",
       "    /* Redefinition of color scheme for dark theme */\n",
       "    --sklearn-color-text-on-default-background: var(--sg-text-color, var(--theme-code-foreground, var(--jp-content-font-color1, white)));\n",
       "    --sklearn-color-background: var(--sg-background-color, var(--theme-background, var(--jp-layout-color0, #111)));\n",
       "    --sklearn-color-border-box: var(--sg-text-color, var(--theme-code-foreground, var(--jp-content-font-color1, white)));\n",
       "    --sklearn-color-icon: #878787;\n",
       "  }\n",
       "}\n",
       "\n",
       "#sk-container-id-3 {\n",
       "  color: var(--sklearn-color-text);\n",
       "}\n",
       "\n",
       "#sk-container-id-3 pre {\n",
       "  padding: 0;\n",
       "}\n",
       "\n",
       "#sk-container-id-3 input.sk-hidden--visually {\n",
       "  border: 0;\n",
       "  clip: rect(1px 1px 1px 1px);\n",
       "  clip: rect(1px, 1px, 1px, 1px);\n",
       "  height: 1px;\n",
       "  margin: -1px;\n",
       "  overflow: hidden;\n",
       "  padding: 0;\n",
       "  position: absolute;\n",
       "  width: 1px;\n",
       "}\n",
       "\n",
       "#sk-container-id-3 div.sk-dashed-wrapped {\n",
       "  border: 1px dashed var(--sklearn-color-line);\n",
       "  margin: 0 0.4em 0.5em 0.4em;\n",
       "  box-sizing: border-box;\n",
       "  padding-bottom: 0.4em;\n",
       "  background-color: var(--sklearn-color-background);\n",
       "}\n",
       "\n",
       "#sk-container-id-3 div.sk-container {\n",
       "  /* jupyter's `normalize.less` sets `[hidden] { display: none; }`\n",
       "     but bootstrap.min.css set `[hidden] { display: none !important; }`\n",
       "     so we also need the `!important` here to be able to override the\n",
       "     default hidden behavior on the sphinx rendered scikit-learn.org.\n",
       "     See: https://github.com/scikit-learn/scikit-learn/issues/21755 */\n",
       "  display: inline-block !important;\n",
       "  position: relative;\n",
       "}\n",
       "\n",
       "#sk-container-id-3 div.sk-text-repr-fallback {\n",
       "  display: none;\n",
       "}\n",
       "\n",
       "div.sk-parallel-item,\n",
       "div.sk-serial,\n",
       "div.sk-item {\n",
       "  /* draw centered vertical line to link estimators */\n",
       "  background-image: linear-gradient(var(--sklearn-color-text-on-default-background), var(--sklearn-color-text-on-default-background));\n",
       "  background-size: 2px 100%;\n",
       "  background-repeat: no-repeat;\n",
       "  background-position: center center;\n",
       "}\n",
       "\n",
       "/* Parallel-specific style estimator block */\n",
       "\n",
       "#sk-container-id-3 div.sk-parallel-item::after {\n",
       "  content: \"\";\n",
       "  width: 100%;\n",
       "  border-bottom: 2px solid var(--sklearn-color-text-on-default-background);\n",
       "  flex-grow: 1;\n",
       "}\n",
       "\n",
       "#sk-container-id-3 div.sk-parallel {\n",
       "  display: flex;\n",
       "  align-items: stretch;\n",
       "  justify-content: center;\n",
       "  background-color: var(--sklearn-color-background);\n",
       "  position: relative;\n",
       "}\n",
       "\n",
       "#sk-container-id-3 div.sk-parallel-item {\n",
       "  display: flex;\n",
       "  flex-direction: column;\n",
       "}\n",
       "\n",
       "#sk-container-id-3 div.sk-parallel-item:first-child::after {\n",
       "  align-self: flex-end;\n",
       "  width: 50%;\n",
       "}\n",
       "\n",
       "#sk-container-id-3 div.sk-parallel-item:last-child::after {\n",
       "  align-self: flex-start;\n",
       "  width: 50%;\n",
       "}\n",
       "\n",
       "#sk-container-id-3 div.sk-parallel-item:only-child::after {\n",
       "  width: 0;\n",
       "}\n",
       "\n",
       "/* Serial-specific style estimator block */\n",
       "\n",
       "#sk-container-id-3 div.sk-serial {\n",
       "  display: flex;\n",
       "  flex-direction: column;\n",
       "  align-items: center;\n",
       "  background-color: var(--sklearn-color-background);\n",
       "  padding-right: 1em;\n",
       "  padding-left: 1em;\n",
       "}\n",
       "\n",
       "\n",
       "/* Toggleable style: style used for estimator/Pipeline/ColumnTransformer box that is\n",
       "clickable and can be expanded/collapsed.\n",
       "- Pipeline and ColumnTransformer use this feature and define the default style\n",
       "- Estimators will overwrite some part of the style using the `sk-estimator` class\n",
       "*/\n",
       "\n",
       "/* Pipeline and ColumnTransformer style (default) */\n",
       "\n",
       "#sk-container-id-3 div.sk-toggleable {\n",
       "  /* Default theme specific background. It is overwritten whether we have a\n",
       "  specific estimator or a Pipeline/ColumnTransformer */\n",
       "  background-color: var(--sklearn-color-background);\n",
       "}\n",
       "\n",
       "/* Toggleable label */\n",
       "#sk-container-id-3 label.sk-toggleable__label {\n",
       "  cursor: pointer;\n",
       "  display: flex;\n",
       "  width: 100%;\n",
       "  margin-bottom: 0;\n",
       "  padding: 0.5em;\n",
       "  box-sizing: border-box;\n",
       "  text-align: center;\n",
       "  align-items: start;\n",
       "  justify-content: space-between;\n",
       "  gap: 0.5em;\n",
       "}\n",
       "\n",
       "#sk-container-id-3 label.sk-toggleable__label .caption {\n",
       "  font-size: 0.6rem;\n",
       "  font-weight: lighter;\n",
       "  color: var(--sklearn-color-text-muted);\n",
       "}\n",
       "\n",
       "#sk-container-id-3 label.sk-toggleable__label-arrow:before {\n",
       "  /* Arrow on the left of the label */\n",
       "  content: \"▸\";\n",
       "  float: left;\n",
       "  margin-right: 0.25em;\n",
       "  color: var(--sklearn-color-icon);\n",
       "}\n",
       "\n",
       "#sk-container-id-3 label.sk-toggleable__label-arrow:hover:before {\n",
       "  color: var(--sklearn-color-text);\n",
       "}\n",
       "\n",
       "/* Toggleable content - dropdown */\n",
       "\n",
       "#sk-container-id-3 div.sk-toggleable__content {\n",
       "  max-height: 0;\n",
       "  max-width: 0;\n",
       "  overflow: hidden;\n",
       "  text-align: left;\n",
       "  /* unfitted */\n",
       "  background-color: var(--sklearn-color-unfitted-level-0);\n",
       "}\n",
       "\n",
       "#sk-container-id-3 div.sk-toggleable__content.fitted {\n",
       "  /* fitted */\n",
       "  background-color: var(--sklearn-color-fitted-level-0);\n",
       "}\n",
       "\n",
       "#sk-container-id-3 div.sk-toggleable__content pre {\n",
       "  margin: 0.2em;\n",
       "  border-radius: 0.25em;\n",
       "  color: var(--sklearn-color-text);\n",
       "  /* unfitted */\n",
       "  background-color: var(--sklearn-color-unfitted-level-0);\n",
       "}\n",
       "\n",
       "#sk-container-id-3 div.sk-toggleable__content.fitted pre {\n",
       "  /* unfitted */\n",
       "  background-color: var(--sklearn-color-fitted-level-0);\n",
       "}\n",
       "\n",
       "#sk-container-id-3 input.sk-toggleable__control:checked~div.sk-toggleable__content {\n",
       "  /* Expand drop-down */\n",
       "  max-height: 200px;\n",
       "  max-width: 100%;\n",
       "  overflow: auto;\n",
       "}\n",
       "\n",
       "#sk-container-id-3 input.sk-toggleable__control:checked~label.sk-toggleable__label-arrow:before {\n",
       "  content: \"▾\";\n",
       "}\n",
       "\n",
       "/* Pipeline/ColumnTransformer-specific style */\n",
       "\n",
       "#sk-container-id-3 div.sk-label input.sk-toggleable__control:checked~label.sk-toggleable__label {\n",
       "  color: var(--sklearn-color-text);\n",
       "  background-color: var(--sklearn-color-unfitted-level-2);\n",
       "}\n",
       "\n",
       "#sk-container-id-3 div.sk-label.fitted input.sk-toggleable__control:checked~label.sk-toggleable__label {\n",
       "  background-color: var(--sklearn-color-fitted-level-2);\n",
       "}\n",
       "\n",
       "/* Estimator-specific style */\n",
       "\n",
       "/* Colorize estimator box */\n",
       "#sk-container-id-3 div.sk-estimator input.sk-toggleable__control:checked~label.sk-toggleable__label {\n",
       "  /* unfitted */\n",
       "  background-color: var(--sklearn-color-unfitted-level-2);\n",
       "}\n",
       "\n",
       "#sk-container-id-3 div.sk-estimator.fitted input.sk-toggleable__control:checked~label.sk-toggleable__label {\n",
       "  /* fitted */\n",
       "  background-color: var(--sklearn-color-fitted-level-2);\n",
       "}\n",
       "\n",
       "#sk-container-id-3 div.sk-label label.sk-toggleable__label,\n",
       "#sk-container-id-3 div.sk-label label {\n",
       "  /* The background is the default theme color */\n",
       "  color: var(--sklearn-color-text-on-default-background);\n",
       "}\n",
       "\n",
       "/* On hover, darken the color of the background */\n",
       "#sk-container-id-3 div.sk-label:hover label.sk-toggleable__label {\n",
       "  color: var(--sklearn-color-text);\n",
       "  background-color: var(--sklearn-color-unfitted-level-2);\n",
       "}\n",
       "\n",
       "/* Label box, darken color on hover, fitted */\n",
       "#sk-container-id-3 div.sk-label.fitted:hover label.sk-toggleable__label.fitted {\n",
       "  color: var(--sklearn-color-text);\n",
       "  background-color: var(--sklearn-color-fitted-level-2);\n",
       "}\n",
       "\n",
       "/* Estimator label */\n",
       "\n",
       "#sk-container-id-3 div.sk-label label {\n",
       "  font-family: monospace;\n",
       "  font-weight: bold;\n",
       "  display: inline-block;\n",
       "  line-height: 1.2em;\n",
       "}\n",
       "\n",
       "#sk-container-id-3 div.sk-label-container {\n",
       "  text-align: center;\n",
       "}\n",
       "\n",
       "/* Estimator-specific */\n",
       "#sk-container-id-3 div.sk-estimator {\n",
       "  font-family: monospace;\n",
       "  border: 1px dotted var(--sklearn-color-border-box);\n",
       "  border-radius: 0.25em;\n",
       "  box-sizing: border-box;\n",
       "  margin-bottom: 0.5em;\n",
       "  /* unfitted */\n",
       "  background-color: var(--sklearn-color-unfitted-level-0);\n",
       "}\n",
       "\n",
       "#sk-container-id-3 div.sk-estimator.fitted {\n",
       "  /* fitted */\n",
       "  background-color: var(--sklearn-color-fitted-level-0);\n",
       "}\n",
       "\n",
       "/* on hover */\n",
       "#sk-container-id-3 div.sk-estimator:hover {\n",
       "  /* unfitted */\n",
       "  background-color: var(--sklearn-color-unfitted-level-2);\n",
       "}\n",
       "\n",
       "#sk-container-id-3 div.sk-estimator.fitted:hover {\n",
       "  /* fitted */\n",
       "  background-color: var(--sklearn-color-fitted-level-2);\n",
       "}\n",
       "\n",
       "/* Specification for estimator info (e.g. \"i\" and \"?\") */\n",
       "\n",
       "/* Common style for \"i\" and \"?\" */\n",
       "\n",
       ".sk-estimator-doc-link,\n",
       "a:link.sk-estimator-doc-link,\n",
       "a:visited.sk-estimator-doc-link {\n",
       "  float: right;\n",
       "  font-size: smaller;\n",
       "  line-height: 1em;\n",
       "  font-family: monospace;\n",
       "  background-color: var(--sklearn-color-background);\n",
       "  border-radius: 1em;\n",
       "  height: 1em;\n",
       "  width: 1em;\n",
       "  text-decoration: none !important;\n",
       "  margin-left: 0.5em;\n",
       "  text-align: center;\n",
       "  /* unfitted */\n",
       "  border: var(--sklearn-color-unfitted-level-1) 1pt solid;\n",
       "  color: var(--sklearn-color-unfitted-level-1);\n",
       "}\n",
       "\n",
       ".sk-estimator-doc-link.fitted,\n",
       "a:link.sk-estimator-doc-link.fitted,\n",
       "a:visited.sk-estimator-doc-link.fitted {\n",
       "  /* fitted */\n",
       "  border: var(--sklearn-color-fitted-level-1) 1pt solid;\n",
       "  color: var(--sklearn-color-fitted-level-1);\n",
       "}\n",
       "\n",
       "/* On hover */\n",
       "div.sk-estimator:hover .sk-estimator-doc-link:hover,\n",
       ".sk-estimator-doc-link:hover,\n",
       "div.sk-label-container:hover .sk-estimator-doc-link:hover,\n",
       ".sk-estimator-doc-link:hover {\n",
       "  /* unfitted */\n",
       "  background-color: var(--sklearn-color-unfitted-level-3);\n",
       "  color: var(--sklearn-color-background);\n",
       "  text-decoration: none;\n",
       "}\n",
       "\n",
       "div.sk-estimator.fitted:hover .sk-estimator-doc-link.fitted:hover,\n",
       ".sk-estimator-doc-link.fitted:hover,\n",
       "div.sk-label-container:hover .sk-estimator-doc-link.fitted:hover,\n",
       ".sk-estimator-doc-link.fitted:hover {\n",
       "  /* fitted */\n",
       "  background-color: var(--sklearn-color-fitted-level-3);\n",
       "  color: var(--sklearn-color-background);\n",
       "  text-decoration: none;\n",
       "}\n",
       "\n",
       "/* Span, style for the box shown on hovering the info icon */\n",
       ".sk-estimator-doc-link span {\n",
       "  display: none;\n",
       "  z-index: 9999;\n",
       "  position: relative;\n",
       "  font-weight: normal;\n",
       "  right: .2ex;\n",
       "  padding: .5ex;\n",
       "  margin: .5ex;\n",
       "  width: min-content;\n",
       "  min-width: 20ex;\n",
       "  max-width: 50ex;\n",
       "  color: var(--sklearn-color-text);\n",
       "  box-shadow: 2pt 2pt 4pt #999;\n",
       "  /* unfitted */\n",
       "  background: var(--sklearn-color-unfitted-level-0);\n",
       "  border: .5pt solid var(--sklearn-color-unfitted-level-3);\n",
       "}\n",
       "\n",
       ".sk-estimator-doc-link.fitted span {\n",
       "  /* fitted */\n",
       "  background: var(--sklearn-color-fitted-level-0);\n",
       "  border: var(--sklearn-color-fitted-level-3);\n",
       "}\n",
       "\n",
       ".sk-estimator-doc-link:hover span {\n",
       "  display: block;\n",
       "}\n",
       "\n",
       "/* \"?\"-specific style due to the `<a>` HTML tag */\n",
       "\n",
       "#sk-container-id-3 a.estimator_doc_link {\n",
       "  float: right;\n",
       "  font-size: 1rem;\n",
       "  line-height: 1em;\n",
       "  font-family: monospace;\n",
       "  background-color: var(--sklearn-color-background);\n",
       "  border-radius: 1rem;\n",
       "  height: 1rem;\n",
       "  width: 1rem;\n",
       "  text-decoration: none;\n",
       "  /* unfitted */\n",
       "  color: var(--sklearn-color-unfitted-level-1);\n",
       "  border: var(--sklearn-color-unfitted-level-1) 1pt solid;\n",
       "}\n",
       "\n",
       "#sk-container-id-3 a.estimator_doc_link.fitted {\n",
       "  /* fitted */\n",
       "  border: var(--sklearn-color-fitted-level-1) 1pt solid;\n",
       "  color: var(--sklearn-color-fitted-level-1);\n",
       "}\n",
       "\n",
       "/* On hover */\n",
       "#sk-container-id-3 a.estimator_doc_link:hover {\n",
       "  /* unfitted */\n",
       "  background-color: var(--sklearn-color-unfitted-level-3);\n",
       "  color: var(--sklearn-color-background);\n",
       "  text-decoration: none;\n",
       "}\n",
       "\n",
       "#sk-container-id-3 a.estimator_doc_link.fitted:hover {\n",
       "  /* fitted */\n",
       "  background-color: var(--sklearn-color-fitted-level-3);\n",
       "}\n",
       "</style><div id=\"sk-container-id-3\" class=\"sk-top-container\"><div class=\"sk-text-repr-fallback\"><pre>RandomForestRegressor()</pre><b>In a Jupyter environment, please rerun this cell to show the HTML representation or trust the notebook. <br />On GitHub, the HTML representation is unable to render, please try loading this page with nbviewer.org.</b></div><div class=\"sk-container\" hidden><div class=\"sk-item\"><div class=\"sk-estimator fitted sk-toggleable\"><input class=\"sk-toggleable__control sk-hidden--visually\" id=\"sk-estimator-id-3\" type=\"checkbox\" checked><label for=\"sk-estimator-id-3\" class=\"sk-toggleable__label fitted sk-toggleable__label-arrow\"><div><div>RandomForestRegressor</div></div><div><a class=\"sk-estimator-doc-link fitted\" rel=\"noreferrer\" target=\"_blank\" href=\"https://scikit-learn.org/1.6/modules/generated/sklearn.ensemble.RandomForestRegressor.html\">?<span>Documentation for RandomForestRegressor</span></a><span class=\"sk-estimator-doc-link fitted\">i<span>Fitted</span></span></div></label><div class=\"sk-toggleable__content fitted\"><pre>RandomForestRegressor()</pre></div> </div></div></div></div>"
      ],
      "text/plain": [
       "RandomForestRegressor()"
      ]
     },
     "execution_count": 34,
     "metadata": {},
     "output_type": "execute_result"
    }
   ],
   "source": [
    "regressor_forest.fit(X, y)"
   ]
  },
  {
   "cell_type": "code",
   "execution_count": 35,
   "id": "7b7e4a2b-5137-4d7f-b8e1-382e9c891ad6",
   "metadata": {},
   "outputs": [
    {
     "data": {
      "text/plain": [
       "0.9296529630227086"
      ]
     },
     "execution_count": 35,
     "metadata": {},
     "output_type": "execute_result"
    }
   ],
   "source": [
    "regressor_forest.score(X, y)"
   ]
  },
  {
   "cell_type": "code",
   "execution_count": 36,
   "id": "68e1eb00-b0b0-446f-8051-13fb5056887c",
   "metadata": {
    "scrolled": true
   },
   "outputs": [
    {
     "data": {
      "text/plain": [
       "array([[18. ],\n",
       "       [18.1],\n",
       "       [18.2],\n",
       "       [18.3],\n",
       "       [18.4],\n",
       "       [18.5],\n",
       "       [18.6],\n",
       "       [18.7],\n",
       "       [18.8],\n",
       "       [18.9],\n",
       "       [19. ],\n",
       "       [19.1],\n",
       "       [19.2],\n",
       "       [19.3],\n",
       "       [19.4],\n",
       "       [19.5],\n",
       "       [19.6],\n",
       "       [19.7],\n",
       "       [19.8],\n",
       "       [19.9],\n",
       "       [20. ],\n",
       "       [20.1],\n",
       "       [20.2],\n",
       "       [20.3],\n",
       "       [20.4],\n",
       "       [20.5],\n",
       "       [20.6],\n",
       "       [20.7],\n",
       "       [20.8],\n",
       "       [20.9],\n",
       "       [21. ],\n",
       "       [21.1],\n",
       "       [21.2],\n",
       "       [21.3],\n",
       "       [21.4],\n",
       "       [21.5],\n",
       "       [21.6],\n",
       "       [21.7],\n",
       "       [21.8],\n",
       "       [21.9],\n",
       "       [22. ],\n",
       "       [22.1],\n",
       "       [22.2],\n",
       "       [22.3],\n",
       "       [22.4],\n",
       "       [22.5],\n",
       "       [22.6],\n",
       "       [22.7],\n",
       "       [22.8],\n",
       "       [22.9],\n",
       "       [23. ],\n",
       "       [23.1],\n",
       "       [23.2],\n",
       "       [23.3],\n",
       "       [23.4],\n",
       "       [23.5],\n",
       "       [23.6],\n",
       "       [23.7],\n",
       "       [23.8],\n",
       "       [23.9],\n",
       "       [24. ],\n",
       "       [24.1],\n",
       "       [24.2],\n",
       "       [24.3],\n",
       "       [24.4],\n",
       "       [24.5],\n",
       "       [24.6],\n",
       "       [24.7],\n",
       "       [24.8],\n",
       "       [24.9],\n",
       "       [25. ],\n",
       "       [25.1],\n",
       "       [25.2],\n",
       "       [25.3],\n",
       "       [25.4],\n",
       "       [25.5],\n",
       "       [25.6],\n",
       "       [25.7],\n",
       "       [25.8],\n",
       "       [25.9],\n",
       "       [26. ],\n",
       "       [26.1],\n",
       "       [26.2],\n",
       "       [26.3],\n",
       "       [26.4],\n",
       "       [26.5],\n",
       "       [26.6],\n",
       "       [26.7],\n",
       "       [26.8],\n",
       "       [26.9],\n",
       "       [27. ],\n",
       "       [27.1],\n",
       "       [27.2],\n",
       "       [27.3],\n",
       "       [27.4],\n",
       "       [27.5],\n",
       "       [27.6],\n",
       "       [27.7],\n",
       "       [27.8],\n",
       "       [27.9],\n",
       "       [28. ],\n",
       "       [28.1],\n",
       "       [28.2],\n",
       "       [28.3],\n",
       "       [28.4],\n",
       "       [28.5],\n",
       "       [28.6],\n",
       "       [28.7],\n",
       "       [28.8],\n",
       "       [28.9],\n",
       "       [29. ],\n",
       "       [29.1],\n",
       "       [29.2],\n",
       "       [29.3],\n",
       "       [29.4],\n",
       "       [29.5],\n",
       "       [29.6],\n",
       "       [29.7],\n",
       "       [29.8],\n",
       "       [29.9],\n",
       "       [30. ],\n",
       "       [30.1],\n",
       "       [30.2],\n",
       "       [30.3],\n",
       "       [30.4],\n",
       "       [30.5],\n",
       "       [30.6],\n",
       "       [30.7],\n",
       "       [30.8],\n",
       "       [30.9],\n",
       "       [31. ],\n",
       "       [31.1],\n",
       "       [31.2],\n",
       "       [31.3],\n",
       "       [31.4],\n",
       "       [31.5],\n",
       "       [31.6],\n",
       "       [31.7],\n",
       "       [31.8],\n",
       "       [31.9],\n",
       "       [32. ],\n",
       "       [32.1],\n",
       "       [32.2],\n",
       "       [32.3],\n",
       "       [32.4],\n",
       "       [32.5],\n",
       "       [32.6],\n",
       "       [32.7],\n",
       "       [32.8],\n",
       "       [32.9],\n",
       "       [33. ],\n",
       "       [33.1],\n",
       "       [33.2],\n",
       "       [33.3],\n",
       "       [33.4],\n",
       "       [33.5],\n",
       "       [33.6],\n",
       "       [33.7],\n",
       "       [33.8],\n",
       "       [33.9],\n",
       "       [34. ],\n",
       "       [34.1],\n",
       "       [34.2],\n",
       "       [34.3],\n",
       "       [34.4],\n",
       "       [34.5],\n",
       "       [34.6],\n",
       "       [34.7],\n",
       "       [34.8],\n",
       "       [34.9],\n",
       "       [35. ],\n",
       "       [35.1],\n",
       "       [35.2],\n",
       "       [35.3],\n",
       "       [35.4],\n",
       "       [35.5],\n",
       "       [35.6],\n",
       "       [35.7],\n",
       "       [35.8],\n",
       "       [35.9],\n",
       "       [36. ],\n",
       "       [36.1],\n",
       "       [36.2],\n",
       "       [36.3],\n",
       "       [36.4],\n",
       "       [36.5],\n",
       "       [36.6],\n",
       "       [36.7],\n",
       "       [36.8],\n",
       "       [36.9],\n",
       "       [37. ],\n",
       "       [37.1],\n",
       "       [37.2],\n",
       "       [37.3],\n",
       "       [37.4],\n",
       "       [37.5],\n",
       "       [37.6],\n",
       "       [37.7],\n",
       "       [37.8],\n",
       "       [37.9],\n",
       "       [38. ],\n",
       "       [38.1],\n",
       "       [38.2],\n",
       "       [38.3],\n",
       "       [38.4],\n",
       "       [38.5],\n",
       "       [38.6],\n",
       "       [38.7],\n",
       "       [38.8],\n",
       "       [38.9],\n",
       "       [39. ],\n",
       "       [39.1],\n",
       "       [39.2],\n",
       "       [39.3],\n",
       "       [39.4],\n",
       "       [39.5],\n",
       "       [39.6],\n",
       "       [39.7],\n",
       "       [39.8],\n",
       "       [39.9],\n",
       "       [40. ],\n",
       "       [40.1],\n",
       "       [40.2],\n",
       "       [40.3],\n",
       "       [40.4],\n",
       "       [40.5],\n",
       "       [40.6],\n",
       "       [40.7],\n",
       "       [40.8],\n",
       "       [40.9],\n",
       "       [41. ],\n",
       "       [41.1],\n",
       "       [41.2],\n",
       "       [41.3],\n",
       "       [41.4],\n",
       "       [41.5],\n",
       "       [41.6],\n",
       "       [41.7],\n",
       "       [41.8],\n",
       "       [41.9],\n",
       "       [42. ],\n",
       "       [42.1],\n",
       "       [42.2],\n",
       "       [42.3],\n",
       "       [42.4],\n",
       "       [42.5],\n",
       "       [42.6],\n",
       "       [42.7],\n",
       "       [42.8],\n",
       "       [42.9],\n",
       "       [43. ],\n",
       "       [43.1],\n",
       "       [43.2],\n",
       "       [43.3],\n",
       "       [43.4],\n",
       "       [43.5],\n",
       "       [43.6],\n",
       "       [43.7],\n",
       "       [43.8],\n",
       "       [43.9],\n",
       "       [44. ],\n",
       "       [44.1],\n",
       "       [44.2],\n",
       "       [44.3],\n",
       "       [44.4],\n",
       "       [44.5],\n",
       "       [44.6],\n",
       "       [44.7],\n",
       "       [44.8],\n",
       "       [44.9],\n",
       "       [45. ],\n",
       "       [45.1],\n",
       "       [45.2],\n",
       "       [45.3],\n",
       "       [45.4],\n",
       "       [45.5],\n",
       "       [45.6],\n",
       "       [45.7],\n",
       "       [45.8],\n",
       "       [45.9],\n",
       "       [46. ],\n",
       "       [46.1],\n",
       "       [46.2],\n",
       "       [46.3],\n",
       "       [46.4],\n",
       "       [46.5],\n",
       "       [46.6],\n",
       "       [46.7],\n",
       "       [46.8],\n",
       "       [46.9],\n",
       "       [47. ],\n",
       "       [47.1],\n",
       "       [47.2],\n",
       "       [47.3],\n",
       "       [47.4],\n",
       "       [47.5],\n",
       "       [47.6],\n",
       "       [47.7],\n",
       "       [47.8],\n",
       "       [47.9],\n",
       "       [48. ],\n",
       "       [48.1],\n",
       "       [48.2],\n",
       "       [48.3],\n",
       "       [48.4],\n",
       "       [48.5],\n",
       "       [48.6],\n",
       "       [48.7],\n",
       "       [48.8],\n",
       "       [48.9],\n",
       "       [49. ],\n",
       "       [49.1],\n",
       "       [49.2],\n",
       "       [49.3],\n",
       "       [49.4],\n",
       "       [49.5],\n",
       "       [49.6],\n",
       "       [49.7],\n",
       "       [49.8],\n",
       "       [49.9],\n",
       "       [50. ],\n",
       "       [50.1],\n",
       "       [50.2],\n",
       "       [50.3],\n",
       "       [50.4],\n",
       "       [50.5],\n",
       "       [50.6],\n",
       "       [50.7],\n",
       "       [50.8],\n",
       "       [50.9],\n",
       "       [51. ],\n",
       "       [51.1],\n",
       "       [51.2],\n",
       "       [51.3],\n",
       "       [51.4],\n",
       "       [51.5],\n",
       "       [51.6],\n",
       "       [51.7],\n",
       "       [51.8],\n",
       "       [51.9],\n",
       "       [52. ],\n",
       "       [52.1],\n",
       "       [52.2],\n",
       "       [52.3],\n",
       "       [52.4],\n",
       "       [52.5],\n",
       "       [52.6],\n",
       "       [52.7],\n",
       "       [52.8],\n",
       "       [52.9],\n",
       "       [53. ],\n",
       "       [53.1],\n",
       "       [53.2],\n",
       "       [53.3],\n",
       "       [53.4],\n",
       "       [53.5],\n",
       "       [53.6],\n",
       "       [53.7],\n",
       "       [53.8],\n",
       "       [53.9],\n",
       "       [54. ],\n",
       "       [54.1],\n",
       "       [54.2],\n",
       "       [54.3],\n",
       "       [54.4],\n",
       "       [54.5],\n",
       "       [54.6],\n",
       "       [54.7],\n",
       "       [54.8],\n",
       "       [54.9],\n",
       "       [55. ],\n",
       "       [55.1],\n",
       "       [55.2],\n",
       "       [55.3],\n",
       "       [55.4],\n",
       "       [55.5],\n",
       "       [55.6],\n",
       "       [55.7],\n",
       "       [55.8],\n",
       "       [55.9],\n",
       "       [56. ],\n",
       "       [56.1],\n",
       "       [56.2],\n",
       "       [56.3],\n",
       "       [56.4],\n",
       "       [56.5],\n",
       "       [56.6],\n",
       "       [56.7],\n",
       "       [56.8],\n",
       "       [56.9],\n",
       "       [57. ],\n",
       "       [57.1],\n",
       "       [57.2],\n",
       "       [57.3],\n",
       "       [57.4],\n",
       "       [57.5],\n",
       "       [57.6],\n",
       "       [57.7],\n",
       "       [57.8],\n",
       "       [57.9],\n",
       "       [58. ],\n",
       "       [58.1],\n",
       "       [58.2],\n",
       "       [58.3],\n",
       "       [58.4],\n",
       "       [58.5],\n",
       "       [58.6],\n",
       "       [58.7],\n",
       "       [58.8],\n",
       "       [58.9],\n",
       "       [59. ],\n",
       "       [59.1],\n",
       "       [59.2],\n",
       "       [59.3],\n",
       "       [59.4],\n",
       "       [59.5],\n",
       "       [59.6],\n",
       "       [59.7],\n",
       "       [59.8],\n",
       "       [59.9],\n",
       "       [60. ],\n",
       "       [60.1],\n",
       "       [60.2],\n",
       "       [60.3],\n",
       "       [60.4],\n",
       "       [60.5],\n",
       "       [60.6],\n",
       "       [60.7],\n",
       "       [60.8],\n",
       "       [60.9],\n",
       "       [61. ],\n",
       "       [61.1],\n",
       "       [61.2],\n",
       "       [61.3],\n",
       "       [61.4],\n",
       "       [61.5],\n",
       "       [61.6],\n",
       "       [61.7],\n",
       "       [61.8],\n",
       "       [61.9],\n",
       "       [62. ],\n",
       "       [62.1],\n",
       "       [62.2],\n",
       "       [62.3],\n",
       "       [62.4],\n",
       "       [62.5],\n",
       "       [62.6],\n",
       "       [62.7],\n",
       "       [62.8],\n",
       "       [62.9]])"
      ]
     },
     "execution_count": 36,
     "metadata": {},
     "output_type": "execute_result"
    }
   ],
   "source": [
    "X_test_tree"
   ]
  },
  {
   "cell_type": "code",
   "execution_count": 41,
   "id": "6bf8b8f2-4b41-4c60-90e1-10ac3b977fdd",
   "metadata": {},
   "outputs": [
    {
     "data": {
      "application/vnd.plotly.v1+json": {
       "config": {
        "plotlyServerURL": "https://plot.ly"
       },
       "data": [
        {
         "hovertemplate": "x=%{x}<br>y=%{y}<extra></extra>",
         "legendgroup": "",
         "marker": {
          "color": "#636efa",
          "symbol": "circle"
         },
         "mode": "markers",
         "name": "",
         "orientation": "v",
         "showlegend": false,
         "type": "scatter",
         "x": [
          18,
          23,
          28,
          33,
          38,
          43,
          48,
          53,
          58,
          63
         ],
         "xaxis": "x",
         "y": [
          470,
          520,
          630,
          830,
          1150,
          1530,
          2040,
          3080,
          5100,
          10100
         ],
         "yaxis": "y"
        },
        {
         "name": "Regression",
         "type": "scatter",
         "x": [
          18,
          18.1,
          18.200000000000003,
          18.300000000000004,
          18.400000000000006,
          18.500000000000007,
          18.60000000000001,
          18.70000000000001,
          18.80000000000001,
          18.900000000000013,
          19.000000000000014,
          19.100000000000016,
          19.200000000000017,
          19.30000000000002,
          19.40000000000002,
          19.50000000000002,
          19.600000000000023,
          19.700000000000024,
          19.800000000000026,
          19.900000000000027,
          20.00000000000003,
          20.10000000000003,
          20.20000000000003,
          20.300000000000033,
          20.400000000000034,
          20.500000000000036,
          20.600000000000037,
          20.70000000000004,
          20.80000000000004,
          20.90000000000004,
          21.000000000000043,
          21.100000000000044,
          21.200000000000045,
          21.300000000000047,
          21.40000000000005,
          21.50000000000005,
          21.60000000000005,
          21.700000000000053,
          21.800000000000054,
          21.900000000000055,
          22.000000000000057,
          22.10000000000006,
          22.20000000000006,
          22.30000000000006,
          22.400000000000063,
          22.500000000000064,
          22.600000000000065,
          22.700000000000067,
          22.800000000000068,
          22.90000000000007,
          23.00000000000007,
          23.100000000000072,
          23.200000000000074,
          23.300000000000075,
          23.400000000000077,
          23.500000000000078,
          23.60000000000008,
          23.70000000000008,
          23.800000000000082,
          23.900000000000084,
          24.000000000000085,
          24.100000000000087,
          24.200000000000088,
          24.30000000000009,
          24.40000000000009,
          24.500000000000092,
          24.600000000000094,
          24.700000000000095,
          24.800000000000097,
          24.900000000000098,
          25.0000000000001,
          25.1000000000001,
          25.200000000000102,
          25.300000000000104,
          25.400000000000105,
          25.500000000000107,
          25.600000000000108,
          25.70000000000011,
          25.80000000000011,
          25.900000000000112,
          26.000000000000114,
          26.100000000000115,
          26.200000000000117,
          26.300000000000118,
          26.40000000000012,
          26.50000000000012,
          26.600000000000122,
          26.700000000000124,
          26.800000000000125,
          26.900000000000126,
          27.000000000000128,
          27.10000000000013,
          27.20000000000013,
          27.300000000000132,
          27.400000000000134,
          27.500000000000135,
          27.600000000000136,
          27.700000000000138,
          27.80000000000014,
          27.90000000000014,
          28.000000000000142,
          28.100000000000144,
          28.200000000000145,
          28.300000000000146,
          28.400000000000148,
          28.50000000000015,
          28.60000000000015,
          28.700000000000152,
          28.800000000000153,
          28.900000000000155,
          29.000000000000156,
          29.100000000000158,
          29.20000000000016,
          29.30000000000016,
          29.400000000000162,
          29.500000000000163,
          29.600000000000165,
          29.700000000000166,
          29.800000000000168,
          29.90000000000017,
          30.00000000000017,
          30.100000000000172,
          30.200000000000173,
          30.300000000000175,
          30.400000000000176,
          30.500000000000178,
          30.60000000000018,
          30.70000000000018,
          30.800000000000182,
          30.900000000000183,
          31.000000000000185,
          31.100000000000186,
          31.200000000000188,
          31.30000000000019,
          31.40000000000019,
          31.500000000000192,
          31.600000000000193,
          31.700000000000195,
          31.800000000000196,
          31.900000000000198,
          32.0000000000002,
          32.1000000000002,
          32.2000000000002,
          32.3000000000002,
          32.400000000000205,
          32.500000000000206,
          32.60000000000021,
          32.70000000000021,
          32.80000000000021,
          32.90000000000021,
          33.00000000000021,
          33.100000000000215,
          33.200000000000216,
          33.30000000000022,
          33.40000000000022,
          33.50000000000022,
          33.60000000000022,
          33.70000000000022,
          33.800000000000225,
          33.900000000000226,
          34.00000000000023,
          34.10000000000023,
          34.20000000000023,
          34.30000000000023,
          34.40000000000023,
          34.500000000000234,
          34.600000000000236,
          34.70000000000024,
          34.80000000000024,
          34.90000000000024,
          35.00000000000024,
          35.10000000000024,
          35.200000000000244,
          35.300000000000246,
          35.40000000000025,
          35.50000000000025,
          35.60000000000025,
          35.70000000000025,
          35.80000000000025,
          35.900000000000254,
          36.000000000000256,
          36.10000000000026,
          36.20000000000026,
          36.30000000000026,
          36.40000000000026,
          36.50000000000026,
          36.600000000000264,
          36.700000000000266,
          36.80000000000027,
          36.90000000000027,
          37.00000000000027,
          37.10000000000027,
          37.20000000000027,
          37.300000000000274,
          37.400000000000276,
          37.50000000000028,
          37.60000000000028,
          37.70000000000028,
          37.80000000000028,
          37.90000000000028,
          38.000000000000284,
          38.100000000000286,
          38.20000000000029,
          38.30000000000029,
          38.40000000000029,
          38.50000000000029,
          38.60000000000029,
          38.700000000000294,
          38.800000000000296,
          38.9000000000003,
          39.0000000000003,
          39.1000000000003,
          39.2000000000003,
          39.3000000000003,
          39.400000000000304,
          39.500000000000306,
          39.60000000000031,
          39.70000000000031,
          39.80000000000031,
          39.90000000000031,
          40.00000000000031,
          40.100000000000314,
          40.200000000000315,
          40.30000000000032,
          40.40000000000032,
          40.50000000000032,
          40.60000000000032,
          40.70000000000032,
          40.800000000000324,
          40.900000000000325,
          41.00000000000033,
          41.10000000000033,
          41.20000000000033,
          41.30000000000033,
          41.40000000000033,
          41.500000000000334,
          41.600000000000335,
          41.70000000000034,
          41.80000000000034,
          41.90000000000034,
          42.00000000000034,
          42.10000000000034,
          42.200000000000344,
          42.300000000000345,
          42.40000000000035,
          42.50000000000035,
          42.60000000000035,
          42.70000000000035,
          42.80000000000035,
          42.900000000000354,
          43.000000000000355,
          43.10000000000036,
          43.20000000000036,
          43.30000000000036,
          43.40000000000036,
          43.50000000000036,
          43.600000000000364,
          43.700000000000365,
          43.80000000000037,
          43.90000000000037,
          44.00000000000037,
          44.10000000000037,
          44.20000000000037,
          44.300000000000374,
          44.400000000000375,
          44.50000000000038,
          44.60000000000038,
          44.70000000000038,
          44.80000000000038,
          44.90000000000038,
          45.000000000000384,
          45.100000000000385,
          45.20000000000039,
          45.30000000000039,
          45.40000000000039,
          45.50000000000039,
          45.60000000000039,
          45.700000000000394,
          45.800000000000395,
          45.9000000000004,
          46.0000000000004,
          46.1000000000004,
          46.2000000000004,
          46.3000000000004,
          46.400000000000404,
          46.500000000000405,
          46.600000000000406,
          46.70000000000041,
          46.80000000000041,
          46.90000000000041,
          47.00000000000041,
          47.10000000000041,
          47.200000000000415,
          47.300000000000416,
          47.40000000000042,
          47.50000000000042,
          47.60000000000042,
          47.70000000000042,
          47.80000000000042,
          47.900000000000425,
          48.000000000000426,
          48.10000000000043,
          48.20000000000043,
          48.30000000000043,
          48.40000000000043,
          48.50000000000043,
          48.600000000000435,
          48.700000000000436,
          48.80000000000044,
          48.90000000000044,
          49.00000000000044,
          49.10000000000044,
          49.20000000000044,
          49.300000000000445,
          49.400000000000446,
          49.50000000000045,
          49.60000000000045,
          49.70000000000045,
          49.80000000000045,
          49.90000000000045,
          50.000000000000455,
          50.100000000000456,
          50.20000000000046,
          50.30000000000046,
          50.40000000000046,
          50.50000000000046,
          50.60000000000046,
          50.700000000000465,
          50.800000000000466,
          50.90000000000047,
          51.00000000000047,
          51.10000000000047,
          51.20000000000047,
          51.30000000000047,
          51.400000000000475,
          51.500000000000476,
          51.60000000000048,
          51.70000000000048,
          51.80000000000048,
          51.90000000000048,
          52.00000000000048,
          52.100000000000485,
          52.200000000000486,
          52.30000000000049,
          52.40000000000049,
          52.50000000000049,
          52.60000000000049,
          52.70000000000049,
          52.800000000000495,
          52.900000000000496,
          53.0000000000005,
          53.1000000000005,
          53.2000000000005,
          53.3000000000005,
          53.4000000000005,
          53.500000000000504,
          53.600000000000506,
          53.70000000000051,
          53.80000000000051,
          53.90000000000051,
          54.00000000000051,
          54.10000000000051,
          54.200000000000514,
          54.300000000000516,
          54.40000000000052,
          54.50000000000052,
          54.60000000000052,
          54.70000000000052,
          54.80000000000052,
          54.900000000000524,
          55.000000000000526,
          55.10000000000053,
          55.20000000000053,
          55.30000000000053,
          55.40000000000053,
          55.50000000000053,
          55.600000000000534,
          55.700000000000536,
          55.80000000000054,
          55.90000000000054,
          56.00000000000054,
          56.10000000000054,
          56.20000000000054,
          56.300000000000544,
          56.400000000000546,
          56.50000000000055,
          56.60000000000055,
          56.70000000000055,
          56.80000000000055,
          56.90000000000055,
          57.000000000000554,
          57.100000000000556,
          57.20000000000056,
          57.30000000000056,
          57.40000000000056,
          57.50000000000056,
          57.60000000000056,
          57.700000000000564,
          57.800000000000566,
          57.90000000000057,
          58.00000000000057,
          58.10000000000057,
          58.20000000000057,
          58.30000000000057,
          58.400000000000574,
          58.500000000000576,
          58.60000000000058,
          58.70000000000058,
          58.80000000000058,
          58.90000000000058,
          59.00000000000058,
          59.100000000000584,
          59.200000000000585,
          59.30000000000059,
          59.40000000000059,
          59.50000000000059,
          59.60000000000059,
          59.70000000000059,
          59.800000000000594,
          59.900000000000595,
          60.0000000000006,
          60.1000000000006,
          60.2000000000006,
          60.3000000000006,
          60.4000000000006,
          60.500000000000604,
          60.600000000000605,
          60.70000000000061,
          60.80000000000061,
          60.90000000000061,
          61.00000000000061,
          61.10000000000061,
          61.200000000000614,
          61.300000000000615,
          61.40000000000062,
          61.50000000000062,
          61.60000000000062,
          61.70000000000062,
          61.80000000000062,
          61.900000000000624,
          62.000000000000625,
          62.10000000000063,
          62.20000000000063,
          62.30000000000063,
          62.40000000000063,
          62.50000000000063,
          62.600000000000634,
          62.700000000000635,
          62.80000000000064,
          62.90000000000064
         ],
         "y": [
          501.8,
          501.8,
          501.8,
          501.8,
          501.8,
          501.8,
          501.8,
          501.8,
          501.8,
          501.8,
          501.8,
          501.8,
          501.8,
          501.8,
          501.8,
          501.8,
          501.8,
          501.8,
          501.8,
          501.8,
          501.8,
          501.8,
          501.8,
          501.8,
          501.8,
          501.8,
          524.3,
          524.3,
          524.3,
          524.3,
          524.3,
          524.3,
          524.3,
          524.3,
          524.3,
          524.3,
          524.3,
          524.3,
          524.3,
          524.3,
          524.3,
          524.3,
          524.3,
          524.3,
          524.3,
          524.3,
          524.3,
          524.3,
          524.3,
          524.3,
          524.3,
          553.1,
          553.1,
          553.1,
          553.1,
          553.1,
          553.1,
          553.1,
          553.1,
          553.1,
          553.1,
          553.1,
          553.1,
          553.1,
          553.1,
          553.1,
          553.1,
          553.1,
          553.1,
          553.1,
          553.1,
          553.1,
          553.1,
          553.1,
          553.1,
          553.1,
          622.8,
          622.8,
          622.8,
          622.8,
          622.8,
          622.8,
          622.8,
          622.8,
          622.8,
          622.8,
          622.8,
          622.8,
          622.8,
          622.8,
          622.8,
          622.8,
          622.8,
          622.8,
          622.8,
          622.8,
          622.8,
          622.8,
          622.8,
          622.8,
          622.8,
          679.8,
          679.8,
          679.8,
          679.8,
          679.8,
          679.8,
          679.8,
          679.8,
          679.8,
          679.8,
          679.8,
          679.8,
          679.8,
          679.8,
          679.8,
          679.8,
          679.8,
          679.8,
          679.8,
          679.8,
          679.8,
          679.8,
          679.8,
          679.8,
          679.8,
          809.3,
          809.3,
          809.3,
          809.3,
          809.3,
          809.3,
          809.3,
          809.3,
          809.3,
          809.3,
          809.3,
          809.3,
          809.3,
          809.3,
          809.3,
          809.3,
          809.3,
          809.3,
          809.3,
          809.3,
          809.3,
          809.3,
          809.3,
          809.3,
          809.3,
          882.1,
          882.1,
          882.1,
          882.1,
          882.1,
          882.1,
          882.1,
          882.1,
          882.1,
          882.1,
          882.1,
          882.1,
          882.1,
          882.1,
          882.1,
          882.1,
          882.1,
          882.1,
          882.1,
          882.1,
          882.1,
          882.1,
          882.1,
          882.1,
          882.1,
          1049.3,
          1049.3,
          1049.3,
          1049.3,
          1049.3,
          1049.3,
          1049.3,
          1049.3,
          1049.3,
          1049.3,
          1049.3,
          1049.3,
          1049.3,
          1049.3,
          1049.3,
          1049.3,
          1049.3,
          1049.3,
          1049.3,
          1049.3,
          1049.3,
          1049.3,
          1049.3,
          1049.3,
          1049.3,
          1285.1,
          1285.1,
          1285.1,
          1285.1,
          1285.1,
          1285.1,
          1285.1,
          1285.1,
          1285.1,
          1285.1,
          1285.1,
          1285.1,
          1285.1,
          1285.1,
          1285.1,
          1285.1,
          1285.1,
          1285.1,
          1285.1,
          1285.1,
          1285.1,
          1285.1,
          1285.1,
          1285.1,
          1285.1,
          1481.7,
          1481.7,
          1481.7,
          1481.7,
          1481.7,
          1481.7,
          1481.7,
          1481.7,
          1481.7,
          1481.7,
          1481.7,
          1481.7,
          1481.7,
          1481.7,
          1481.7,
          1481.7,
          1481.7,
          1481.7,
          1481.7,
          1481.7,
          1481.7,
          1481.7,
          1481.7,
          1481.7,
          1481.7,
          1637.7,
          1637.7,
          1637.7,
          1637.7,
          1637.7,
          1637.7,
          1637.7,
          1637.7,
          1637.7,
          1637.7,
          1637.7,
          1637.7,
          1637.7,
          1637.7,
          1637.7,
          1637.7,
          1637.7,
          1637.7,
          1637.7,
          1637.7,
          1637.7,
          1637.7,
          1637.7,
          1637.7,
          1637.7,
          1929.1,
          1929.1,
          1929.1,
          1929.1,
          1929.1,
          1929.1,
          1929.1,
          1929.1,
          1929.1,
          1929.1,
          1929.1,
          1929.1,
          1929.1,
          1929.1,
          1929.1,
          1929.1,
          1929.1,
          1929.1,
          1929.1,
          1929.1,
          1929.1,
          1929.1,
          1929.1,
          1929.1,
          1929.1,
          2428.1,
          2428.1,
          2428.1,
          2428.1,
          2428.1,
          2428.1,
          2428.1,
          2428.1,
          2428.1,
          2428.1,
          2428.1,
          2428.1,
          2428.1,
          2428.1,
          2428.1,
          2428.1,
          2428.1,
          2428.1,
          2428.1,
          2428.1,
          2428.1,
          2428.1,
          2428.1,
          2428.1,
          2428.1,
          2899.2,
          2899.2,
          2899.2,
          2899.2,
          2899.2,
          2899.2,
          2899.2,
          2899.2,
          2899.2,
          2899.2,
          2899.2,
          2899.2,
          2899.2,
          2899.2,
          2899.2,
          2899.2,
          2899.2,
          2899.2,
          2899.2,
          2899.2,
          2899.2,
          2899.2,
          2899.2,
          2899.2,
          2899.2,
          3474.5,
          3474.5,
          3474.5,
          3474.5,
          3474.5,
          3474.5,
          3474.5,
          3474.5,
          3474.5,
          3474.5,
          3474.5,
          3474.5,
          3474.5,
          3474.5,
          3474.5,
          3474.5,
          3474.5,
          3474.5,
          3474.5,
          3474.5,
          3474.5,
          3474.5,
          3474.5,
          3474.5,
          3474.5,
          4866.9,
          4866.9,
          4866.9,
          4866.9,
          4866.9,
          4866.9,
          4866.9,
          4866.9,
          4866.9,
          4866.9,
          4866.9,
          4866.9,
          4866.9,
          4866.9,
          4866.9,
          4866.9,
          4866.9,
          4866.9,
          4866.9,
          4866.9,
          4866.9,
          4866.9,
          4866.9,
          4866.9,
          4866.9,
          5919.9,
          5919.9,
          5919.9,
          5919.9,
          5919.9,
          5919.9,
          5919.9,
          5919.9,
          5919.9,
          5919.9,
          5919.9,
          5919.9,
          5919.9,
          5919.9,
          5919.9,
          5919.9,
          5919.9,
          5919.9,
          5919.9,
          5919.9,
          5919.9,
          5919.9,
          5919.9,
          5919.9,
          5919.9,
          7719.9,
          7719.9,
          7719.9,
          7719.9,
          7719.9,
          7719.9,
          7719.9,
          7719.9,
          7719.9,
          7719.9,
          7719.9,
          7719.9,
          7719.9,
          7719.9,
          7719.9,
          7719.9,
          7719.9,
          7719.9,
          7719.9,
          7719.9,
          7719.9,
          7719.9,
          7719.9,
          7719.9
         ]
        }
       ],
       "layout": {
        "height": 500,
        "legend": {
         "tracegroupgap": 0
        },
        "margin": {
         "t": 60
        },
        "template": {
         "data": {
          "bar": [
           {
            "error_x": {
             "color": "#2a3f5f"
            },
            "error_y": {
             "color": "#2a3f5f"
            },
            "marker": {
             "line": {
              "color": "#E5ECF6",
              "width": 0.5
             },
             "pattern": {
              "fillmode": "overlay",
              "size": 10,
              "solidity": 0.2
             }
            },
            "type": "bar"
           }
          ],
          "barpolar": [
           {
            "marker": {
             "line": {
              "color": "#E5ECF6",
              "width": 0.5
             },
             "pattern": {
              "fillmode": "overlay",
              "size": 10,
              "solidity": 0.2
             }
            },
            "type": "barpolar"
           }
          ],
          "carpet": [
           {
            "aaxis": {
             "endlinecolor": "#2a3f5f",
             "gridcolor": "white",
             "linecolor": "white",
             "minorgridcolor": "white",
             "startlinecolor": "#2a3f5f"
            },
            "baxis": {
             "endlinecolor": "#2a3f5f",
             "gridcolor": "white",
             "linecolor": "white",
             "minorgridcolor": "white",
             "startlinecolor": "#2a3f5f"
            },
            "type": "carpet"
           }
          ],
          "choropleth": [
           {
            "colorbar": {
             "outlinewidth": 0,
             "ticks": ""
            },
            "type": "choropleth"
           }
          ],
          "contour": [
           {
            "colorbar": {
             "outlinewidth": 0,
             "ticks": ""
            },
            "colorscale": [
             [
              0,
              "#0d0887"
             ],
             [
              0.1111111111111111,
              "#46039f"
             ],
             [
              0.2222222222222222,
              "#7201a8"
             ],
             [
              0.3333333333333333,
              "#9c179e"
             ],
             [
              0.4444444444444444,
              "#bd3786"
             ],
             [
              0.5555555555555556,
              "#d8576b"
             ],
             [
              0.6666666666666666,
              "#ed7953"
             ],
             [
              0.7777777777777778,
              "#fb9f3a"
             ],
             [
              0.8888888888888888,
              "#fdca26"
             ],
             [
              1,
              "#f0f921"
             ]
            ],
            "type": "contour"
           }
          ],
          "contourcarpet": [
           {
            "colorbar": {
             "outlinewidth": 0,
             "ticks": ""
            },
            "type": "contourcarpet"
           }
          ],
          "heatmap": [
           {
            "colorbar": {
             "outlinewidth": 0,
             "ticks": ""
            },
            "colorscale": [
             [
              0,
              "#0d0887"
             ],
             [
              0.1111111111111111,
              "#46039f"
             ],
             [
              0.2222222222222222,
              "#7201a8"
             ],
             [
              0.3333333333333333,
              "#9c179e"
             ],
             [
              0.4444444444444444,
              "#bd3786"
             ],
             [
              0.5555555555555556,
              "#d8576b"
             ],
             [
              0.6666666666666666,
              "#ed7953"
             ],
             [
              0.7777777777777778,
              "#fb9f3a"
             ],
             [
              0.8888888888888888,
              "#fdca26"
             ],
             [
              1,
              "#f0f921"
             ]
            ],
            "type": "heatmap"
           }
          ],
          "heatmapgl": [
           {
            "colorbar": {
             "outlinewidth": 0,
             "ticks": ""
            },
            "colorscale": [
             [
              0,
              "#0d0887"
             ],
             [
              0.1111111111111111,
              "#46039f"
             ],
             [
              0.2222222222222222,
              "#7201a8"
             ],
             [
              0.3333333333333333,
              "#9c179e"
             ],
             [
              0.4444444444444444,
              "#bd3786"
             ],
             [
              0.5555555555555556,
              "#d8576b"
             ],
             [
              0.6666666666666666,
              "#ed7953"
             ],
             [
              0.7777777777777778,
              "#fb9f3a"
             ],
             [
              0.8888888888888888,
              "#fdca26"
             ],
             [
              1,
              "#f0f921"
             ]
            ],
            "type": "heatmapgl"
           }
          ],
          "histogram": [
           {
            "marker": {
             "pattern": {
              "fillmode": "overlay",
              "size": 10,
              "solidity": 0.2
             }
            },
            "type": "histogram"
           }
          ],
          "histogram2d": [
           {
            "colorbar": {
             "outlinewidth": 0,
             "ticks": ""
            },
            "colorscale": [
             [
              0,
              "#0d0887"
             ],
             [
              0.1111111111111111,
              "#46039f"
             ],
             [
              0.2222222222222222,
              "#7201a8"
             ],
             [
              0.3333333333333333,
              "#9c179e"
             ],
             [
              0.4444444444444444,
              "#bd3786"
             ],
             [
              0.5555555555555556,
              "#d8576b"
             ],
             [
              0.6666666666666666,
              "#ed7953"
             ],
             [
              0.7777777777777778,
              "#fb9f3a"
             ],
             [
              0.8888888888888888,
              "#fdca26"
             ],
             [
              1,
              "#f0f921"
             ]
            ],
            "type": "histogram2d"
           }
          ],
          "histogram2dcontour": [
           {
            "colorbar": {
             "outlinewidth": 0,
             "ticks": ""
            },
            "colorscale": [
             [
              0,
              "#0d0887"
             ],
             [
              0.1111111111111111,
              "#46039f"
             ],
             [
              0.2222222222222222,
              "#7201a8"
             ],
             [
              0.3333333333333333,
              "#9c179e"
             ],
             [
              0.4444444444444444,
              "#bd3786"
             ],
             [
              0.5555555555555556,
              "#d8576b"
             ],
             [
              0.6666666666666666,
              "#ed7953"
             ],
             [
              0.7777777777777778,
              "#fb9f3a"
             ],
             [
              0.8888888888888888,
              "#fdca26"
             ],
             [
              1,
              "#f0f921"
             ]
            ],
            "type": "histogram2dcontour"
           }
          ],
          "mesh3d": [
           {
            "colorbar": {
             "outlinewidth": 0,
             "ticks": ""
            },
            "type": "mesh3d"
           }
          ],
          "parcoords": [
           {
            "line": {
             "colorbar": {
              "outlinewidth": 0,
              "ticks": ""
             }
            },
            "type": "parcoords"
           }
          ],
          "pie": [
           {
            "automargin": true,
            "type": "pie"
           }
          ],
          "scatter": [
           {
            "fillpattern": {
             "fillmode": "overlay",
             "size": 10,
             "solidity": 0.2
            },
            "type": "scatter"
           }
          ],
          "scatter3d": [
           {
            "line": {
             "colorbar": {
              "outlinewidth": 0,
              "ticks": ""
             }
            },
            "marker": {
             "colorbar": {
              "outlinewidth": 0,
              "ticks": ""
             }
            },
            "type": "scatter3d"
           }
          ],
          "scattercarpet": [
           {
            "marker": {
             "colorbar": {
              "outlinewidth": 0,
              "ticks": ""
             }
            },
            "type": "scattercarpet"
           }
          ],
          "scattergeo": [
           {
            "marker": {
             "colorbar": {
              "outlinewidth": 0,
              "ticks": ""
             }
            },
            "type": "scattergeo"
           }
          ],
          "scattergl": [
           {
            "marker": {
             "colorbar": {
              "outlinewidth": 0,
              "ticks": ""
             }
            },
            "type": "scattergl"
           }
          ],
          "scattermapbox": [
           {
            "marker": {
             "colorbar": {
              "outlinewidth": 0,
              "ticks": ""
             }
            },
            "type": "scattermapbox"
           }
          ],
          "scatterpolar": [
           {
            "marker": {
             "colorbar": {
              "outlinewidth": 0,
              "ticks": ""
             }
            },
            "type": "scatterpolar"
           }
          ],
          "scatterpolargl": [
           {
            "marker": {
             "colorbar": {
              "outlinewidth": 0,
              "ticks": ""
             }
            },
            "type": "scatterpolargl"
           }
          ],
          "scatterternary": [
           {
            "marker": {
             "colorbar": {
              "outlinewidth": 0,
              "ticks": ""
             }
            },
            "type": "scatterternary"
           }
          ],
          "surface": [
           {
            "colorbar": {
             "outlinewidth": 0,
             "ticks": ""
            },
            "colorscale": [
             [
              0,
              "#0d0887"
             ],
             [
              0.1111111111111111,
              "#46039f"
             ],
             [
              0.2222222222222222,
              "#7201a8"
             ],
             [
              0.3333333333333333,
              "#9c179e"
             ],
             [
              0.4444444444444444,
              "#bd3786"
             ],
             [
              0.5555555555555556,
              "#d8576b"
             ],
             [
              0.6666666666666666,
              "#ed7953"
             ],
             [
              0.7777777777777778,
              "#fb9f3a"
             ],
             [
              0.8888888888888888,
              "#fdca26"
             ],
             [
              1,
              "#f0f921"
             ]
            ],
            "type": "surface"
           }
          ],
          "table": [
           {
            "cells": {
             "fill": {
              "color": "#EBF0F8"
             },
             "line": {
              "color": "white"
             }
            },
            "header": {
             "fill": {
              "color": "#C8D4E3"
             },
             "line": {
              "color": "white"
             }
            },
            "type": "table"
           }
          ]
         },
         "layout": {
          "annotationdefaults": {
           "arrowcolor": "#2a3f5f",
           "arrowhead": 0,
           "arrowwidth": 1
          },
          "autotypenumbers": "strict",
          "coloraxis": {
           "colorbar": {
            "outlinewidth": 0,
            "ticks": ""
           }
          },
          "colorscale": {
           "diverging": [
            [
             0,
             "#8e0152"
            ],
            [
             0.1,
             "#c51b7d"
            ],
            [
             0.2,
             "#de77ae"
            ],
            [
             0.3,
             "#f1b6da"
            ],
            [
             0.4,
             "#fde0ef"
            ],
            [
             0.5,
             "#f7f7f7"
            ],
            [
             0.6,
             "#e6f5d0"
            ],
            [
             0.7,
             "#b8e186"
            ],
            [
             0.8,
             "#7fbc41"
            ],
            [
             0.9,
             "#4d9221"
            ],
            [
             1,
             "#276419"
            ]
           ],
           "sequential": [
            [
             0,
             "#0d0887"
            ],
            [
             0.1111111111111111,
             "#46039f"
            ],
            [
             0.2222222222222222,
             "#7201a8"
            ],
            [
             0.3333333333333333,
             "#9c179e"
            ],
            [
             0.4444444444444444,
             "#bd3786"
            ],
            [
             0.5555555555555556,
             "#d8576b"
            ],
            [
             0.6666666666666666,
             "#ed7953"
            ],
            [
             0.7777777777777778,
             "#fb9f3a"
            ],
            [
             0.8888888888888888,
             "#fdca26"
            ],
            [
             1,
             "#f0f921"
            ]
           ],
           "sequentialminus": [
            [
             0,
             "#0d0887"
            ],
            [
             0.1111111111111111,
             "#46039f"
            ],
            [
             0.2222222222222222,
             "#7201a8"
            ],
            [
             0.3333333333333333,
             "#9c179e"
            ],
            [
             0.4444444444444444,
             "#bd3786"
            ],
            [
             0.5555555555555556,
             "#d8576b"
            ],
            [
             0.6666666666666666,
             "#ed7953"
            ],
            [
             0.7777777777777778,
             "#fb9f3a"
            ],
            [
             0.8888888888888888,
             "#fdca26"
            ],
            [
             1,
             "#f0f921"
            ]
           ]
          },
          "colorway": [
           "#636efa",
           "#EF553B",
           "#00cc96",
           "#ab63fa",
           "#FFA15A",
           "#19d3f3",
           "#FF6692",
           "#B6E880",
           "#FF97FF",
           "#FECB52"
          ],
          "font": {
           "color": "#2a3f5f"
          },
          "geo": {
           "bgcolor": "white",
           "lakecolor": "white",
           "landcolor": "#E5ECF6",
           "showlakes": true,
           "showland": true,
           "subunitcolor": "white"
          },
          "hoverlabel": {
           "align": "left"
          },
          "hovermode": "closest",
          "mapbox": {
           "style": "light"
          },
          "paper_bgcolor": "white",
          "plot_bgcolor": "#E5ECF6",
          "polar": {
           "angularaxis": {
            "gridcolor": "white",
            "linecolor": "white",
            "ticks": ""
           },
           "bgcolor": "#E5ECF6",
           "radialaxis": {
            "gridcolor": "white",
            "linecolor": "white",
            "ticks": ""
           }
          },
          "scene": {
           "xaxis": {
            "backgroundcolor": "#E5ECF6",
            "gridcolor": "white",
            "gridwidth": 2,
            "linecolor": "white",
            "showbackground": true,
            "ticks": "",
            "zerolinecolor": "white"
           },
           "yaxis": {
            "backgroundcolor": "#E5ECF6",
            "gridcolor": "white",
            "gridwidth": 2,
            "linecolor": "white",
            "showbackground": true,
            "ticks": "",
            "zerolinecolor": "white"
           },
           "zaxis": {
            "backgroundcolor": "#E5ECF6",
            "gridcolor": "white",
            "gridwidth": 2,
            "linecolor": "white",
            "showbackground": true,
            "ticks": "",
            "zerolinecolor": "white"
           }
          },
          "shapedefaults": {
           "line": {
            "color": "#2a3f5f"
           }
          },
          "ternary": {
           "aaxis": {
            "gridcolor": "white",
            "linecolor": "white",
            "ticks": ""
           },
           "baxis": {
            "gridcolor": "white",
            "linecolor": "white",
            "ticks": ""
           },
           "bgcolor": "#E5ECF6",
           "caxis": {
            "gridcolor": "white",
            "linecolor": "white",
            "ticks": ""
           }
          },
          "title": {
           "x": 0.05
          },
          "xaxis": {
           "automargin": true,
           "gridcolor": "white",
           "linecolor": "white",
           "ticks": "",
           "title": {
            "standoff": 15
           },
           "zerolinecolor": "white",
           "zerolinewidth": 2
          },
          "yaxis": {
           "automargin": true,
           "gridcolor": "white",
           "linecolor": "white",
           "ticks": "",
           "title": {
            "standoff": 15
           },
           "zerolinecolor": "white",
           "zerolinewidth": 2
          }
         }
        },
        "width": 800,
        "xaxis": {
         "anchor": "y",
         "domain": [
          0,
          1
         ],
         "title": {
          "text": "x"
         }
        },
        "yaxis": {
         "anchor": "x",
         "domain": [
          0,
          1
         ],
         "title": {
          "text": "y"
         }
        }
       }
      },
      "image/png": "[encoded data removed]",
      "text/html": [
       "<div>                            <div id=\"7c6469b0-7838-4618-87fe-cc9c7f5e4f55\" class=\"plotly-graph-div\" style=\"height:500px; width:800px;\"></div>            <script type=\"text/javascript\">                require([\"plotly\"], function(Plotly) {                    window.PLOTLYENV=window.PLOTLYENV || {};                                    if (document.getElementById(\"7c6469b0-7838-4618-87fe-cc9c7f5e4f55\")) {                    Plotly.newPlot(                        \"7c6469b0-7838-4618-87fe-cc9c7f5e4f55\",                        [{\"hovertemplate\":\"x=%{x}\\u003cbr\\u003ey=%{y}\\u003cextra\\u003e\\u003c\\u002fextra\\u003e\",\"legendgroup\":\"\",\"marker\":{\"color\":\"#636efa\",\"symbol\":\"circle\"},\"mode\":\"markers\",\"name\":\"\",\"orientation\":\"v\",\"showlegend\":false,\"x\":[18,23,28,33,38,43,48,53,58,63],\"xaxis\":\"x\",\"y\":[470,520,630,830,1150,1530,2040,3080,5100,10100],\"yaxis\":\"y\",\"type\":\"scatter\"},{\"name\":\"Regression\",\"x\":[18.0,18.1,18.200000000000003,18.300000000000004,18.400000000000006,18.500000000000007,18.60000000000001,18.70000000000001,18.80000000000001,18.900000000000013,19.000000000000014,19.100000000000016,19.200000000000017,19.30000000000002,19.40000000000002,19.50000000000002,19.600000000000023,19.700000000000024,19.800000000000026,19.900000000000027,20.00000000000003,20.10000000000003,20.20000000000003,20.300000000000033,20.400000000000034,20.500000000000036,20.600000000000037,20.70000000000004,20.80000000000004,20.90000000000004,21.000000000000043,21.100000000000044,21.200000000000045,21.300000000000047,21.40000000000005,21.50000000000005,21.60000000000005,21.700000000000053,21.800000000000054,21.900000000000055,22.000000000000057,22.10000000000006,22.20000000000006,22.30000000000006,22.400000000000063,22.500000000000064,22.600000000000065,22.700000000000067,22.800000000000068,22.90000000000007,23.00000000000007,23.100000000000072,23.200000000000074,23.300000000000075,23.400000000000077,23.500000000000078,23.60000000000008,23.70000000000008,23.800000000000082,23.900000000000084,24.000000000000085,24.100000000000087,24.200000000000088,24.30000000000009,24.40000000000009,24.500000000000092,24.600000000000094,24.700000000000095,24.800000000000097,24.900000000000098,25.0000000000001,25.1000000000001,25.200000000000102,25.300000000000104,25.400000000000105,25.500000000000107,25.600000000000108,25.70000000000011,25.80000000000011,25.900000000000112,26.000000000000114,26.100000000000115,26.200000000000117,26.300000000000118,26.40000000000012,26.50000000000012,26.600000000000122,26.700000000000124,26.800000000000125,26.900000000000126,27.000000000000128,27.10000000000013,27.20000000000013,27.300000000000132,27.400000000000134,27.500000000000135,27.600000000000136,27.700000000000138,27.80000000000014,27.90000000000014,28.000000000000142,28.100000000000144,28.200000000000145,28.300000000000146,28.400000000000148,28.50000000000015,28.60000000000015,28.700000000000152,28.800000000000153,28.900000000000155,29.000000000000156,29.100000000000158,29.20000000000016,29.30000000000016,29.400000000000162,29.500000000000163,29.600000000000165,29.700000000000166,29.800000000000168,29.90000000000017,30.00000000000017,30.100000000000172,30.200000000000173,30.300000000000175,30.400000000000176,30.500000000000178,30.60000000000018,30.70000000000018,30.800000000000182,30.900000000000183,31.000000000000185,31.100000000000186,31.200000000000188,31.30000000000019,31.40000000000019,31.500000000000192,31.600000000000193,31.700000000000195,31.800000000000196,31.900000000000198,32.0000000000002,32.1000000000002,32.2000000000002,32.3000000000002,32.400000000000205,32.500000000000206,32.60000000000021,32.70000000000021,32.80000000000021,32.90000000000021,33.00000000000021,33.100000000000215,33.200000000000216,33.30000000000022,33.40000000000022,33.50000000000022,33.60000000000022,33.70000000000022,33.800000000000225,33.900000000000226,34.00000000000023,34.10000000000023,34.20000000000023,34.30000000000023,34.40000000000023,34.500000000000234,34.600000000000236,34.70000000000024,34.80000000000024,34.90000000000024,35.00000000000024,35.10000000000024,35.200000000000244,35.300000000000246,35.40000000000025,35.50000000000025,35.60000000000025,35.70000000000025,35.80000000000025,35.900000000000254,36.000000000000256,36.10000000000026,36.20000000000026,36.30000000000026,36.40000000000026,36.50000000000026,36.600000000000264,36.700000000000266,36.80000000000027,36.90000000000027,37.00000000000027,37.10000000000027,37.20000000000027,37.300000000000274,37.400000000000276,37.50000000000028,37.60000000000028,37.70000000000028,37.80000000000028,37.90000000000028,38.000000000000284,38.100000000000286,38.20000000000029,38.30000000000029,38.40000000000029,38.50000000000029,38.60000000000029,38.700000000000294,38.800000000000296,38.9000000000003,39.0000000000003,39.1000000000003,39.2000000000003,39.3000000000003,39.400000000000304,39.500000000000306,39.60000000000031,39.70000000000031,39.80000000000031,39.90000000000031,40.00000000000031,40.100000000000314,40.200000000000315,40.30000000000032,40.40000000000032,40.50000000000032,40.60000000000032,40.70000000000032,40.800000000000324,40.900000000000325,41.00000000000033,41.10000000000033,41.20000000000033,41.30000000000033,41.40000000000033,41.500000000000334,41.600000000000335,41.70000000000034,41.80000000000034,41.90000000000034,42.00000000000034,42.10000000000034,42.200000000000344,42.300000000000345,42.40000000000035,42.50000000000035,42.60000000000035,42.70000000000035,42.80000000000035,42.900000000000354,43.000000000000355,43.10000000000036,43.20000000000036,43.30000000000036,43.40000000000036,43.50000000000036,43.600000000000364,43.700000000000365,43.80000000000037,43.90000000000037,44.00000000000037,44.10000000000037,44.20000000000037,44.300000000000374,44.400000000000375,44.50000000000038,44.60000000000038,44.70000000000038,44.80000000000038,44.90000000000038,45.000000000000384,45.100000000000385,45.20000000000039,45.30000000000039,45.40000000000039,45.50000000000039,45.60000000000039,45.700000000000394,45.800000000000395,45.9000000000004,46.0000000000004,46.1000000000004,46.2000000000004,46.3000000000004,46.400000000000404,46.500000000000405,46.600000000000406,46.70000000000041,46.80000000000041,46.90000000000041,47.00000000000041,47.10000000000041,47.200000000000415,47.300000000000416,47.40000000000042,47.50000000000042,47.60000000000042,47.70000000000042,47.80000000000042,47.900000000000425,48.000000000000426,48.10000000000043,48.20000000000043,48.30000000000043,48.40000000000043,48.50000000000043,48.600000000000435,48.700000000000436,48.80000000000044,48.90000000000044,49.00000000000044,49.10000000000044,49.20000000000044,49.300000000000445,49.400000000000446,49.50000000000045,49.60000000000045,49.70000000000045,49.80000000000045,49.90000000000045,50.000000000000455,50.100000000000456,50.20000000000046,50.30000000000046,50.40000000000046,50.50000000000046,50.60000000000046,50.700000000000465,50.800000000000466,50.90000000000047,51.00000000000047,51.10000000000047,51.20000000000047,51.30000000000047,51.400000000000475,51.500000000000476,51.60000000000048,51.70000000000048,51.80000000000048,51.90000000000048,52.00000000000048,52.100000000000485,52.200000000000486,52.30000000000049,52.40000000000049,52.50000000000049,52.60000000000049,52.70000000000049,52.800000000000495,52.900000000000496,53.0000000000005,53.1000000000005,53.2000000000005,53.3000000000005,53.4000000000005,53.500000000000504,53.600000000000506,53.70000000000051,53.80000000000051,53.90000000000051,54.00000000000051,54.10000000000051,54.200000000000514,54.300000000000516,54.40000000000052,54.50000000000052,54.60000000000052,54.70000000000052,54.80000000000052,54.900000000000524,55.000000000000526,55.10000000000053,55.20000000000053,55.30000000000053,55.40000000000053,55.50000000000053,55.600000000000534,55.700000000000536,55.80000000000054,55.90000000000054,56.00000000000054,56.10000000000054,56.20000000000054,56.300000000000544,56.400000000000546,56.50000000000055,56.60000000000055,56.70000000000055,56.80000000000055,56.90000000000055,57.000000000000554,57.100000000000556,57.20000000000056,57.30000000000056,57.40000000000056,57.50000000000056,57.60000000000056,57.700000000000564,57.800000000000566,57.90000000000057,58.00000000000057,58.10000000000057,58.20000000000057,58.30000000000057,58.400000000000574,58.500000000000576,58.60000000000058,58.70000000000058,58.80000000000058,58.90000000000058,59.00000000000058,59.100000000000584,59.200000000000585,59.30000000000059,59.40000000000059,59.50000000000059,59.60000000000059,59.70000000000059,59.800000000000594,59.900000000000595,60.0000000000006,60.1000000000006,60.2000000000006,60.3000000000006,60.4000000000006,60.500000000000604,60.600000000000605,60.70000000000061,60.80000000000061,60.90000000000061,61.00000000000061,61.10000000000061,61.200000000000614,61.300000000000615,61.40000000000062,61.50000000000062,61.60000000000062,61.70000000000062,61.80000000000062,61.900000000000624,62.000000000000625,62.10000000000063,62.20000000000063,62.30000000000063,62.40000000000063,62.50000000000063,62.600000000000634,62.700000000000635,62.80000000000064,62.90000000000064],\"y\":[501.8,501.8,501.8,501.8,501.8,501.8,501.8,501.8,501.8,501.8,501.8,501.8,501.8,501.8,501.8,501.8,501.8,501.8,501.8,501.8,501.8,501.8,501.8,501.8,501.8,501.8,524.3,524.3,524.3,524.3,524.3,524.3,524.3,524.3,524.3,524.3,524.3,524.3,524.3,524.3,524.3,524.3,524.3,524.3,524.3,524.3,524.3,524.3,524.3,524.3,524.3,553.1,553.1,553.1,553.1,553.1,553.1,553.1,553.1,553.1,553.1,553.1,553.1,553.1,553.1,553.1,553.1,553.1,553.1,553.1,553.1,553.1,553.1,553.1,553.1,553.1,622.8,622.8,622.8,622.8,622.8,622.8,622.8,622.8,622.8,622.8,622.8,622.8,622.8,622.8,622.8,622.8,622.8,622.8,622.8,622.8,622.8,622.8,622.8,622.8,622.8,679.8,679.8,679.8,679.8,679.8,679.8,679.8,679.8,679.8,679.8,679.8,679.8,679.8,679.8,679.8,679.8,679.8,679.8,679.8,679.8,679.8,679.8,679.8,679.8,679.8,809.3,809.3,809.3,809.3,809.3,809.3,809.3,809.3,809.3,809.3,809.3,809.3,809.3,809.3,809.3,809.3,809.3,809.3,809.3,809.3,809.3,809.3,809.3,809.3,809.3,882.1,882.1,882.1,882.1,882.1,882.1,882.1,882.1,882.1,882.1,882.1,882.1,882.1,882.1,882.1,882.1,882.1,882.1,882.1,882.1,882.1,882.1,882.1,882.1,882.1,1049.3,1049.3,1049.3,1049.3,1049.3,1049.3,1049.3,1049.3,1049.3,1049.3,1049.3,1049.3,1049.3,1049.3,1049.3,1049.3,1049.3,1049.3,1049.3,1049.3,1049.3,1049.3,1049.3,1049.3,1049.3,1285.1,1285.1,1285.1,1285.1,1285.1,1285.1,1285.1,1285.1,1285.1,1285.1,1285.1,1285.1,1285.1,1285.1,1285.1,1285.1,1285.1,1285.1,1285.1,1285.1,1285.1,1285.1,1285.1,1285.1,1285.1,1481.7,1481.7,1481.7,1481.7,1481.7,1481.7,1481.7,1481.7,1481.7,1481.7,1481.7,1481.7,1481.7,1481.7,1481.7,1481.7,1481.7,1481.7,1481.7,1481.7,1481.7,1481.7,1481.7,1481.7,1481.7,1637.7,1637.7,1637.7,1637.7,1637.7,1637.7,1637.7,1637.7,1637.7,1637.7,1637.7,1637.7,1637.7,1637.7,1637.7,1637.7,1637.7,1637.7,1637.7,1637.7,1637.7,1637.7,1637.7,1637.7,1637.7,1929.1,1929.1,1929.1,1929.1,1929.1,1929.1,1929.1,1929.1,1929.1,1929.1,1929.1,1929.1,1929.1,1929.1,1929.1,1929.1,1929.1,1929.1,1929.1,1929.1,1929.1,1929.1,1929.1,1929.1,1929.1,2428.1,2428.1,2428.1,2428.1,2428.1,2428.1,2428.1,2428.1,2428.1,2428.1,2428.1,2428.1,2428.1,2428.1,2428.1,2428.1,2428.1,2428.1,2428.1,2428.1,2428.1,2428.1,2428.1,2428.1,2428.1,2899.2,2899.2,2899.2,2899.2,2899.2,2899.2,2899.2,2899.2,2899.2,2899.2,2899.2,2899.2,2899.2,2899.2,2899.2,2899.2,2899.2,2899.2,2899.2,2899.2,2899.2,2899.2,2899.2,2899.2,2899.2,3474.5,3474.5,3474.5,3474.5,3474.5,3474.5,3474.5,3474.5,3474.5,3474.5,3474.5,3474.5,3474.5,3474.5,3474.5,3474.5,3474.5,3474.5,3474.5,3474.5,3474.5,3474.5,3474.5,3474.5,3474.5,4866.9,4866.9,4866.9,4866.9,4866.9,4866.9,4866.9,4866.9,4866.9,4866.9,4866.9,4866.9,4866.9,4866.9,4866.9,4866.9,4866.9,4866.9,4866.9,4866.9,4866.9,4866.9,4866.9,4866.9,4866.9,5919.9,5919.9,5919.9,5919.9,5919.9,5919.9,5919.9,5919.9,5919.9,5919.9,5919.9,5919.9,5919.9,5919.9,5919.9,5919.9,5919.9,5919.9,5919.9,5919.9,5919.9,5919.9,5919.9,5919.9,5919.9,7719.9,7719.9,7719.9,7719.9,7719.9,7719.9,7719.9,7719.9,7719.9,7719.9,7719.9,7719.9,7719.9,7719.9,7719.9,7719.9,7719.9,7719.9,7719.9,7719.9,7719.9,7719.9,7719.9,7719.9],\"type\":\"scatter\"}],                        {\"template\":{\"data\":{\"histogram2dcontour\":[{\"type\":\"histogram2dcontour\",\"colorbar\":{\"outlinewidth\":0,\"ticks\":\"\"},\"colorscale\":[[0.0,\"#0d0887\"],[0.1111111111111111,\"#46039f\"],[0.2222222222222222,\"#7201a8\"],[0.3333333333333333,\"#9c179e\"],[0.4444444444444444,\"#bd3786\"],[0.5555555555555556,\"#d8576b\"],[0.6666666666666666,\"#ed7953\"],[0.7777777777777778,\"#fb9f3a\"],[0.8888888888888888,\"#fdca26\"],[1.0,\"#f0f921\"]]}],\"choropleth\":[{\"type\":\"choropleth\",\"colorbar\":{\"outlinewidth\":0,\"ticks\":\"\"}}],\"histogram2d\":[{\"type\":\"histogram2d\",\"colorbar\":{\"outlinewidth\":0,\"ticks\":\"\"},\"colorscale\":[[0.0,\"#0d0887\"],[0.1111111111111111,\"#46039f\"],[0.2222222222222222,\"#7201a8\"],[0.3333333333333333,\"#9c179e\"],[0.4444444444444444,\"#bd3786\"],[0.5555555555555556,\"#d8576b\"],[0.6666666666666666,\"#ed7953\"],[0.7777777777777778,\"#fb9f3a\"],[0.8888888888888888,\"#fdca26\"],[1.0,\"#f0f921\"]]}],\"heatmap\":[{\"type\":\"heatmap\",\"colorbar\":{\"outlinewidth\":0,\"ticks\":\"\"},\"colorscale\":[[0.0,\"#0d0887\"],[0.1111111111111111,\"#46039f\"],[0.2222222222222222,\"#7201a8\"],[0.3333333333333333,\"#9c179e\"],[0.4444444444444444,\"#bd3786\"],[0.5555555555555556,\"#d8576b\"],[0.6666666666666666,\"#ed7953\"],[0.7777777777777778,\"#fb9f3a\"],[0.8888888888888888,\"#fdca26\"],[1.0,\"#f0f921\"]]}],\"heatmapgl\":[{\"type\":\"heatmapgl\",\"colorbar\":{\"outlinewidth\":0,\"ticks\":\"\"},\"colorscale\":[[0.0,\"#0d0887\"],[0.1111111111111111,\"#46039f\"],[0.2222222222222222,\"#7201a8\"],[0.3333333333333333,\"#9c179e\"],[0.4444444444444444,\"#bd3786\"],[0.5555555555555556,\"#d8576b\"],[0.6666666666666666,\"#ed7953\"],[0.7777777777777778,\"#fb9f3a\"],[0.8888888888888888,\"#fdca26\"],[1.0,\"#f0f921\"]]}],\"contourcarpet\":[{\"type\":\"contourcarpet\",\"colorbar\":{\"outlinewidth\":0,\"ticks\":\"\"}}],\"contour\":[{\"type\":\"contour\",\"colorbar\":{\"outlinewidth\":0,\"ticks\":\"\"},\"colorscale\":[[0.0,\"#0d0887\"],[0.1111111111111111,\"#46039f\"],[0.2222222222222222,\"#7201a8\"],[0.3333333333333333,\"#9c179e\"],[0.4444444444444444,\"#bd3786\"],[0.5555555555555556,\"#d8576b\"],[0.6666666666666666,\"#ed7953\"],[0.7777777777777778,\"#fb9f3a\"],[0.8888888888888888,\"#fdca26\"],[1.0,\"#f0f921\"]]}],\"surface\":[{\"type\":\"surface\",\"colorbar\":{\"outlinewidth\":0,\"ticks\":\"\"},\"colorscale\":[[0.0,\"#0d0887\"],[0.1111111111111111,\"#46039f\"],[0.2222222222222222,\"#7201a8\"],[0.3333333333333333,\"#9c179e\"],[0.4444444444444444,\"#bd3786\"],[0.5555555555555556,\"#d8576b\"],[0.6666666666666666,\"#ed7953\"],[0.7777777777777778,\"#fb9f3a\"],[0.8888888888888888,\"#fdca26\"],[1.0,\"#f0f921\"]]}],\"mesh3d\":[{\"type\":\"mesh3d\",\"colorbar\":{\"outlinewidth\":0,\"ticks\":\"\"}}],\"scatter\":[{\"fillpattern\":{\"fillmode\":\"overlay\",\"size\":10,\"solidity\":0.2},\"type\":\"scatter\"}],\"parcoords\":[{\"type\":\"parcoords\",\"line\":{\"colorbar\":{\"outlinewidth\":0,\"ticks\":\"\"}}}],\"scatterpolargl\":[{\"type\":\"scatterpolargl\",\"marker\":{\"colorbar\":{\"outlinewidth\":0,\"ticks\":\"\"}}}],\"bar\":[{\"error_x\":{\"color\":\"#2a3f5f\"},\"error_y\":{\"color\":\"#2a3f5f\"},\"marker\":{\"line\":{\"color\":\"#E5ECF6\",\"width\":0.5},\"pattern\":{\"fillmode\":\"overlay\",\"size\":10,\"solidity\":0.2}},\"type\":\"bar\"}],\"scattergeo\":[{\"type\":\"scattergeo\",\"marker\":{\"colorbar\":{\"outlinewidth\":0,\"ticks\":\"\"}}}],\"scatterpolar\":[{\"type\":\"scatterpolar\",\"marker\":{\"colorbar\":{\"outlinewidth\":0,\"ticks\":\"\"}}}],\"histogram\":[{\"marker\":{\"pattern\":{\"fillmode\":\"overlay\",\"size\":10,\"solidity\":0.2}},\"type\":\"histogram\"}],\"scattergl\":[{\"type\":\"scattergl\",\"marker\":{\"colorbar\":{\"outlinewidth\":0,\"ticks\":\"\"}}}],\"scatter3d\":[{\"type\":\"scatter3d\",\"line\":{\"colorbar\":{\"outlinewidth\":0,\"ticks\":\"\"}},\"marker\":{\"colorbar\":{\"outlinewidth\":0,\"ticks\":\"\"}}}],\"scattermapbox\":[{\"type\":\"scattermapbox\",\"marker\":{\"colorbar\":{\"outlinewidth\":0,\"ticks\":\"\"}}}],\"scatterternary\":[{\"type\":\"scatterternary\",\"marker\":{\"colorbar\":{\"outlinewidth\":0,\"ticks\":\"\"}}}],\"scattercarpet\":[{\"type\":\"scattercarpet\",\"marker\":{\"colorbar\":{\"outlinewidth\":0,\"ticks\":\"\"}}}],\"carpet\":[{\"aaxis\":{\"endlinecolor\":\"#2a3f5f\",\"gridcolor\":\"white\",\"linecolor\":\"white\",\"minorgridcolor\":\"white\",\"startlinecolor\":\"#2a3f5f\"},\"baxis\":{\"endlinecolor\":\"#2a3f5f\",\"gridcolor\":\"white\",\"linecolor\":\"white\",\"minorgridcolor\":\"white\",\"startlinecolor\":\"#2a3f5f\"},\"type\":\"carpet\"}],\"table\":[{\"cells\":{\"fill\":{\"color\":\"#EBF0F8\"},\"line\":{\"color\":\"white\"}},\"header\":{\"fill\":{\"color\":\"#C8D4E3\"},\"line\":{\"color\":\"white\"}},\"type\":\"table\"}],\"barpolar\":[{\"marker\":{\"line\":{\"color\":\"#E5ECF6\",\"width\":0.5},\"pattern\":{\"fillmode\":\"overlay\",\"size\":10,\"solidity\":0.2}},\"type\":\"barpolar\"}],\"pie\":[{\"automargin\":true,\"type\":\"pie\"}]},\"layout\":{\"autotypenumbers\":\"strict\",\"colorway\":[\"#636efa\",\"#EF553B\",\"#00cc96\",\"#ab63fa\",\"#FFA15A\",\"#19d3f3\",\"#FF6692\",\"#B6E880\",\"#FF97FF\",\"#FECB52\"],\"font\":{\"color\":\"#2a3f5f\"},\"hovermode\":\"closest\",\"hoverlabel\":{\"align\":\"left\"},\"paper_bgcolor\":\"white\",\"plot_bgcolor\":\"#E5ECF6\",\"polar\":{\"bgcolor\":\"#E5ECF6\",\"angularaxis\":{\"gridcolor\":\"white\",\"linecolor\":\"white\",\"ticks\":\"\"},\"radialaxis\":{\"gridcolor\":\"white\",\"linecolor\":\"white\",\"ticks\":\"\"}},\"ternary\":{\"bgcolor\":\"#E5ECF6\",\"aaxis\":{\"gridcolor\":\"white\",\"linecolor\":\"white\",\"ticks\":\"\"},\"baxis\":{\"gridcolor\":\"white\",\"linecolor\":\"white\",\"ticks\":\"\"},\"caxis\":{\"gridcolor\":\"white\",\"linecolor\":\"white\",\"ticks\":\"\"}},\"coloraxis\":{\"colorbar\":{\"outlinewidth\":0,\"ticks\":\"\"}},\"colorscale\":{\"sequential\":[[0.0,\"#0d0887\"],[0.1111111111111111,\"#46039f\"],[0.2222222222222222,\"#7201a8\"],[0.3333333333333333,\"#9c179e\"],[0.4444444444444444,\"#bd3786\"],[0.5555555555555556,\"#d8576b\"],[0.6666666666666666,\"#ed7953\"],[0.7777777777777778,\"#fb9f3a\"],[0.8888888888888888,\"#fdca26\"],[1.0,\"#f0f921\"]],\"sequentialminus\":[[0.0,\"#0d0887\"],[0.1111111111111111,\"#46039f\"],[0.2222222222222222,\"#7201a8\"],[0.3333333333333333,\"#9c179e\"],[0.4444444444444444,\"#bd3786\"],[0.5555555555555556,\"#d8576b\"],[0.6666666666666666,\"#ed7953\"],[0.7777777777777778,\"#fb9f3a\"],[0.8888888888888888,\"#fdca26\"],[1.0,\"#f0f921\"]],\"diverging\":[[0,\"#8e0152\"],[0.1,\"#c51b7d\"],[0.2,\"#de77ae\"],[0.3,\"#f1b6da\"],[0.4,\"#fde0ef\"],[0.5,\"#f7f7f7\"],[0.6,\"#e6f5d0\"],[0.7,\"#b8e186\"],[0.8,\"#7fbc41\"],[0.9,\"#4d9221\"],[1,\"#276419\"]]},\"xaxis\":{\"gridcolor\":\"white\",\"linecolor\":\"white\",\"ticks\":\"\",\"title\":{\"standoff\":15},\"zerolinecolor\":\"white\",\"automargin\":true,\"zerolinewidth\":2},\"yaxis\":{\"gridcolor\":\"white\",\"linecolor\":\"white\",\"ticks\":\"\",\"title\":{\"standoff\":15},\"zerolinecolor\":\"white\",\"automargin\":true,\"zerolinewidth\":2},\"scene\":{\"xaxis\":{\"backgroundcolor\":\"#E5ECF6\",\"gridcolor\":\"white\",\"linecolor\":\"white\",\"showbackground\":true,\"ticks\":\"\",\"zerolinecolor\":\"white\",\"gridwidth\":2},\"yaxis\":{\"backgroundcolor\":\"#E5ECF6\",\"gridcolor\":\"white\",\"linecolor\":\"white\",\"showbackground\":true,\"ticks\":\"\",\"zerolinecolor\":\"white\",\"gridwidth\":2},\"zaxis\":{\"backgroundcolor\":\"#E5ECF6\",\"gridcolor\":\"white\",\"linecolor\":\"white\",\"showbackground\":true,\"ticks\":\"\",\"zerolinecolor\":\"white\",\"gridwidth\":2}},\"shapedefaults\":{\"line\":{\"color\":\"#2a3f5f\"}},\"annotationdefaults\":{\"arrowcolor\":\"#2a3f5f\",\"arrowhead\":0,\"arrowwidth\":1},\"geo\":{\"bgcolor\":\"white\",\"landcolor\":\"#E5ECF6\",\"subunitcolor\":\"white\",\"showland\":true,\"showlakes\":true,\"lakecolor\":\"white\"},\"title\":{\"x\":0.05},\"mapbox\":{\"style\":\"light\"}}},\"xaxis\":{\"anchor\":\"y\",\"domain\":[0.0,1.0],\"title\":{\"text\":\"x\"}},\"yaxis\":{\"anchor\":\"x\",\"domain\":[0.0,1.0],\"title\":{\"text\":\"y\"}},\"legend\":{\"tracegroupgap\":0},\"margin\":{\"t\":60},\"height\":500,\"width\":800},                        {\"responsive\": true}                    ).then(function(){\n",
       "                            \n",
       "var gd = document.getElementById('7c6469b0-7838-4618-87fe-cc9c7f5e4f55');\n",
       "var x = new MutationObserver(function (mutations, observer) {{\n",
       "        var display = window.getComputedStyle(gd).display;\n",
       "        if (!display || display === 'none') {{\n",
       "            console.log([gd, 'removed!']);\n",
       "            Plotly.purge(gd);\n",
       "            observer.disconnect();\n",
       "        }}\n",
       "}});\n",
       "\n",
       "// Listen for the removal of the full notebook cells\n",
       "var notebookContainer = gd.closest('#notebook-container');\n",
       "if (notebookContainer) {{\n",
       "    x.observe(notebookContainer, {childList: true});\n",
       "}}\n",
       "\n",
       "// Listen for the clearing of the current output cell\n",
       "var outputEl = gd.closest('.output');\n",
       "if (outputEl) {{\n",
       "    x.observe(outputEl, {childList: true});\n",
       "}}\n",
       "\n",
       "                        })                };                });            </script>        </div>"
      ]
     },
     "metadata": {},
     "output_type": "display_data"
    }
   ],
   "source": [
    "g = px.scatter(x = X.ravel(), y = y, width=800, height=500)\n",
    "g.add_scatter(x = X_test_tree.ravel(), y = regressor_forest.predict(X_test_tree), name = \"Regression\")\n",
    "g.show()"
   ]
  },
  {
   "cell_type": "code",
   "execution_count": 37,
   "id": "cb224f36-4a17-48c6-bf82-10a15665f462",
   "metadata": {},
   "outputs": [
    {
     "data": {
      "text/plain": [
       "array([1285.1])"
      ]
     },
     "execution_count": 37,
     "metadata": {},
     "output_type": "execute_result"
    }
   ],
   "source": [
    "regressor_forest.predict([[40]])"
   ]
  },
  {
   "cell_type": "code",
   "execution_count": null,
   "id": "d368ff77-d582-478a-9d09-bc46601b37cd",
   "metadata": {},
   "outputs": [],
   "source": []
  }
 ],
 "metadata": {
  "kernelspec": {
   "display_name": "Python 3 (ipykernel)",
   "language": "python",
   "name": "python3"
  },
  "language_info": {
   "codemirror_mode": {
    "name": "ipython",
    "version": 3
   },
   "file_extension": ".py",
   "mimetype": "text/x-python",
   "name": "python",
   "nbconvert_exporter": "python",
   "pygments_lexer": "ipython3",
   "version": "3.11.11"
  }
 },
 "nbformat": 4,
 "nbformat_minor": 5
}
