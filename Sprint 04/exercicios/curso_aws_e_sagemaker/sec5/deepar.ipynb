{
 "cells": [
  {
   "cell_type": "code",
   "execution_count": 46,
   "id": "610006c5-62de-405e-92e8-3848ff2bca48",
   "metadata": {},
   "outputs": [],
   "source": [
    "import pandas as pd\n",
    "import matplotlib.pyplot as plt\n",
    "%matplotlib inline\n",
    "import json\n",
    "import os\n",
    "import numpy as np\n",
    "import datetime"
   ]
  },
  {
   "cell_type": "markdown",
   "id": "41cb4080-88fa-4c08-9a26-9d57b8627954",
   "metadata": {},
   "source": [
    "### Preparaçao dos dados"
   ]
  },
  {
   "cell_type": "code",
   "execution_count": 2,
   "id": "cbee5a57-9cd6-4296-914e-6b301d7ab7a4",
   "metadata": {},
   "outputs": [],
   "source": [
    "df = pd.read_csv('./data/train.csv')"
   ]
  },
  {
   "cell_type": "code",
   "execution_count": 3,
   "id": "168bfad6-bfac-45af-9bc9-201f1975f8a4",
   "metadata": {},
   "outputs": [
    {
     "data": {
      "text/html": [
       "<div>\n",
       "<style scoped>\n",
       "    .dataframe tbody tr th:only-of-type {\n",
       "        vertical-align: middle;\n",
       "    }\n",
       "\n",
       "    .dataframe tbody tr th {\n",
       "        vertical-align: top;\n",
       "    }\n",
       "\n",
       "    .dataframe thead th {\n",
       "        text-align: right;\n",
       "    }\n",
       "</style>\n",
       "<table border=\"1\" class=\"dataframe\">\n",
       "  <thead>\n",
       "    <tr style=\"text-align: right;\">\n",
       "      <th></th>\n",
       "      <th>datetime</th>\n",
       "      <th>season</th>\n",
       "      <th>holiday</th>\n",
       "      <th>workingday</th>\n",
       "      <th>weather</th>\n",
       "      <th>temp</th>\n",
       "      <th>atemp</th>\n",
       "      <th>humidity</th>\n",
       "      <th>windspeed</th>\n",
       "      <th>casual</th>\n",
       "      <th>registered</th>\n",
       "      <th>count</th>\n",
       "    </tr>\n",
       "  </thead>\n",
       "  <tbody>\n",
       "    <tr>\n",
       "      <th>0</th>\n",
       "      <td>2011-01-01 00:00:00</td>\n",
       "      <td>1</td>\n",
       "      <td>0</td>\n",
       "      <td>0</td>\n",
       "      <td>1</td>\n",
       "      <td>9.84</td>\n",
       "      <td>14.395</td>\n",
       "      <td>81</td>\n",
       "      <td>0.0</td>\n",
       "      <td>3</td>\n",
       "      <td>13</td>\n",
       "      <td>16</td>\n",
       "    </tr>\n",
       "    <tr>\n",
       "      <th>1</th>\n",
       "      <td>2011-01-01 01:00:00</td>\n",
       "      <td>1</td>\n",
       "      <td>0</td>\n",
       "      <td>0</td>\n",
       "      <td>1</td>\n",
       "      <td>9.02</td>\n",
       "      <td>13.635</td>\n",
       "      <td>80</td>\n",
       "      <td>0.0</td>\n",
       "      <td>8</td>\n",
       "      <td>32</td>\n",
       "      <td>40</td>\n",
       "    </tr>\n",
       "    <tr>\n",
       "      <th>2</th>\n",
       "      <td>2011-01-01 02:00:00</td>\n",
       "      <td>1</td>\n",
       "      <td>0</td>\n",
       "      <td>0</td>\n",
       "      <td>1</td>\n",
       "      <td>9.02</td>\n",
       "      <td>13.635</td>\n",
       "      <td>80</td>\n",
       "      <td>0.0</td>\n",
       "      <td>5</td>\n",
       "      <td>27</td>\n",
       "      <td>32</td>\n",
       "    </tr>\n",
       "    <tr>\n",
       "      <th>3</th>\n",
       "      <td>2011-01-01 03:00:00</td>\n",
       "      <td>1</td>\n",
       "      <td>0</td>\n",
       "      <td>0</td>\n",
       "      <td>1</td>\n",
       "      <td>9.84</td>\n",
       "      <td>14.395</td>\n",
       "      <td>75</td>\n",
       "      <td>0.0</td>\n",
       "      <td>3</td>\n",
       "      <td>10</td>\n",
       "      <td>13</td>\n",
       "    </tr>\n",
       "    <tr>\n",
       "      <th>4</th>\n",
       "      <td>2011-01-01 04:00:00</td>\n",
       "      <td>1</td>\n",
       "      <td>0</td>\n",
       "      <td>0</td>\n",
       "      <td>1</td>\n",
       "      <td>9.84</td>\n",
       "      <td>14.395</td>\n",
       "      <td>75</td>\n",
       "      <td>0.0</td>\n",
       "      <td>0</td>\n",
       "      <td>1</td>\n",
       "      <td>1</td>\n",
       "    </tr>\n",
       "  </tbody>\n",
       "</table>\n",
       "</div>"
      ],
      "text/plain": [
       "              datetime  season  holiday  workingday  weather  temp   atemp  \\\n",
       "0  2011-01-01 00:00:00       1        0           0        1  9.84  14.395   \n",
       "1  2011-01-01 01:00:00       1        0           0        1  9.02  13.635   \n",
       "2  2011-01-01 02:00:00       1        0           0        1  9.02  13.635   \n",
       "3  2011-01-01 03:00:00       1        0           0        1  9.84  14.395   \n",
       "4  2011-01-01 04:00:00       1        0           0        1  9.84  14.395   \n",
       "\n",
       "   humidity  windspeed  casual  registered  count  \n",
       "0        81        0.0       3          13     16  \n",
       "1        80        0.0       8          32     40  \n",
       "2        80        0.0       5          27     32  \n",
       "3        75        0.0       3          10     13  \n",
       "4        75        0.0       0           1      1  "
      ]
     },
     "execution_count": 3,
     "metadata": {},
     "output_type": "execute_result"
    }
   ],
   "source": [
    "df.head()"
   ]
  },
  {
   "cell_type": "code",
   "execution_count": 4,
   "id": "c42fa726-efb1-4ce7-9ea5-03ca402db6b3",
   "metadata": {},
   "outputs": [
    {
     "data": {
      "text/html": [
       "<div>\n",
       "<style scoped>\n",
       "    .dataframe tbody tr th:only-of-type {\n",
       "        vertical-align: middle;\n",
       "    }\n",
       "\n",
       "    .dataframe tbody tr th {\n",
       "        vertical-align: top;\n",
       "    }\n",
       "\n",
       "    .dataframe thead th {\n",
       "        text-align: right;\n",
       "    }\n",
       "</style>\n",
       "<table border=\"1\" class=\"dataframe\">\n",
       "  <thead>\n",
       "    <tr style=\"text-align: right;\">\n",
       "      <th></th>\n",
       "      <th>season</th>\n",
       "      <th>holiday</th>\n",
       "      <th>workingday</th>\n",
       "      <th>weather</th>\n",
       "      <th>temp</th>\n",
       "      <th>atemp</th>\n",
       "      <th>humidity</th>\n",
       "      <th>windspeed</th>\n",
       "      <th>casual</th>\n",
       "      <th>registered</th>\n",
       "      <th>count</th>\n",
       "    </tr>\n",
       "    <tr>\n",
       "      <th>datetime</th>\n",
       "      <th></th>\n",
       "      <th></th>\n",
       "      <th></th>\n",
       "      <th></th>\n",
       "      <th></th>\n",
       "      <th></th>\n",
       "      <th></th>\n",
       "      <th></th>\n",
       "      <th></th>\n",
       "      <th></th>\n",
       "      <th></th>\n",
       "    </tr>\n",
       "  </thead>\n",
       "  <tbody>\n",
       "    <tr>\n",
       "      <th>2011-01-01 00:00:00</th>\n",
       "      <td>1</td>\n",
       "      <td>0</td>\n",
       "      <td>0</td>\n",
       "      <td>1</td>\n",
       "      <td>9.84</td>\n",
       "      <td>14.395</td>\n",
       "      <td>81</td>\n",
       "      <td>0.0000</td>\n",
       "      <td>3</td>\n",
       "      <td>13</td>\n",
       "      <td>16</td>\n",
       "    </tr>\n",
       "    <tr>\n",
       "      <th>2011-01-01 01:00:00</th>\n",
       "      <td>1</td>\n",
       "      <td>0</td>\n",
       "      <td>0</td>\n",
       "      <td>1</td>\n",
       "      <td>9.02</td>\n",
       "      <td>13.635</td>\n",
       "      <td>80</td>\n",
       "      <td>0.0000</td>\n",
       "      <td>8</td>\n",
       "      <td>32</td>\n",
       "      <td>40</td>\n",
       "    </tr>\n",
       "    <tr>\n",
       "      <th>2011-01-01 02:00:00</th>\n",
       "      <td>1</td>\n",
       "      <td>0</td>\n",
       "      <td>0</td>\n",
       "      <td>1</td>\n",
       "      <td>9.02</td>\n",
       "      <td>13.635</td>\n",
       "      <td>80</td>\n",
       "      <td>0.0000</td>\n",
       "      <td>5</td>\n",
       "      <td>27</td>\n",
       "      <td>32</td>\n",
       "    </tr>\n",
       "    <tr>\n",
       "      <th>2011-01-01 03:00:00</th>\n",
       "      <td>1</td>\n",
       "      <td>0</td>\n",
       "      <td>0</td>\n",
       "      <td>1</td>\n",
       "      <td>9.84</td>\n",
       "      <td>14.395</td>\n",
       "      <td>75</td>\n",
       "      <td>0.0000</td>\n",
       "      <td>3</td>\n",
       "      <td>10</td>\n",
       "      <td>13</td>\n",
       "    </tr>\n",
       "    <tr>\n",
       "      <th>2011-01-01 04:00:00</th>\n",
       "      <td>1</td>\n",
       "      <td>0</td>\n",
       "      <td>0</td>\n",
       "      <td>1</td>\n",
       "      <td>9.84</td>\n",
       "      <td>14.395</td>\n",
       "      <td>75</td>\n",
       "      <td>0.0000</td>\n",
       "      <td>0</td>\n",
       "      <td>1</td>\n",
       "      <td>1</td>\n",
       "    </tr>\n",
       "    <tr>\n",
       "      <th>...</th>\n",
       "      <td>...</td>\n",
       "      <td>...</td>\n",
       "      <td>...</td>\n",
       "      <td>...</td>\n",
       "      <td>...</td>\n",
       "      <td>...</td>\n",
       "      <td>...</td>\n",
       "      <td>...</td>\n",
       "      <td>...</td>\n",
       "      <td>...</td>\n",
       "      <td>...</td>\n",
       "    </tr>\n",
       "    <tr>\n",
       "      <th>2012-12-19 19:00:00</th>\n",
       "      <td>4</td>\n",
       "      <td>0</td>\n",
       "      <td>1</td>\n",
       "      <td>1</td>\n",
       "      <td>15.58</td>\n",
       "      <td>19.695</td>\n",
       "      <td>50</td>\n",
       "      <td>26.0027</td>\n",
       "      <td>7</td>\n",
       "      <td>329</td>\n",
       "      <td>336</td>\n",
       "    </tr>\n",
       "    <tr>\n",
       "      <th>2012-12-19 20:00:00</th>\n",
       "      <td>4</td>\n",
       "      <td>0</td>\n",
       "      <td>1</td>\n",
       "      <td>1</td>\n",
       "      <td>14.76</td>\n",
       "      <td>17.425</td>\n",
       "      <td>57</td>\n",
       "      <td>15.0013</td>\n",
       "      <td>10</td>\n",
       "      <td>231</td>\n",
       "      <td>241</td>\n",
       "    </tr>\n",
       "    <tr>\n",
       "      <th>2012-12-19 21:00:00</th>\n",
       "      <td>4</td>\n",
       "      <td>0</td>\n",
       "      <td>1</td>\n",
       "      <td>1</td>\n",
       "      <td>13.94</td>\n",
       "      <td>15.910</td>\n",
       "      <td>61</td>\n",
       "      <td>15.0013</td>\n",
       "      <td>4</td>\n",
       "      <td>164</td>\n",
       "      <td>168</td>\n",
       "    </tr>\n",
       "    <tr>\n",
       "      <th>2012-12-19 22:00:00</th>\n",
       "      <td>4</td>\n",
       "      <td>0</td>\n",
       "      <td>1</td>\n",
       "      <td>1</td>\n",
       "      <td>13.94</td>\n",
       "      <td>17.425</td>\n",
       "      <td>61</td>\n",
       "      <td>6.0032</td>\n",
       "      <td>12</td>\n",
       "      <td>117</td>\n",
       "      <td>129</td>\n",
       "    </tr>\n",
       "    <tr>\n",
       "      <th>2012-12-19 23:00:00</th>\n",
       "      <td>4</td>\n",
       "      <td>0</td>\n",
       "      <td>1</td>\n",
       "      <td>1</td>\n",
       "      <td>13.12</td>\n",
       "      <td>16.665</td>\n",
       "      <td>66</td>\n",
       "      <td>8.9981</td>\n",
       "      <td>4</td>\n",
       "      <td>84</td>\n",
       "      <td>88</td>\n",
       "    </tr>\n",
       "  </tbody>\n",
       "</table>\n",
       "<p>10886 rows × 11 columns</p>\n",
       "</div>"
      ],
      "text/plain": [
       "                     season  holiday  workingday  weather   temp   atemp  \\\n",
       "datetime                                                                   \n",
       "2011-01-01 00:00:00       1        0           0        1   9.84  14.395   \n",
       "2011-01-01 01:00:00       1        0           0        1   9.02  13.635   \n",
       "2011-01-01 02:00:00       1        0           0        1   9.02  13.635   \n",
       "2011-01-01 03:00:00       1        0           0        1   9.84  14.395   \n",
       "2011-01-01 04:00:00       1        0           0        1   9.84  14.395   \n",
       "...                     ...      ...         ...      ...    ...     ...   \n",
       "2012-12-19 19:00:00       4        0           1        1  15.58  19.695   \n",
       "2012-12-19 20:00:00       4        0           1        1  14.76  17.425   \n",
       "2012-12-19 21:00:00       4        0           1        1  13.94  15.910   \n",
       "2012-12-19 22:00:00       4        0           1        1  13.94  17.425   \n",
       "2012-12-19 23:00:00       4        0           1        1  13.12  16.665   \n",
       "\n",
       "                     humidity  windspeed  casual  registered  count  \n",
       "datetime                                                             \n",
       "2011-01-01 00:00:00        81     0.0000       3          13     16  \n",
       "2011-01-01 01:00:00        80     0.0000       8          32     40  \n",
       "2011-01-01 02:00:00        80     0.0000       5          27     32  \n",
       "2011-01-01 03:00:00        75     0.0000       3          10     13  \n",
       "2011-01-01 04:00:00        75     0.0000       0           1      1  \n",
       "...                       ...        ...     ...         ...    ...  \n",
       "2012-12-19 19:00:00        50    26.0027       7         329    336  \n",
       "2012-12-19 20:00:00        57    15.0013      10         231    241  \n",
       "2012-12-19 21:00:00        61    15.0013       4         164    168  \n",
       "2012-12-19 22:00:00        61     6.0032      12         117    129  \n",
       "2012-12-19 23:00:00        66     8.9981       4          84     88  \n",
       "\n",
       "[10886 rows x 11 columns]"
      ]
     },
     "execution_count": 4,
     "metadata": {},
     "output_type": "execute_result"
    }
   ],
   "source": [
    "#para trabalhar com datetime, os índices precisam ser as próprias datas\n",
    "df = pd.read_csv('./data/train.csv', parse_dates=['datetime'], index_col=0)\n",
    "df"
   ]
  },
  {
   "cell_type": "code",
   "execution_count": 5,
   "id": "665f62a4-b830-4140-b9e5-28f2f456b0e2",
   "metadata": {},
   "outputs": [
    {
     "data": {
      "text/html": [
       "<div>\n",
       "<style scoped>\n",
       "    .dataframe tbody tr th:only-of-type {\n",
       "        vertical-align: middle;\n",
       "    }\n",
       "\n",
       "    .dataframe tbody tr th {\n",
       "        vertical-align: top;\n",
       "    }\n",
       "\n",
       "    .dataframe thead th {\n",
       "        text-align: right;\n",
       "    }\n",
       "</style>\n",
       "<table border=\"1\" class=\"dataframe\">\n",
       "  <thead>\n",
       "    <tr style=\"text-align: right;\">\n",
       "      <th></th>\n",
       "      <th>count</th>\n",
       "    </tr>\n",
       "    <tr>\n",
       "      <th>datetime</th>\n",
       "      <th></th>\n",
       "    </tr>\n",
       "  </thead>\n",
       "  <tbody>\n",
       "    <tr>\n",
       "      <th>2011-01-01 00:00:00</th>\n",
       "      <td>16</td>\n",
       "    </tr>\n",
       "    <tr>\n",
       "      <th>2011-01-01 01:00:00</th>\n",
       "      <td>40</td>\n",
       "    </tr>\n",
       "    <tr>\n",
       "      <th>2011-01-01 02:00:00</th>\n",
       "      <td>32</td>\n",
       "    </tr>\n",
       "    <tr>\n",
       "      <th>2011-01-01 03:00:00</th>\n",
       "      <td>13</td>\n",
       "    </tr>\n",
       "    <tr>\n",
       "      <th>2011-01-01 04:00:00</th>\n",
       "      <td>1</td>\n",
       "    </tr>\n",
       "  </tbody>\n",
       "</table>\n",
       "</div>"
      ],
      "text/plain": [
       "                     count\n",
       "datetime                  \n",
       "2011-01-01 00:00:00     16\n",
       "2011-01-01 01:00:00     40\n",
       "2011-01-01 02:00:00     32\n",
       "2011-01-01 03:00:00     13\n",
       "2011-01-01 04:00:00      1"
      ]
     },
     "execution_count": 5,
     "metadata": {},
     "output_type": "execute_result"
    }
   ],
   "source": [
    "df.drop(columns=['season', 'holiday','workingday','weather','temp','atemp', 'humidity','windspeed','casual', 'registered'], axis=1, inplace = True)\n",
    "df.head()"
   ]
  },
  {
   "cell_type": "code",
   "execution_count": 6,
   "id": "2e41278d-5b12-4f8f-b7bb-e9ddb4ee6f7d",
   "metadata": {},
   "outputs": [
    {
     "data": {
      "text/html": [
       "<div>\n",
       "<style scoped>\n",
       "    .dataframe tbody tr th:only-of-type {\n",
       "        vertical-align: middle;\n",
       "    }\n",
       "\n",
       "    .dataframe tbody tr th {\n",
       "        vertical-align: top;\n",
       "    }\n",
       "\n",
       "    .dataframe thead th {\n",
       "        text-align: right;\n",
       "    }\n",
       "</style>\n",
       "<table border=\"1\" class=\"dataframe\">\n",
       "  <thead>\n",
       "    <tr style=\"text-align: right;\">\n",
       "      <th></th>\n",
       "      <th>count</th>\n",
       "    </tr>\n",
       "    <tr>\n",
       "      <th>datetime</th>\n",
       "      <th></th>\n",
       "    </tr>\n",
       "  </thead>\n",
       "  <tbody>\n",
       "    <tr>\n",
       "      <th>2011-01-01</th>\n",
       "      <td>985</td>\n",
       "    </tr>\n",
       "    <tr>\n",
       "      <th>2011-01-02</th>\n",
       "      <td>801</td>\n",
       "    </tr>\n",
       "    <tr>\n",
       "      <th>2011-01-03</th>\n",
       "      <td>1349</td>\n",
       "    </tr>\n",
       "    <tr>\n",
       "      <th>2011-01-04</th>\n",
       "      <td>1562</td>\n",
       "    </tr>\n",
       "    <tr>\n",
       "      <th>2011-01-05</th>\n",
       "      <td>1600</td>\n",
       "    </tr>\n",
       "  </tbody>\n",
       "</table>\n",
       "</div>"
      ],
      "text/plain": [
       "            count\n",
       "datetime         \n",
       "2011-01-01    985\n",
       "2011-01-02    801\n",
       "2011-01-03   1349\n",
       "2011-01-04   1562\n",
       "2011-01-05   1600"
      ]
     },
     "execution_count": 6,
     "metadata": {},
     "output_type": "execute_result"
    }
   ],
   "source": [
    "df = df.groupby(pd.Grouper(freq = 'D')).sum() #frequência diária]\n",
    "df.head()"
   ]
  },
  {
   "cell_type": "code",
   "execution_count": 7,
   "id": "fccf9071-256d-4904-b21d-3ce7664f36b1",
   "metadata": {},
   "outputs": [
    {
     "data": {
      "text/plain": [
       "(719, 1)"
      ]
     },
     "execution_count": 7,
     "metadata": {},
     "output_type": "execute_result"
    }
   ],
   "source": [
    "# a base de teste é composta de todos os registros\n",
    "df_test = df.copy()\n",
    "df_test.shape"
   ]
  },
  {
   "cell_type": "code",
   "execution_count": 8,
   "id": "2638d186-f309-477e-a799-bf3343909e99",
   "metadata": {},
   "outputs": [
    {
     "data": {
      "text/plain": [
       "(689, 1)"
      ]
     },
     "execution_count": 8,
     "metadata": {},
     "output_type": "execute_result"
    }
   ],
   "source": [
    "# a base de treino será composta por menos registros\n",
    "df_train = df.iloc[0:689,:]\n",
    "df_train.shape"
   ]
  },
  {
   "cell_type": "code",
   "execution_count": 9,
   "id": "a8faea26-b27d-4ac6-81c6-23013206fd83",
   "metadata": {},
   "outputs": [
    {
     "data": {
      "text/plain": [
       "(Timestamp('2011-01-01 00:00:00'), Timestamp('2012-11-19 00:00:00'))"
      ]
     },
     "execution_count": 9,
     "metadata": {},
     "output_type": "execute_result"
    }
   ],
   "source": [
    "df_train.index.min(), df_train.index.max()"
   ]
  },
  {
   "cell_type": "code",
   "execution_count": 10,
   "id": "f71b0047-6033-4235-9422-39e1179c0a66",
   "metadata": {},
   "outputs": [
    {
     "data": {
      "text/plain": [
       "(Timestamp('2011-01-01 00:00:00'), Timestamp('2012-12-19 00:00:00'))"
      ]
     },
     "execution_count": 10,
     "metadata": {},
     "output_type": "execute_result"
    }
   ],
   "source": [
    "df_test.index.min(), df_test.index.max()"
   ]
  },
  {
   "cell_type": "code",
   "execution_count": 11,
   "id": "29cae867-896f-4587-bb66-ee76621c4c61",
   "metadata": {},
   "outputs": [],
   "source": [
    "dt_initial_date = pd.Timestamp(\"2011-01-01\")\n",
    "dt_final_date = pd.Timestamp(\"2012-11-19\")\n",
    "dt_max_prev = pd.Timestamp(\"2012-12-19\")\n",
    "\n",
    "train = (dt_initial_date, dt_final_date)\n",
    "test = (dt_initial_date, dt_max_prev)"
   ]
  },
  {
   "cell_type": "code",
   "execution_count": 12,
   "id": "ff8d482e-10cc-4e98-9194-93df1d18ce20",
   "metadata": {},
   "outputs": [],
   "source": [
    "training_time_series = []\n",
    "test_time_series = []\n",
    "\n",
    "training_time_series.append(df_train[train[0]:train[1]]['count'])\n",
    "test_time_series.append(df_test[test[0]:test[1]]['count'])"
   ]
  },
  {
   "cell_type": "code",
   "execution_count": 13,
   "id": "e5369287-fed4-40e6-8ae3-f5381bbcca89",
   "metadata": {},
   "outputs": [],
   "source": [
    "def encode_target(ts):\n",
    "    return [x if np.isfinite(x) else \"NaN\" for x in ts]"
   ]
  },
  {
   "cell_type": "code",
   "execution_count": 14,
   "id": "3a71743c-1267-4b3e-99ee-b1825d362886",
   "metadata": {
    "scrolled": true
   },
   "outputs": [
    {
     "data": {
      "text/plain": [
       "[985,\n",
       " 801,\n",
       " 1349,\n",
       " 1562,\n",
       " 1600,\n",
       " 1606,\n",
       " 1510,\n",
       " 959,\n",
       " 822,\n",
       " 1321,\n",
       " 1263,\n",
       " 1162,\n",
       " 1406,\n",
       " 1421,\n",
       " 1248,\n",
       " 1204,\n",
       " 1000,\n",
       " 683,\n",
       " 1650,\n",
       " 0,\n",
       " 0,\n",
       " 0,\n",
       " 0,\n",
       " 0,\n",
       " 0]"
      ]
     },
     "execution_count": 14,
     "metadata": {},
     "output_type": "execute_result"
    }
   ],
   "source": [
    "encode_target(training_time_series[0][0:25])"
   ]
  },
  {
   "cell_type": "code",
   "execution_count": 15,
   "id": "c298215e-cc97-4b44-9c11-fc369c92a00c",
   "metadata": {},
   "outputs": [],
   "source": [
    "def series_to_obj(ts):\n",
    "    obj = {\"start\": str(ts.index[0]), \"target\": encode_target(ts)}\n",
    "    return obj"
   ]
  },
  {
   "cell_type": "code",
   "execution_count": 16,
   "id": "e216883c-00c9-478c-a302-605d7a3272a9",
   "metadata": {},
   "outputs": [
    {
     "data": {
      "text/plain": [
       "{'start': '2011-01-01 00:00:00', 'target': [985, 801, 1349, 1562, 1600]}"
      ]
     },
     "execution_count": 16,
     "metadata": {},
     "output_type": "execute_result"
    }
   ],
   "source": [
    "series_to_obj(training_time_series[0][0:5])"
   ]
  },
  {
   "cell_type": "code",
   "execution_count": 17,
   "id": "93a05830-ef1d-44c0-b330-e1291d8f5598",
   "metadata": {},
   "outputs": [],
   "source": [
    "def series_to_jsonline(ts):\n",
    "    return json.dumps(series_to_obj(ts))"
   ]
  },
  {
   "cell_type": "code",
   "execution_count": 18,
   "id": "fdf3a2ec-2053-466c-9047-3d5752e8d431",
   "metadata": {},
   "outputs": [
    {
     "data": {
      "text/plain": [
       "'{\"start\": \"2011-01-01 00:00:00\", \"target\": [985, 801, 1349, 1562, 1600]}'"
      ]
     },
     "execution_count": 18,
     "metadata": {},
     "output_type": "execute_result"
    }
   ],
   "source": [
    "series_to_jsonline(training_time_series[0][0:5])"
   ]
  },
  {
   "cell_type": "code",
   "execution_count": 19,
   "id": "266b7f4c-24a9-420c-98b3-cb02e562196d",
   "metadata": {},
   "outputs": [],
   "source": [
    "encoding = 'utf-8'\n",
    "train_file = 'train.json'\n",
    "test_file = 'test.json'\n",
    "with open(train_file, 'wb') as fp:\n",
    "    for ts in training_time_series:\n",
    "        fp.write(series_to_jsonline(ts).encode(encoding))\n",
    "        fp.write('\\n'.encode(encoding))\n",
    "\n",
    "with open(test_file, 'wb') as fp:\n",
    "    for ts in test_time_series:\n",
    "        fp.write(series_to_jsonline(ts).encode(encoding))\n",
    "        fp.write('\\n'.encode(encoding))"
   ]
  },
  {
   "cell_type": "markdown",
   "id": "80161497-16b1-4ac4-83a3-07b7a54c4115",
   "metadata": {},
   "source": [
    "### Configuração do SageMaker"
   ]
  },
  {
   "cell_type": "code",
   "execution_count": 20,
   "id": "04d4cde7-d124-429d-9877-fb0b63639e33",
   "metadata": {},
   "outputs": [
    {
     "name": "stdout",
     "output_type": "stream",
     "text": [
      "sagemaker.config INFO - Not applying SDK defaults from location: /etc/xdg/sagemaker/config.yaml\n",
      "sagemaker.config INFO - Not applying SDK defaults from location: /home/sagemaker-user/.config/sagemaker/config.yaml\n"
     ]
    }
   ],
   "source": [
    "import boto3\n",
    "import sagemaker"
   ]
  },
  {
   "cell_type": "code",
   "execution_count": 21,
   "id": "814f54d4-7125-437a-b736-0531813bdb21",
   "metadata": {},
   "outputs": [],
   "source": [
    "session = sagemaker.Session()\n",
    "role = sagemaker.get_execution_role()\n",
    "job_name = 'deepar-bike'\n",
    "bucket = 'aws-sagemaker-course-633'\n",
    "subdir_dataset = 'datasets/bike'\n",
    "subdir = 'models/bike/deepar'\n",
    "s3_train_data = 's3://{}/{}/train/{}'.format(bucket, subdir_dataset, 'train.json')\n",
    "s3_test_data = 's3://{}/{}/test/{}'.format(bucket, subdir_dataset, 'test.json')\n",
    "output_location = 's3://{}/{}/output'.format(bucket, subdir)"
   ]
  },
  {
   "cell_type": "code",
   "execution_count": 22,
   "id": "554c1232-fa3f-4e62-94c9-38691376929b",
   "metadata": {},
   "outputs": [],
   "source": [
    "def write_s3(file, bucket, name):\n",
    "    with open(file, 'rb') as f:\n",
    "        return boto3.Session().resource('s3').Bucket(bucket).Object(name).upload_fileobj(f)"
   ]
  },
  {
   "cell_type": "code",
   "execution_count": 23,
   "id": "58b3d027-36df-4188-b62b-14b137dbd487",
   "metadata": {},
   "outputs": [],
   "source": [
    "write_s3('train.json', bucket, os.path.join(subdir_dataset, 'train', 'train.json'))\n",
    "write_s3('test.json', bucket, os.path.join(subdir_dataset, 'test', 'test.json'))"
   ]
  },
  {
   "cell_type": "code",
   "execution_count": 24,
   "id": "03f94938-a53e-4bcf-9775-7aae085aa6d9",
   "metadata": {},
   "outputs": [
    {
     "name": "stdout",
     "output_type": "stream",
     "text": [
      "datasets/bike/train/train.json\n",
      "datasets/bike/test/test.json\n"
     ]
    }
   ],
   "source": [
    "print(os.path.join(subdir_dataset, 'train', 'train.json'))\n",
    "print(os.path.join(subdir_dataset, 'test', 'test.json'))"
   ]
  },
  {
   "cell_type": "markdown",
   "id": "caf6f3e9-c215-4eb1-87ce-b766eea09412",
   "metadata": {},
   "source": [
    "### Treinamento do DeepAR"
   ]
  },
  {
   "cell_type": "code",
   "execution_count": 25,
   "id": "88db4881-90aa-49dc-9e50-c6ae639cb886",
   "metadata": {},
   "outputs": [],
   "source": [
    "container = sagemaker.image_uris.retrieve(framework='forecasting-deepar', region=boto3.Session().region_name)"
   ]
  },
  {
   "cell_type": "code",
   "execution_count": 27,
   "id": "6e67d785-6f88-4333-9d6b-a4f690d9a241",
   "metadata": {},
   "outputs": [],
   "source": [
    "deepar = sagemaker.estimator.Estimator(image_uri=container,\n",
    "                                      role=role,\n",
    "                                      instance_count=1,\n",
    "                                      instance_type='ml.m5.large',\n",
    "                                      output_path=output_location,\n",
    "                                      sagemaker_session=session,\n",
    "                                      base_job_name=job_name,\n",
    "                                      use_spot_instances=True,\n",
    "                                      max_run=3600,\n",
    "                                      max_wait=3600) #se após esse tempo o treinamento não for concluído, ele é encerrado"
   ]
  },
  {
   "cell_type": "code",
   "execution_count": 28,
   "id": "7138f81d-227d-472e-bad2-13585892de5f",
   "metadata": {},
   "outputs": [],
   "source": [
    "time_freq = 'D'\n",
    "prediction_length = 30\n",
    "context_length = 30\n",
    "epochs = 20"
   ]
  },
  {
   "cell_type": "code",
   "execution_count": 30,
   "id": "26283b73-d750-4a12-af01-c9b03e6f79a7",
   "metadata": {},
   "outputs": [],
   "source": [
    "hyperparameters = {\n",
    "    'time_freq': time_freq,\n",
    "    'epochs': epochs,\n",
    "    'context_length': str(context_length),\n",
    "    'prediction_length': str(prediction_length)\n",
    "}"
   ]
  },
  {
   "cell_type": "code",
   "execution_count": 31,
   "id": "854e7411-3819-487d-b918-ba6d1f769592",
   "metadata": {},
   "outputs": [],
   "source": [
    "deepar.set_hyperparameters(**hyperparameters)"
   ]
  },
  {
   "cell_type": "code",
   "execution_count": 32,
   "id": "38454ca9-c4f5-4be9-bdac-e07e401637a7",
   "metadata": {},
   "outputs": [],
   "source": [
    "data_channels = {'train': s3_train_data, 'test': s3_test_data}"
   ]
  },
  {
   "cell_type": "code",
   "execution_count": 33,
   "id": "4f53b871-38b9-4e8b-8226-ff0caa399a5d",
   "metadata": {
    "scrolled": true
   },
   "outputs": [
    {
     "name": "stderr",
     "output_type": "stream",
     "text": [
      "INFO:sagemaker:Creating training-job with name: deepar-bike-2025-01-10-11-05-12-116\n"
     ]
    },
    {
     "name": "stdout",
     "output_type": "stream",
     "text": [
      "2025-01-10 11:05:12 Starting - Starting the training job...\n",
      "2025-01-10 11:05:35 Starting - Preparing the instances for training...\n",
      "2025-01-10 11:06:05 Downloading - Downloading input data...\n",
      "2025-01-10 11:06:35 Downloading - Downloading the training image...............\n",
      "2025-01-10 11:09:07 Training - Training image download completed. Training in progress.\u001b[34mDocker entrypoint called with argument(s): train\u001b[0m\n",
      "\u001b[34mRunning default environment configuration script\u001b[0m\n",
      "\u001b[34mRunning custom environment configuration script\u001b[0m\n",
      "\u001b[34m/opt/amazon/lib/python3.8/site-packages/mxnet/model.py:97: SyntaxWarning: \"is\" with a literal. Did you mean \"==\"?\n",
      "  if num_device is 1 and 'dist' not in kvstore:\u001b[0m\n",
      "\u001b[34m[01/10/2025 11:09:12 INFO 139818025748288] Reading default configuration from /opt/amazon/lib/python3.8/site-packages/algorithm/resources/default-input.json: {'_kvstore': 'auto', '_num_gpus': 'auto', '_num_kv_servers': 'auto', '_tuning_objective_metric': '', 'cardinality': 'auto', 'dropout_rate': '0.10', 'early_stopping_patience': '', 'embedding_dimension': '10', 'learning_rate': '0.001', 'likelihood': 'student-t', 'mini_batch_size': '128', 'num_cells': '40', 'num_dynamic_feat': 'auto', 'num_eval_samples': '100', 'num_layers': '2', 'test_quantiles': '[0.1, 0.2, 0.3, 0.4, 0.5, 0.6, 0.7, 0.8, 0.9]'}\u001b[0m\n",
      "\u001b[34m[01/10/2025 11:09:12 INFO 139818025748288] Merging with provided configuration from /opt/ml/input/config/hyperparameters.json: {'context_length': '30', 'epochs': '10', 'prediction_length': '30', 'time_freq': 'D'}\u001b[0m\n",
      "\u001b[34m[01/10/2025 11:09:12 INFO 139818025748288] Final configuration: {'_kvstore': 'auto', '_num_gpus': 'auto', '_num_kv_servers': 'auto', '_tuning_objective_metric': '', 'cardinality': 'auto', 'dropout_rate': '0.10', 'early_stopping_patience': '', 'embedding_dimension': '10', 'learning_rate': '0.001', 'likelihood': 'student-t', 'mini_batch_size': '128', 'num_cells': '40', 'num_dynamic_feat': 'auto', 'num_eval_samples': '100', 'num_layers': '2', 'test_quantiles': '[0.1, 0.2, 0.3, 0.4, 0.5, 0.6, 0.7, 0.8, 0.9]', 'context_length': '30', 'epochs': '10', 'prediction_length': '30', 'time_freq': 'D'}\u001b[0m\n",
      "\u001b[34mProcess 8 is a worker.\u001b[0m\n",
      "\u001b[34m[01/10/2025 11:09:12 INFO 139818025748288] Detected entry point for worker worker\u001b[0m\n",
      "\u001b[34m[01/10/2025 11:09:13 INFO 139818025748288] random_seed is None\u001b[0m\n",
      "\u001b[34m[01/10/2025 11:09:13 INFO 139818025748288] [cardinality=auto] `cat` field was NOT found in the file `/opt/ml/input/data/train/train.json` and will NOT be used for training.\u001b[0m\n",
      "\u001b[34m[01/10/2025 11:09:13 INFO 139818025748288] [num_dynamic_feat=auto] `dynamic_feat` field was NOT found in the file `/opt/ml/input/data/train/train.json` and will NOT be used for training.\u001b[0m\n",
      "\u001b[34m[01/10/2025 11:09:13 INFO 139818025748288] Training set statistics:\u001b[0m\n",
      "\u001b[34m[01/10/2025 11:09:13 INFO 139818025748288] Integer time series\u001b[0m\n",
      "\u001b[34m[01/10/2025 11:09:13 INFO 139818025748288] number of time series: 1\u001b[0m\n",
      "\u001b[34m[01/10/2025 11:09:13 INFO 139818025748288] number of observations: 689\u001b[0m\n",
      "\u001b[34m[01/10/2025 11:09:13 INFO 139818025748288] mean target length: 689.0\u001b[0m\n",
      "\u001b[34m[01/10/2025 11:09:13 INFO 139818025748288] min/mean/max target: 0.0/2883.1625544267054/8714.0\u001b[0m\n",
      "\u001b[34m[01/10/2025 11:09:13 INFO 139818025748288] mean abs(target): 2883.1625544267054\u001b[0m\n",
      "\u001b[34m[01/10/2025 11:09:13 INFO 139818025748288] contains missing values: no\u001b[0m\n",
      "\u001b[34m[01/10/2025 11:09:13 INFO 139818025748288] Small number of time series. Doing 1280 passes over dataset with prob 1.0 per epoch.\u001b[0m\n",
      "\u001b[34m[01/10/2025 11:09:13 INFO 139818025748288] Test set statistics:\u001b[0m\n",
      "\u001b[34m[01/10/2025 11:09:13 INFO 139818025748288] Integer time series\u001b[0m\n",
      "\u001b[34m[01/10/2025 11:09:13 INFO 139818025748288] number of time series: 1\u001b[0m\n",
      "\u001b[34m[01/10/2025 11:09:13 INFO 139818025748288] number of observations: 719\u001b[0m\n",
      "\u001b[34m[01/10/2025 11:09:13 INFO 139818025748288] mean target length: 719.0\u001b[0m\n",
      "\u001b[34m[01/10/2025 11:09:13 INFO 139818025748288] min/mean/max target: 0.0/2900.5229485396385/8714.0\u001b[0m\n",
      "\u001b[34m[01/10/2025 11:09:13 INFO 139818025748288] mean abs(target): 2900.5229485396385\u001b[0m\n",
      "\u001b[34m[01/10/2025 11:09:13 INFO 139818025748288] contains missing values: no\u001b[0m\n",
      "\u001b[34m/opt/amazon/lib/python3.8/site-packages/algorithm/core/date_feature_set.py:44: FutureWarning: weekofyear and week have been deprecated, please use DatetimeIndex.isocalendar().week instead, which returns a Series.  To exactly reproduce the behavior of week and weekofyear and return an Index, you may call pd.Int64Index(idx.isocalendar().week)\n",
      "  return index.weekofyear / 51.0 - 0.5\u001b[0m\n",
      "\u001b[34m[01/10/2025 11:09:13 INFO 139818025748288] #memory_usage::<batchbuffer> = 16.4599609375 mb\u001b[0m\n",
      "\u001b[34m/opt/amazon/python3.8/lib/python3.8/subprocess.py:848: RuntimeWarning: line buffering (buffering=1) isn't supported in binary mode, the default buffer size will be used\n",
      "  self.stdout = io.open(c2pread, 'rb', bufsize)\u001b[0m\n",
      "\u001b[34m[01/10/2025 11:09:13 INFO 139818025748288] nvidia-smi: took 0.031 seconds to run.\u001b[0m\n",
      "\u001b[34m[01/10/2025 11:09:13 INFO 139818025748288] nvidia-smi identified 0 GPUs.\u001b[0m\n",
      "\u001b[34m[01/10/2025 11:09:13 INFO 139818025748288] Number of GPUs being used: 0\u001b[0m\n",
      "\u001b[34m[01/10/2025 11:09:13 INFO 139818025748288] Create Store: local\u001b[0m\n",
      "\u001b[34m#metrics {\"StartTime\": 1736507353.1604352, \"EndTime\": 1736507353.3010232, \"Dimensions\": {\"Algorithm\": \"AWS/DeepAR\", \"Host\": \"algo-1\", \"Operation\": \"training\"}, \"Metrics\": {\"get_graph.time\": {\"sum\": 139.22619819641113, \"count\": 1, \"min\": 139.22619819641113, \"max\": 139.22619819641113}}}\u001b[0m\n",
      "\u001b[34m[01/10/2025 11:09:13 INFO 139818025748288] Number of GPUs being used: 0\u001b[0m\n",
      "\u001b[34m[01/10/2025 11:09:13 INFO 139818025748288] #memory_usage::<model> = 53 mb\u001b[0m\n",
      "\u001b[34m#metrics {\"StartTime\": 1736507353.3011043, \"EndTime\": 1736507353.5611699, \"Dimensions\": {\"Algorithm\": \"AWS/DeepAR\", \"Host\": \"algo-1\", \"Operation\": \"training\"}, \"Metrics\": {\"initialize.time\": {\"sum\": 400.6009101867676, \"count\": 1, \"min\": 400.6009101867676, \"max\": 400.6009101867676}}}\u001b[0m\n",
      "\u001b[34m[11:09:14] /opt/brazil-pkg-cache/packages/AIAlgorithmsMXNet/AIAlgorithmsMXNet-1.3.x_Cuda_11.1.x.406.0/AL2_x86_64/generic-flavor/src/src/operator/nn/mkldnn/mkldnn_base.cc:74: Allocate 20480 bytes with malloc directly\u001b[0m\n",
      "\u001b[34m[01/10/2025 11:09:14 INFO 139818025748288] Epoch[0] Batch[0] avg_epoch_loss=10.811633\u001b[0m\n",
      "\u001b[34m[01/10/2025 11:09:14 INFO 139818025748288] #quality_metric: host=algo-1, epoch=0, batch=0 train loss <loss>=10.811633110046387\u001b[0m\n",
      "\u001b[34m[01/10/2025 11:09:15 INFO 139818025748288] Epoch[0] Batch[5] avg_epoch_loss=10.071872\u001b[0m\n",
      "\u001b[34m[01/10/2025 11:09:15 INFO 139818025748288] #quality_metric: host=algo-1, epoch=0, batch=5 train loss <loss>=10.071871757507324\u001b[0m\n",
      "\u001b[34m[01/10/2025 11:09:15 INFO 139818025748288] Epoch[0] Batch [5]#011Speed: 405.63 samples/sec#011loss=10.071872\u001b[0m\n",
      "\u001b[34m[01/10/2025 11:09:17 INFO 139818025748288] processed a total of 1275 examples\u001b[0m\n",
      "\u001b[34m#metrics {\"StartTime\": 1736507353.5612342, \"EndTime\": 1736507357.25315, \"Dimensions\": {\"Algorithm\": \"AWS/DeepAR\", \"Host\": \"algo-1\", \"Operation\": \"training\"}, \"Metrics\": {\"epochs\": {\"sum\": 10.0, \"count\": 1, \"min\": 10, \"max\": 10}, \"update.time\": {\"sum\": 3691.830635070801, \"count\": 1, \"min\": 3691.830635070801, \"max\": 3691.830635070801}}}\u001b[0m\n",
      "\u001b[34m[01/10/2025 11:09:17 INFO 139818025748288] #throughput_metric: host=algo-1, train throughput=345.3476202844466 records/second\u001b[0m\n",
      "\u001b[34m[01/10/2025 11:09:17 INFO 139818025748288] #progress_metric: host=algo-1, completed 10.0 % of epochs\u001b[0m\n",
      "\u001b[34m[01/10/2025 11:09:17 INFO 139818025748288] #quality_metric: host=algo-1, epoch=0, train loss <loss>=9.75413990020752\u001b[0m\n",
      "\u001b[34m[01/10/2025 11:09:17 INFO 139818025748288] Epoch[1] Batch[0] avg_epoch_loss=9.178599\u001b[0m\n",
      "\u001b[34m[01/10/2025 11:09:17 INFO 139818025748288] #quality_metric: host=algo-1, epoch=1, batch=0 train loss <loss>=9.17859935760498\u001b[0m\n",
      "\u001b[34m[01/10/2025 11:09:20 INFO 139818025748288] Epoch[1] Batch[5] avg_epoch_loss=9.084984\u001b[0m\n",
      "\u001b[34m[01/10/2025 11:09:20 INFO 139818025748288] #quality_metric: host=algo-1, epoch=1, batch=5 train loss <loss>=9.084983666737875\u001b[0m\n",
      "\u001b[34m[01/10/2025 11:09:20 INFO 139818025748288] Epoch[1] Batch [5]#011Speed: 267.61 samples/sec#011loss=9.084984\u001b[0m\n",
      "\u001b[34m[01/10/2025 11:09:22 INFO 139818025748288] Epoch[1] Batch[10] avg_epoch_loss=8.991988\u001b[0m\n",
      "\u001b[34m[01/10/2025 11:09:22 INFO 139818025748288] #quality_metric: host=algo-1, epoch=1, batch=10 train loss <loss>=8.880392837524415\u001b[0m\n",
      "\u001b[34m[01/10/2025 11:09:22 INFO 139818025748288] Epoch[1] Batch [10]#011Speed: 374.72 samples/sec#011loss=8.880393\u001b[0m\n",
      "\u001b[34m[01/10/2025 11:09:22 INFO 139818025748288] processed a total of 1304 examples\u001b[0m\n",
      "\u001b[34m#metrics {\"StartTime\": 1736507357.2532206, \"EndTime\": 1736507362.080519, \"Dimensions\": {\"Algorithm\": \"AWS/DeepAR\", \"Host\": \"algo-1\", \"Operation\": \"training\"}, \"Metrics\": {\"update.time\": {\"sum\": 4826.565265655518, \"count\": 1, \"min\": 4826.565265655518, \"max\": 4826.565265655518}}}\u001b[0m\n",
      "\u001b[34m[01/10/2025 11:09:22 INFO 139818025748288] #throughput_metric: host=algo-1, train throughput=270.1651494189647 records/second\u001b[0m\n",
      "\u001b[34m[01/10/2025 11:09:22 INFO 139818025748288] #progress_metric: host=algo-1, completed 20.0 % of epochs\u001b[0m\n",
      "\u001b[34m[01/10/2025 11:09:22 INFO 139818025748288] #quality_metric: host=algo-1, epoch=1, train loss <loss>=8.991987835277211\u001b[0m\n",
      "\u001b[34m[01/10/2025 11:09:22 INFO 139818025748288] Epoch[2] Batch[0] avg_epoch_loss=8.802133\u001b[0m\n",
      "\u001b[34m[01/10/2025 11:09:22 INFO 139818025748288] #quality_metric: host=algo-1, epoch=2, batch=0 train loss <loss>=8.802132606506348\u001b[0m\n",
      "\u001b[34m[01/10/2025 11:09:24 INFO 139818025748288] Epoch[2] Batch[5] avg_epoch_loss=8.774065\u001b[0m\n",
      "\u001b[34m[01/10/2025 11:09:24 INFO 139818025748288] #quality_metric: host=algo-1, epoch=2, batch=5 train loss <loss>=8.774065494537354\u001b[0m\n",
      "\u001b[34m[01/10/2025 11:09:24 INFO 139818025748288] Epoch[2] Batch [5]#011Speed: 403.21 samples/sec#011loss=8.774065\u001b[0m\n",
      "\u001b[34m[01/10/2025 11:09:25 INFO 139818025748288] processed a total of 1207 examples\u001b[0m\n",
      "\u001b[34m#metrics {\"StartTime\": 1736507362.0805948, \"EndTime\": 1736507365.6462529, \"Dimensions\": {\"Algorithm\": \"AWS/DeepAR\", \"Host\": \"algo-1\", \"Operation\": \"training\"}, \"Metrics\": {\"update.time\": {\"sum\": 3565.2711391448975, \"count\": 1, \"min\": 3565.2711391448975, \"max\": 3565.2711391448975}}}\u001b[0m\n",
      "\u001b[34m[01/10/2025 11:09:25 INFO 139818025748288] #throughput_metric: host=algo-1, train throughput=338.5341685116827 records/second\u001b[0m\n",
      "\u001b[34m[01/10/2025 11:09:25 INFO 139818025748288] #progress_metric: host=algo-1, completed 30.0 % of epochs\u001b[0m\n",
      "\u001b[34m[01/10/2025 11:09:25 INFO 139818025748288] #quality_metric: host=algo-1, epoch=2, train loss <loss>=8.753088283538819\u001b[0m\n",
      "\u001b[34m[01/10/2025 11:09:26 INFO 139818025748288] Epoch[3] Batch[0] avg_epoch_loss=8.588638\u001b[0m\n",
      "\u001b[34m[01/10/2025 11:09:26 INFO 139818025748288] #quality_metric: host=algo-1, epoch=3, batch=0 train loss <loss>=8.588638305664062\u001b[0m\n",
      "\u001b[34m[01/10/2025 11:09:27 INFO 139818025748288] Epoch[3] Batch[5] avg_epoch_loss=8.522469\u001b[0m\n",
      "\u001b[34m[01/10/2025 11:09:27 INFO 139818025748288] #quality_metric: host=algo-1, epoch=3, batch=5 train loss <loss>=8.522469202677408\u001b[0m\n",
      "\u001b[34m[01/10/2025 11:09:27 INFO 139818025748288] Epoch[3] Batch [5]#011Speed: 407.39 samples/sec#011loss=8.522469\u001b[0m\n",
      "\u001b[34m[01/10/2025 11:09:29 INFO 139818025748288] processed a total of 1228 examples\u001b[0m\n",
      "\u001b[34m#metrics {\"StartTime\": 1736507365.64632, \"EndTime\": 1736507369.2118862, \"Dimensions\": {\"Algorithm\": \"AWS/DeepAR\", \"Host\": \"algo-1\", \"Operation\": \"training\"}, \"Metrics\": {\"update.time\": {\"sum\": 3564.868688583374, \"count\": 1, \"min\": 3564.868688583374, \"max\": 3564.868688583374}}}\u001b[0m\n",
      "\u001b[34m[01/10/2025 11:09:29 INFO 139818025748288] #throughput_metric: host=algo-1, train throughput=344.4634550171894 records/second\u001b[0m\n",
      "\u001b[34m[01/10/2025 11:09:29 INFO 139818025748288] #progress_metric: host=algo-1, completed 40.0 % of epochs\u001b[0m\n",
      "\u001b[34m[01/10/2025 11:09:29 INFO 139818025748288] #quality_metric: host=algo-1, epoch=3, train loss <loss>=8.506529808044434\u001b[0m\n",
      "\u001b[34m[01/10/2025 11:09:29 INFO 139818025748288] Epoch[4] Batch[0] avg_epoch_loss=8.461476\u001b[0m\n",
      "\u001b[34m[01/10/2025 11:09:29 INFO 139818025748288] #quality_metric: host=algo-1, epoch=4, batch=0 train loss <loss>=8.46147632598877\u001b[0m\n",
      "\u001b[34m[01/10/2025 11:09:31 INFO 139818025748288] Epoch[4] Batch[5] avg_epoch_loss=8.454523\u001b[0m\n",
      "\u001b[34m[01/10/2025 11:09:31 INFO 139818025748288] #quality_metric: host=algo-1, epoch=4, batch=5 train loss <loss>=8.45452324549357\u001b[0m\n",
      "\u001b[34m[01/10/2025 11:09:31 INFO 139818025748288] Epoch[4] Batch [5]#011Speed: 398.55 samples/sec#011loss=8.454523\u001b[0m\n",
      "\u001b[34m[01/10/2025 11:09:32 INFO 139818025748288] processed a total of 1246 examples\u001b[0m\n",
      "\u001b[34m#metrics {\"StartTime\": 1736507369.2119496, \"EndTime\": 1736507372.8066626, \"Dimensions\": {\"Algorithm\": \"AWS/DeepAR\", \"Host\": \"algo-1\", \"Operation\": \"training\"}, \"Metrics\": {\"update.time\": {\"sum\": 3593.994140625, \"count\": 1, \"min\": 3593.994140625, \"max\": 3593.994140625}}}\u001b[0m\n",
      "\u001b[34m[01/10/2025 11:09:32 INFO 139818025748288] #throughput_metric: host=algo-1, train throughput=346.6753015820116 records/second\u001b[0m\n",
      "\u001b[34m[01/10/2025 11:09:32 INFO 139818025748288] #progress_metric: host=algo-1, completed 50.0 % of epochs\u001b[0m\n",
      "\u001b[34m[01/10/2025 11:09:32 INFO 139818025748288] #quality_metric: host=algo-1, epoch=4, train loss <loss>=8.439107513427734\u001b[0m\n",
      "\u001b[34m[01/10/2025 11:09:33 INFO 139818025748288] Epoch[5] Batch[0] avg_epoch_loss=8.427536\u001b[0m\n",
      "\u001b[34m[01/10/2025 11:09:33 INFO 139818025748288] #quality_metric: host=algo-1, epoch=5, batch=0 train loss <loss>=8.427536010742188\u001b[0m\n",
      "\u001b[34m[01/10/2025 11:09:35 INFO 139818025748288] Epoch[5] Batch[5] avg_epoch_loss=8.384438\u001b[0m\n",
      "\u001b[34m[01/10/2025 11:09:35 INFO 139818025748288] #quality_metric: host=algo-1, epoch=5, batch=5 train loss <loss>=8.384438196818033\u001b[0m\n",
      "\u001b[34m[01/10/2025 11:09:35 INFO 139818025748288] Epoch[5] Batch [5]#011Speed: 402.68 samples/sec#011loss=8.384438\u001b[0m\n",
      "\u001b[34m[01/10/2025 11:09:36 INFO 139818025748288] Epoch[5] Batch[10] avg_epoch_loss=8.224876\u001b[0m\n",
      "\u001b[34m[01/10/2025 11:09:36 INFO 139818025748288] #quality_metric: host=algo-1, epoch=5, batch=10 train loss <loss>=8.033402061462402\u001b[0m\n",
      "\u001b[34m[01/10/2025 11:09:36 INFO 139818025748288] Epoch[5] Batch [10]#011Speed: 396.50 samples/sec#011loss=8.033402\u001b[0m\n",
      "\u001b[34m[01/10/2025 11:09:36 INFO 139818025748288] processed a total of 1291 examples\u001b[0m\n",
      "\u001b[34m#metrics {\"StartTime\": 1736507372.8067758, \"EndTime\": 1736507376.7215889, \"Dimensions\": {\"Algorithm\": \"AWS/DeepAR\", \"Host\": \"algo-1\", \"Operation\": \"training\"}, \"Metrics\": {\"update.time\": {\"sum\": 3914.3013954162598, \"count\": 1, \"min\": 3914.3013954162598, \"max\": 3914.3013954162598}}}\u001b[0m\n",
      "\u001b[34m[01/10/2025 11:09:36 INFO 139818025748288] #throughput_metric: host=algo-1, train throughput=329.8085231516921 records/second\u001b[0m\n",
      "\u001b[34m[01/10/2025 11:09:36 INFO 139818025748288] #progress_metric: host=algo-1, completed 60.0 % of epochs\u001b[0m\n",
      "\u001b[34m[01/10/2025 11:09:36 INFO 139818025748288] #quality_metric: host=algo-1, epoch=5, train loss <loss>=8.224876317110928\u001b[0m\n",
      "\u001b[34m[01/10/2025 11:09:37 INFO 139818025748288] Epoch[6] Batch[0] avg_epoch_loss=8.203165\u001b[0m\n",
      "\u001b[34m[01/10/2025 11:09:37 INFO 139818025748288] #quality_metric: host=algo-1, epoch=6, batch=0 train loss <loss>=8.203165054321289\u001b[0m\n",
      "\u001b[34m[01/10/2025 11:09:39 INFO 139818025748288] Epoch[6] Batch[5] avg_epoch_loss=8.286860\u001b[0m\n",
      "\u001b[34m[01/10/2025 11:09:39 INFO 139818025748288] #quality_metric: host=algo-1, epoch=6, batch=5 train loss <loss>=8.286859830220541\u001b[0m\n",
      "\u001b[34m[01/10/2025 11:09:39 INFO 139818025748288] Epoch[6] Batch [5]#011Speed: 404.53 samples/sec#011loss=8.286860\u001b[0m\n",
      "\u001b[34m[01/10/2025 11:09:40 INFO 139818025748288] Epoch[6] Batch[10] avg_epoch_loss=8.298066\u001b[0m\n",
      "\u001b[34m[01/10/2025 11:09:40 INFO 139818025748288] #quality_metric: host=algo-1, epoch=6, batch=10 train loss <loss>=8.311513137817382\u001b[0m\n",
      "\u001b[34m[01/10/2025 11:09:40 INFO 139818025748288] Epoch[6] Batch [10]#011Speed: 398.33 samples/sec#011loss=8.311513\u001b[0m\n",
      "\u001b[34m[01/10/2025 11:09:40 INFO 139818025748288] processed a total of 1286 examples\u001b[0m\n",
      "\u001b[34m#metrics {\"StartTime\": 1736507376.721649, \"EndTime\": 1736507380.6377683, \"Dimensions\": {\"Algorithm\": \"AWS/DeepAR\", \"Host\": \"algo-1\", \"Operation\": \"training\"}, \"Metrics\": {\"update.time\": {\"sum\": 3915.4491424560547, \"count\": 1, \"min\": 3915.4491424560547, \"max\": 3915.4491424560547}}}\u001b[0m\n",
      "\u001b[34m[01/10/2025 11:09:40 INFO 139818025748288] #throughput_metric: host=algo-1, train throughput=328.43256484988626 records/second\u001b[0m\n",
      "\u001b[34m[01/10/2025 11:09:40 INFO 139818025748288] #progress_metric: host=algo-1, completed 70.0 % of epochs\u001b[0m\n",
      "\u001b[34m[01/10/2025 11:09:40 INFO 139818025748288] #quality_metric: host=algo-1, epoch=6, train loss <loss>=8.298065879128195\u001b[0m\n",
      "\u001b[34m[01/10/2025 11:09:41 INFO 139818025748288] Epoch[7] Batch[0] avg_epoch_loss=8.184176\u001b[0m\n",
      "\u001b[34m[01/10/2025 11:09:41 INFO 139818025748288] #quality_metric: host=algo-1, epoch=7, batch=0 train loss <loss>=8.184176445007324\u001b[0m\n",
      "\u001b[34m[01/10/2025 11:09:42 INFO 139818025748288] Epoch[7] Batch[5] avg_epoch_loss=8.155335\u001b[0m\n",
      "\u001b[34m[01/10/2025 11:09:42 INFO 139818025748288] #quality_metric: host=algo-1, epoch=7, batch=5 train loss <loss>=8.155335426330566\u001b[0m\n",
      "\u001b[34m[01/10/2025 11:09:42 INFO 139818025748288] Epoch[7] Batch [5]#011Speed: 401.35 samples/sec#011loss=8.155335\u001b[0m\n",
      "\u001b[34m[01/10/2025 11:09:44 INFO 139818025748288] Epoch[7] Batch[10] avg_epoch_loss=8.111653\u001b[0m\n",
      "\u001b[34m[01/10/2025 11:09:44 INFO 139818025748288] #quality_metric: host=algo-1, epoch=7, batch=10 train loss <loss>=8.059234619140625\u001b[0m\n",
      "\u001b[34m[01/10/2025 11:09:44 INFO 139818025748288] Epoch[7] Batch [10]#011Speed: 404.89 samples/sec#011loss=8.059235\u001b[0m\n",
      "\u001b[34m[01/10/2025 11:09:44 INFO 139818025748288] processed a total of 1283 examples\u001b[0m\n",
      "\u001b[34m#metrics {\"StartTime\": 1736507380.6378524, \"EndTime\": 1736507384.5449562, \"Dimensions\": {\"Algorithm\": \"AWS/DeepAR\", \"Host\": \"algo-1\", \"Operation\": \"training\"}, \"Metrics\": {\"update.time\": {\"sum\": 3906.477451324463, \"count\": 1, \"min\": 3906.477451324463, \"max\": 3906.477451324463}}}\u001b[0m\n",
      "\u001b[34m[01/10/2025 11:09:44 INFO 139818025748288] #throughput_metric: host=algo-1, train throughput=328.4205180340439 records/second\u001b[0m\n",
      "\u001b[34m[01/10/2025 11:09:44 INFO 139818025748288] #progress_metric: host=algo-1, completed 80.0 % of epochs\u001b[0m\n",
      "\u001b[34m[01/10/2025 11:09:44 INFO 139818025748288] #quality_metric: host=algo-1, epoch=7, train loss <loss>=8.111653241244229\u001b[0m\n",
      "\u001b[34m[01/10/2025 11:09:45 INFO 139818025748288] Epoch[8] Batch[0] avg_epoch_loss=8.084788\u001b[0m\n",
      "\u001b[34m[01/10/2025 11:09:45 INFO 139818025748288] #quality_metric: host=algo-1, epoch=8, batch=0 train loss <loss>=8.08478832244873\u001b[0m\n",
      "\u001b[34m[01/10/2025 11:09:46 INFO 139818025748288] Epoch[8] Batch[5] avg_epoch_loss=8.062687\u001b[0m\n",
      "\u001b[34m[01/10/2025 11:09:46 INFO 139818025748288] #quality_metric: host=algo-1, epoch=8, batch=5 train loss <loss>=8.062687397003174\u001b[0m\n",
      "\u001b[34m[01/10/2025 11:09:46 INFO 139818025748288] Epoch[8] Batch [5]#011Speed: 401.56 samples/sec#011loss=8.062687\u001b[0m\n",
      "\u001b[34m[01/10/2025 11:09:48 INFO 139818025748288] Epoch[8] Batch[10] avg_epoch_loss=8.065770\u001b[0m\n",
      "\u001b[34m[01/10/2025 11:09:48 INFO 139818025748288] #quality_metric: host=algo-1, epoch=8, batch=10 train loss <loss>=8.069470119476318\u001b[0m\n",
      "\u001b[34m[01/10/2025 11:09:48 INFO 139818025748288] Epoch[8] Batch [10]#011Speed: 399.61 samples/sec#011loss=8.069470\u001b[0m\n",
      "\u001b[34m[01/10/2025 11:09:48 INFO 139818025748288] processed a total of 1329 examples\u001b[0m\n",
      "\u001b[34m#metrics {\"StartTime\": 1736507384.5450149, \"EndTime\": 1736507388.45045, \"Dimensions\": {\"Algorithm\": \"AWS/DeepAR\", \"Host\": \"algo-1\", \"Operation\": \"training\"}, \"Metrics\": {\"update.time\": {\"sum\": 3904.648542404175, \"count\": 1, \"min\": 3904.648542404175, \"max\": 3904.648542404175}}}\u001b[0m\n",
      "\u001b[34m[01/10/2025 11:09:48 INFO 139818025748288] #throughput_metric: host=algo-1, train throughput=340.3499693734302 records/second\u001b[0m\n",
      "\u001b[34m[01/10/2025 11:09:48 INFO 139818025748288] #progress_metric: host=algo-1, completed 90.0 % of epochs\u001b[0m\n",
      "\u001b[34m[01/10/2025 11:09:48 INFO 139818025748288] #quality_metric: host=algo-1, epoch=8, train loss <loss>=8.065770452672785\u001b[0m\n",
      "\u001b[34m[01/10/2025 11:09:49 INFO 139818025748288] Epoch[9] Batch[0] avg_epoch_loss=8.007764\u001b[0m\n",
      "\u001b[34m[01/10/2025 11:09:49 INFO 139818025748288] #quality_metric: host=algo-1, epoch=9, batch=0 train loss <loss>=8.007763862609863\u001b[0m\n",
      "\u001b[34m[01/10/2025 11:09:50 INFO 139818025748288] Epoch[9] Batch[5] avg_epoch_loss=7.893093\u001b[0m\n",
      "\u001b[34m[01/10/2025 11:09:50 INFO 139818025748288] #quality_metric: host=algo-1, epoch=9, batch=5 train loss <loss>=7.89309287071228\u001b[0m\n",
      "\u001b[34m[01/10/2025 11:09:50 INFO 139818025748288] Epoch[9] Batch [5]#011Speed: 401.51 samples/sec#011loss=7.893093\u001b[0m\n",
      "\u001b[34m[01/10/2025 11:09:52 INFO 139818025748288] processed a total of 1258 examples\u001b[0m\n",
      "\u001b[34m#metrics {\"StartTime\": 1736507388.4505153, \"EndTime\": 1736507392.0354111, \"Dimensions\": {\"Algorithm\": \"AWS/DeepAR\", \"Host\": \"algo-1\", \"Operation\": \"training\"}, \"Metrics\": {\"update.time\": {\"sum\": 3584.298849105835, \"count\": 1, \"min\": 3584.298849105835, \"max\": 3584.298849105835}}}\u001b[0m\n",
      "\u001b[34m[01/10/2025 11:09:52 INFO 139818025748288] #throughput_metric: host=algo-1, train throughput=350.9626854815778 records/second\u001b[0m\n",
      "\u001b[34m[01/10/2025 11:09:52 INFO 139818025748288] #progress_metric: host=algo-1, completed 100.0 % of epochs\u001b[0m\n",
      "\u001b[34m[01/10/2025 11:09:52 INFO 139818025748288] #quality_metric: host=algo-1, epoch=9, train loss <loss>=7.909391021728515\u001b[0m\n",
      "\u001b[34m[01/10/2025 11:09:52 INFO 139818025748288] Final loss: 7.909391021728515 (occurred at epoch 9)\u001b[0m\n",
      "\u001b[34m[01/10/2025 11:09:52 INFO 139818025748288] #quality_metric: host=algo-1, train final_loss <loss>=7.909391021728515\u001b[0m\n",
      "\u001b[34m[01/10/2025 11:09:52 INFO 139818025748288] Worker algo-1 finished training.\u001b[0m\n",
      "\u001b[34m[01/10/2025 11:09:52 WARNING 139818025748288] wait_for_all_workers will not sync workers since the kv store is not running distributed\u001b[0m\n",
      "\u001b[34m[01/10/2025 11:09:52 INFO 139818025748288] All workers finished. Serializing model for prediction.\u001b[0m\n",
      "\u001b[34m#metrics {\"StartTime\": 1736507392.0354834, \"EndTime\": 1736507392.2201455, \"Dimensions\": {\"Algorithm\": \"AWS/DeepAR\", \"Host\": \"algo-1\", \"Operation\": \"training\"}, \"Metrics\": {\"get_graph.time\": {\"sum\": 183.51244926452637, \"count\": 1, \"min\": 183.51244926452637, \"max\": 183.51244926452637}}}\u001b[0m\n",
      "\u001b[34m[01/10/2025 11:09:52 INFO 139818025748288] Number of GPUs being used: 0\u001b[0m\n",
      "\u001b[34m#metrics {\"StartTime\": 1736507392.2202086, \"EndTime\": 1736507392.294827, \"Dimensions\": {\"Algorithm\": \"AWS/DeepAR\", \"Host\": \"algo-1\", \"Operation\": \"training\"}, \"Metrics\": {\"finalize.time\": {\"sum\": 258.23378562927246, \"count\": 1, \"min\": 258.23378562927246, \"max\": 258.23378562927246}}}\u001b[0m\n",
      "\u001b[34m[01/10/2025 11:09:52 INFO 139818025748288] Serializing to /opt/ml/model/model_algo-1\u001b[0m\n",
      "\u001b[34m[01/10/2025 11:09:52 INFO 139818025748288] Saved checkpoint to \"/opt/ml/model/model_algo-1-0000.params\"\u001b[0m\n",
      "\u001b[34m#metrics {\"StartTime\": 1736507392.2950299, \"EndTime\": 1736507392.3067305, \"Dimensions\": {\"Algorithm\": \"AWS/DeepAR\", \"Host\": \"algo-1\", \"Operation\": \"training\"}, \"Metrics\": {\"model.serialize.time\": {\"sum\": 11.627435684204102, \"count\": 1, \"min\": 11.627435684204102, \"max\": 11.627435684204102}}}\u001b[0m\n",
      "\u001b[34m[01/10/2025 11:09:52 INFO 139818025748288] Successfully serialized the model for prediction.\u001b[0m\n",
      "\u001b[34m[01/10/2025 11:09:52 INFO 139818025748288] #memory_usage::<batchbuffer> = 16.4599609375 mb\u001b[0m\n",
      "\u001b[34m[01/10/2025 11:09:52 INFO 139818025748288] Evaluating model accuracy on testset using 100 samples\u001b[0m\n",
      "\u001b[34m#metrics {\"StartTime\": 1736507392.306778, \"EndTime\": 1736507392.3125052, \"Dimensions\": {\"Algorithm\": \"AWS/DeepAR\", \"Host\": \"algo-1\", \"Operation\": \"training\"}, \"Metrics\": {\"model.bind.time\": {\"sum\": 0.04100799560546875, \"count\": 1, \"min\": 0.04100799560546875, \"max\": 0.04100799560546875}}}\u001b[0m\n",
      "\u001b[34m#metrics {\"StartTime\": 1736507392.3125634, \"EndTime\": 1736507394.5775375, \"Dimensions\": {\"Algorithm\": \"AWS/DeepAR\", \"Host\": \"algo-1\", \"Operation\": \"training\"}, \"Metrics\": {\"model.score.time\": {\"sum\": 2265.0985717773438, \"count\": 1, \"min\": 2265.0985717773438, \"max\": 2265.0985717773438}}}\u001b[0m\n",
      "\u001b[34m[01/10/2025 11:09:54 INFO 139818025748288] #test_score (algo-1, RMSE): 910.4104202684267\u001b[0m\n",
      "\u001b[34m[01/10/2025 11:09:54 INFO 139818025748288] #test_score (algo-1, mean_absolute_QuantileLoss): 13863.035216098362\u001b[0m\n",
      "\u001b[34m[01/10/2025 11:09:54 INFO 139818025748288] #test_score (algo-1, mean_wQuantileLoss): 0.140063198683516\u001b[0m\n",
      "\u001b[34m[01/10/2025 11:09:54 INFO 139818025748288] #test_score (algo-1, wQuantileLoss[0.1]): 0.09267632563744291\u001b[0m\n",
      "\u001b[34m[01/10/2025 11:09:54 INFO 139818025748288] #test_score (algo-1, wQuantileLoss[0.2]): 0.13538232230217073\u001b[0m\n",
      "\u001b[34m[01/10/2025 11:09:54 INFO 139818025748288] #test_score (algo-1, wQuantileLoss[0.3]): 0.1578572759365541\u001b[0m\n",
      "\u001b[34m[01/10/2025 11:09:54 INFO 139818025748288] #test_score (algo-1, wQuantileLoss[0.4]): 0.16527770126911487\u001b[0m\n",
      "\u001b[34m[01/10/2025 11:09:54 INFO 139818025748288] #test_score (algo-1, wQuantileLoss[0.5]): 0.16174495461187577\u001b[0m\n",
      "\u001b[34m[01/10/2025 11:09:54 INFO 139818025748288] #test_score (algo-1, wQuantileLoss[0.6]): 0.15580930963922057\u001b[0m\n",
      "\u001b[34m[01/10/2025 11:09:54 INFO 139818025748288] #test_score (algo-1, wQuantileLoss[0.7]): 0.15171028979025006\u001b[0m\n",
      "\u001b[34m[01/10/2025 11:09:54 INFO 139818025748288] #test_score (algo-1, wQuantileLoss[0.8]): 0.13545709306646445\u001b[0m\n",
      "\u001b[34m[01/10/2025 11:09:54 INFO 139818025748288] #test_score (algo-1, wQuantileLoss[0.9]): 0.10465351589855035\u001b[0m\n",
      "\u001b[34m[01/10/2025 11:09:54 INFO 139818025748288] #quality_metric: host=algo-1, test RMSE <loss>=910.4104202684267\u001b[0m\n",
      "\u001b[34m[01/10/2025 11:09:54 INFO 139818025748288] #quality_metric: host=algo-1, test mean_wQuantileLoss <loss>=0.140063198683516\u001b[0m\n",
      "\u001b[34m#metrics {\"StartTime\": 1736507394.5776136, \"EndTime\": 1736507394.601371, \"Dimensions\": {\"Algorithm\": \"AWS/DeepAR\", \"Host\": \"algo-1\", \"Operation\": \"training\"}, \"Metrics\": {\"setuptime\": {\"sum\": 4.422903060913086, \"count\": 1, \"min\": 4.422903060913086, \"max\": 4.422903060913086}, \"totaltime\": {\"sum\": 41799.82328414917, \"count\": 1, \"min\": 41799.82328414917, \"max\": 41799.82328414917}}}\u001b[0m\n",
      "\n",
      "2025-01-10 11:10:15 Uploading - Uploading generated training model\n",
      "2025-01-10 11:10:15 Completed - Training job completed\n",
      "Training seconds: 250\n",
      "Billable seconds: 96\n",
      "Managed Spot Training savings: 61.6%\n"
     ]
    }
   ],
   "source": [
    "deepar.fit(inputs = data_channels)"
   ]
  },
  {
   "cell_type": "markdown",
   "id": "28b6f571-b923-44fd-a731-15f36fec3a73",
   "metadata": {},
   "source": [
    "### Deploy e previsões"
   ]
  },
  {
   "cell_type": "code",
   "execution_count": 34,
   "id": "8ce0a91d-4a5b-4f34-9dde-3395bac274fb",
   "metadata": {},
   "outputs": [
    {
     "name": "stdout",
     "output_type": "stream",
     "text": [
      "Job name:  deepar-bike-2025-01-10-11-05-12-116\n"
     ]
    }
   ],
   "source": [
    "job_name = deepar.latest_training_job.name\n",
    "print('Job name: ', job_name)"
   ]
  },
  {
   "cell_type": "code",
   "execution_count": 35,
   "id": "2d996f17-17bb-4fc6-b246-a21020ecc0bf",
   "metadata": {},
   "outputs": [
    {
     "name": "stderr",
     "output_type": "stream",
     "text": [
      "INFO:sagemaker:Creating model with name: deepar-bike-2025-01-10-11-05-12-116\n",
      "INFO:sagemaker:Creating endpoint-config with name deepar-bike-2025-01-10-11-05-12-116\n",
      "INFO:sagemaker:Creating endpoint with name deepar-bike-2025-01-10-11-05-12-116\n"
     ]
    },
    {
     "name": "stdout",
     "output_type": "stream",
     "text": [
      "--------!"
     ]
    }
   ],
   "source": [
    "endpoint = session.endpoint_from_job(job_name = job_name,\n",
    "                                    initial_instance_count=1,\n",
    "                                    instance_type='ml.m5.large',\n",
    "                                    image_uri=container,\n",
    "                                    role=role)"
   ]
  },
  {
   "cell_type": "code",
   "execution_count": 36,
   "id": "c606999a-b862-4708-ba2d-fc527dcba047",
   "metadata": {},
   "outputs": [
    {
     "name": "stdout",
     "output_type": "stream",
     "text": [
      "Endpoint:  deepar-bike-2025-01-10-11-05-12-116\n"
     ]
    }
   ],
   "source": [
    "print('Endpoint: ', endpoint)"
   ]
  },
  {
   "cell_type": "code",
   "execution_count": 37,
   "id": "bfa32f2d-72a1-41ec-833d-8400ee69ffdc",
   "metadata": {},
   "outputs": [],
   "source": [
    "class DeepARPredictor(sagemaker.predictor.Predictor):\n",
    "\n",
    "    def set_prediction_parameters(self, freq, prediction_length):\n",
    "        \"\"\"Set the time frequency and prediction length parameters. \n",
    "          This method **must** be called before being able to use `predict`.\n",
    "        \n",
    "        Parameters:\n",
    "        freq -- string indicating the time frequency\n",
    "        prediction_length -- integer, number of predicted time points\n",
    "        \n",
    "        Return value: none.\n",
    "        \"\"\"\n",
    "        self.freq = freq\n",
    "        self.prediction_length = prediction_length\n",
    "        \n",
    "    def predict(self, ts, cat=None, dynamic_feat=None, \n",
    "                encoding=\"utf-8\", num_samples=100, quantiles=[\"0.1\", \"0.5\", \"0.9\"]):\n",
    "        \"\"\"Requests the prediction of for the time series listed in `ts`, \n",
    "           each with the (optional) corresponding category listed in `cat`.\n",
    "        \n",
    "        Parameters:\n",
    "        ts -- list of `pandas.Series` objects, the time series to predict\n",
    "        cat -- list of integers (default: None)\n",
    "        encoding -- string, encoding to use for the request (default: \"utf-8\")\n",
    "        num_samples -- integer, number of samples to compute at prediction time (default: 100)\n",
    "        quantiles -- list of strings specifying the quantiles to compute (default: [\"0.1\", \"0.5\", \"0.9\"])\n",
    "        \n",
    "        Return value: list of `pandas.DataFrame` objects, each containing the predictions\n",
    "        \"\"\"\n",
    "        prediction_times = [x.index[-1] + datetime.timedelta(hours=1) for x in ts] \n",
    "        \n",
    "        req = self.__encode_request(ts, cat, dynamic_feat, encoding, num_samples, quantiles)\n",
    "        res = super(DeepARPredictor, self).predict(req)\n",
    "        return self.__decode_response(res, prediction_times, encoding)\n",
    "    \n",
    "    def __encode_request(self, ts, cat, dynamic_feat, encoding, num_samples, quantiles):\n",
    "        \n",
    "        instances = [series_to_obj(ts[k]) for k in range(len(ts))]\n",
    "        \n",
    "        configuration = {\"num_samples\": num_samples, \"output_types\": [\"quantiles\"], \"quantiles\": quantiles}\n",
    "        http_request_data = {\"instances\": instances, \"configuration\": configuration}\n",
    "        return json.dumps(http_request_data).encode(encoding)\n",
    "    \n",
    "    def __decode_response(self, response, prediction_times, encoding):\n",
    "        response_data = json.loads(response.decode(encoding))\n",
    "        list_of_df = []\n",
    "        for k in range(len(prediction_times)):\n",
    "            prediction_index = pd.date_range(start=prediction_times[k], freq=self.freq, periods=self.prediction_length)\n",
    "            list_of_df.append(pd.DataFrame(data=response_data['predictions'][k]['quantiles'], index=prediction_index))\n",
    "        return list_of_df"
   ]
  },
  {
   "cell_type": "code",
   "execution_count": 39,
   "id": "1adbdbca-99cd-484d-bb8b-227d279ecd37",
   "metadata": {},
   "outputs": [],
   "source": [
    "predictor = DeepARPredictor(endpoint_name='deepar-bike-2025-01-10-11-05-12-116',\n",
    "                           sagemaker_session=session)\n",
    "predictor.set_prediction_parameters(time_freq, prediction_length)\n",
    "predictor.serializer.content_type = 'application/json'"
   ]
  },
  {
   "cell_type": "code",
   "execution_count": 42,
   "id": "b0fe5fed-e2c9-4903-8160-944da147bb98",
   "metadata": {},
   "outputs": [],
   "source": [
    "previsions = predictor.predict(training_time_series)"
   ]
  },
  {
   "cell_type": "code",
   "execution_count": 44,
   "id": "f8f95780-2ba5-407c-beca-c910e5ebc5e9",
   "metadata": {
    "scrolled": true
   },
   "outputs": [
    {
     "data": {
      "text/plain": [
       "[                             0.1          0.5          0.9\n",
       " 2012-11-19 01:00:00   -45.119568   937.230774  1868.121704\n",
       " 2012-11-20 01:00:00  -476.939575    85.442764   576.036804\n",
       " 2012-11-21 01:00:00  -837.428345  -315.958130   279.133789\n",
       " 2012-11-22 01:00:00  -554.868835   -75.794647   356.453247\n",
       " 2012-11-23 01:00:00  -416.060120   -50.805313   228.427841\n",
       " 2012-11-24 01:00:00  -354.909973   -69.593712   285.551056\n",
       " 2012-11-25 01:00:00  -256.573547    64.779175   397.313538\n",
       " 2012-11-26 01:00:00  -247.697021    11.533298   351.635376\n",
       " 2012-11-27 01:00:00  -676.537781   -83.863564   307.514679\n",
       " 2012-11-28 01:00:00  -537.085754  -109.417656   459.190643\n",
       " 2012-11-29 01:00:00   104.982941   574.327454  1155.970215\n",
       " 2012-11-30 01:00:00  1533.229736  2433.043457  3311.469482\n",
       " 2012-12-01 01:00:00  3691.087402  4527.941895  5660.712891\n",
       " 2012-12-02 01:00:00  4501.248535  5682.468750  6911.453125\n",
       " 2012-12-03 01:00:00  4727.034668  6329.863281  7378.982910\n",
       " 2012-12-04 01:00:00  4425.099121  5723.844238  6769.559570\n",
       " 2012-12-05 01:00:00  4079.279785  5574.643066  6619.308105\n",
       " 2012-12-06 01:00:00  4105.277344  5211.313965  6721.948730\n",
       " 2012-12-07 01:00:00  4367.919434  5314.661133  6470.060059\n",
       " 2012-12-08 01:00:00  4213.470215  5424.705078  6812.947266\n",
       " 2012-12-09 01:00:00  4132.648438  5366.300781  6386.231445\n",
       " 2012-12-10 01:00:00  4411.664062  5779.382324  6751.550781\n",
       " 2012-12-11 01:00:00  4399.344727  5380.857422  6650.172852\n",
       " 2012-12-12 01:00:00  4165.356934  5145.573730  6352.443359\n",
       " 2012-12-13 01:00:00  3628.796387  5509.159668  6644.902832\n",
       " 2012-12-14 01:00:00  4726.708008  5730.377930  6906.316895\n",
       " 2012-12-15 01:00:00  4388.194824  5774.973633  7347.518555\n",
       " 2012-12-16 01:00:00  4638.227539  5689.623535  7497.126953\n",
       " 2012-12-17 01:00:00  3880.231445  5394.965332  6923.099121\n",
       " 2012-12-18 01:00:00  2513.097656  3720.525146  5091.597168]"
      ]
     },
     "execution_count": 44,
     "metadata": {},
     "output_type": "execute_result"
    }
   ],
   "source": [
    "previsions"
   ]
  },
  {
   "cell_type": "code",
   "execution_count": 51,
   "id": "eacafbec-1017-4c92-9f0d-e26d54139614",
   "metadata": {},
   "outputs": [
    {
     "data": {
      "image/png": "[encoded data removed]",
      "text/plain": [
       "<Figure size 1200x600 with 1 Axes>"
      ]
     },
     "metadata": {},
     "output_type": "display_data"
    }
   ],
   "source": [
    "for k in range(len(previsions)):\n",
    "    plt.figure(figsize=(12,6))\n",
    "    previsions[k]['0.5'].plot(label='Mediana', color='red')\n",
    "    test_time_series[k][-prediction_length - context_length:].plot(label='Alvo')\n",
    "    p10 = previsions[k]['0.1']\n",
    "    p90 = previsions[k]['0.9']\n",
    "    plt.fill_between(p10.index, p10, p90, color='y', alpha=0.5, label='Intervalo de Confiança')\n",
    "    plt.legend()\n",
    "    plt.show()"
   ]
  },
  {
   "cell_type": "code",
   "execution_count": null,
   "id": "5d95fd0a-a094-4571-83cf-4ab2fef5c4cc",
   "metadata": {},
   "outputs": [],
   "source": []
  }
 ],
 "metadata": {
  "kernelspec": {
   "display_name": "Python 3 (ipykernel)",
   "language": "python",
   "name": "python3"
  },
  "language_info": {
   "codemirror_mode": {
    "name": "ipython",
    "version": 3
   },
   "file_extension": ".py",
   "mimetype": "text/x-python",
   "name": "python",
   "nbconvert_exporter": "python",
   "pygments_lexer": "ipython3",
   "version": "3.11.11"
  },
  "widgets": {
   "application/vnd.jupyter.widget-state+json": {
    "state": {},
    "version_major": 2,
    "version_minor": 0
   }
  }
 },
 "nbformat": 4,
 "nbformat_minor": 5
}
