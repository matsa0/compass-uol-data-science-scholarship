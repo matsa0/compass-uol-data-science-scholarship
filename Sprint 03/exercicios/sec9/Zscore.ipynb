{
 "cells": [
  {
   "cell_type": "code",
   "execution_count": 1,
   "metadata": {
    "id": "EXi6YKnRaANw"
   },
   "outputs": [],
   "source": [
    "import numpy as np\n",
    "import scipy.stats as stats"
   ]
  },
  {
   "cell_type": "code",
   "execution_count": 8,
   "metadata": {
    "id": "fsAR1KTbalRA"
   },
   "outputs": [],
   "source": [
    "data = np.array([30,29,30,31,100,29,28,30,300,31,32,33])"
   ]
  },
  {
   "cell_type": "code",
   "execution_count": 9,
   "metadata": {
    "colab": {
     "base_uri": "https://localhost:8080/"
    },
    "id": "TYszzJREaxqO",
    "outputId": "3552d993-481b-442f-a70e-647b5ed69976"
   },
   "outputs": [
    {
     "name": "stdout",
     "output_type": "stream",
     "text": [
      "[-0.37966016 -0.39294273 -0.37966016 -0.36637759  0.55011982 -0.39294273\n",
      " -0.4062253  -0.37966016  3.20663406 -0.36637759 -0.35309502 -0.33981245]\n"
     ]
    }
   ],
   "source": [
    "zscores = stats.zscore(data)\n",
    "print(zscores)"
   ]
  },
  {
   "cell_type": "code",
   "execution_count": 10,
   "metadata": {
    "colab": {
     "base_uri": "https://localhost:8080/"
    },
    "id": "RuCqzWisbGGG",
    "outputId": "f3f7e863-604c-4b65-aef4-830c16b22600"
   },
   "outputs": [
    {
     "name": "stdout",
     "output_type": "stream",
     "text": [
      "Anomlias Identificadas: [300]\n"
     ]
    }
   ],
   "source": [
    "anomalia = data[np.abs(zscores)>3]\n",
    "print(f\"Anomlias Identificadas: {anomalia}\")"
   ]
  },
  {
   "cell_type": "code",
   "execution_count": null,
   "metadata": {
    "id": "u7Qr2c3RbfTI"
   },
   "outputs": [],
   "source": []
  }
 ],
 "metadata": {
  "colab": {
   "provenance": []
  },
  "kernelspec": {
   "display_name": "Python 3 (ipykernel)",
   "language": "python",
   "name": "python3"
  },
  "language_info": {
   "codemirror_mode": {
    "name": "ipython",
    "version": 3
   },
   "file_extension": ".py",
   "mimetype": "text/x-python",
   "name": "python",
   "nbconvert_exporter": "python",
   "pygments_lexer": "ipython3",
   "version": "3.12.3"
  }
 },
 "nbformat": 4,
 "nbformat_minor": 1
}
